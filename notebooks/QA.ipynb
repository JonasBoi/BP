{
  "nbformat": 4,
  "nbformat_minor": 0,
  "metadata": {
    "colab": {
      "name": "question_answering.ipynb",
      "provenance": [],
      "collapsed_sections": [
        "TshLGyuzEUpf",
        "5N3VXCshEY3g",
        "BYPwBfguEgAb"
      ],
      "toc_visible": true
    },
    "kernelspec": {
      "name": "python3",
      "display_name": "Python 3"
    },
    "accelerator": "GPU",
    "widgets": {
      "application/vnd.jupyter.widget-state+json": {
        "c0b370dbd82d421c8b31bf82d84434eb": {
          "model_module": "@jupyter-widgets/controls",
          "model_name": "HBoxModel",
          "state": {
            "_view_name": "HBoxView",
            "_dom_classes": [],
            "_model_name": "HBoxModel",
            "_view_module": "@jupyter-widgets/controls",
            "_model_module_version": "1.5.0",
            "_view_count": null,
            "_view_module_version": "1.5.0",
            "box_style": "",
            "layout": "IPY_MODEL_d15be6c72131485285b306dfb0712513",
            "_model_module": "@jupyter-widgets/controls",
            "children": [
              "IPY_MODEL_d94065c879c34ee38c4f43deb5b9f21f",
              "IPY_MODEL_db3c3f8e39ac4806b583fe8d166517a1"
            ]
          }
        },
        "d15be6c72131485285b306dfb0712513": {
          "model_module": "@jupyter-widgets/base",
          "model_name": "LayoutModel",
          "state": {
            "_view_name": "LayoutView",
            "grid_template_rows": null,
            "right": null,
            "justify_content": null,
            "_view_module": "@jupyter-widgets/base",
            "overflow": null,
            "_model_module_version": "1.2.0",
            "_view_count": null,
            "flex_flow": null,
            "width": null,
            "min_width": null,
            "border": null,
            "align_items": null,
            "bottom": null,
            "_model_module": "@jupyter-widgets/base",
            "top": null,
            "grid_column": null,
            "overflow_y": null,
            "overflow_x": null,
            "grid_auto_flow": null,
            "grid_area": null,
            "grid_template_columns": null,
            "flex": null,
            "_model_name": "LayoutModel",
            "justify_items": null,
            "grid_row": null,
            "max_height": null,
            "align_content": null,
            "visibility": null,
            "align_self": null,
            "height": null,
            "min_height": null,
            "padding": null,
            "grid_auto_rows": null,
            "grid_gap": null,
            "max_width": null,
            "order": null,
            "_view_module_version": "1.2.0",
            "grid_template_areas": null,
            "object_position": null,
            "object_fit": null,
            "grid_auto_columns": null,
            "margin": null,
            "display": null,
            "left": null
          }
        },
        "d94065c879c34ee38c4f43deb5b9f21f": {
          "model_module": "@jupyter-widgets/controls",
          "model_name": "FloatProgressModel",
          "state": {
            "_view_name": "ProgressView",
            "style": "IPY_MODEL_597de0c0e69b4eeaba5c931a01b076e6",
            "_dom_classes": [],
            "description": "100%",
            "_model_name": "FloatProgressModel",
            "bar_style": "success",
            "max": 51,
            "_view_module": "@jupyter-widgets/controls",
            "_model_module_version": "1.5.0",
            "value": 51,
            "_view_count": null,
            "_view_module_version": "1.5.0",
            "orientation": "horizontal",
            "min": 0,
            "description_tooltip": null,
            "_model_module": "@jupyter-widgets/controls",
            "layout": "IPY_MODEL_1c2b8d65876c47859f8120c07068f841"
          }
        },
        "db3c3f8e39ac4806b583fe8d166517a1": {
          "model_module": "@jupyter-widgets/controls",
          "model_name": "HTMLModel",
          "state": {
            "_view_name": "HTMLView",
            "style": "IPY_MODEL_0f2b224c0fbd495d9bc82eab78973986",
            "_dom_classes": [],
            "description": "",
            "_model_name": "HTMLModel",
            "placeholder": "​",
            "_view_module": "@jupyter-widgets/controls",
            "_model_module_version": "1.5.0",
            "value": " 51/51 [00:44&lt;00:00,  1.15it/s]",
            "_view_count": null,
            "_view_module_version": "1.5.0",
            "description_tooltip": null,
            "_model_module": "@jupyter-widgets/controls",
            "layout": "IPY_MODEL_d0d525b46ecb41fd8213c2896a6026e8"
          }
        },
        "597de0c0e69b4eeaba5c931a01b076e6": {
          "model_module": "@jupyter-widgets/controls",
          "model_name": "ProgressStyleModel",
          "state": {
            "_view_name": "StyleView",
            "_model_name": "ProgressStyleModel",
            "description_width": "initial",
            "_view_module": "@jupyter-widgets/base",
            "_model_module_version": "1.5.0",
            "_view_count": null,
            "_view_module_version": "1.2.0",
            "bar_color": null,
            "_model_module": "@jupyter-widgets/controls"
          }
        },
        "1c2b8d65876c47859f8120c07068f841": {
          "model_module": "@jupyter-widgets/base",
          "model_name": "LayoutModel",
          "state": {
            "_view_name": "LayoutView",
            "grid_template_rows": null,
            "right": null,
            "justify_content": null,
            "_view_module": "@jupyter-widgets/base",
            "overflow": null,
            "_model_module_version": "1.2.0",
            "_view_count": null,
            "flex_flow": null,
            "width": null,
            "min_width": null,
            "border": null,
            "align_items": null,
            "bottom": null,
            "_model_module": "@jupyter-widgets/base",
            "top": null,
            "grid_column": null,
            "overflow_y": null,
            "overflow_x": null,
            "grid_auto_flow": null,
            "grid_area": null,
            "grid_template_columns": null,
            "flex": null,
            "_model_name": "LayoutModel",
            "justify_items": null,
            "grid_row": null,
            "max_height": null,
            "align_content": null,
            "visibility": null,
            "align_self": null,
            "height": null,
            "min_height": null,
            "padding": null,
            "grid_auto_rows": null,
            "grid_gap": null,
            "max_width": null,
            "order": null,
            "_view_module_version": "1.2.0",
            "grid_template_areas": null,
            "object_position": null,
            "object_fit": null,
            "grid_auto_columns": null,
            "margin": null,
            "display": null,
            "left": null
          }
        },
        "0f2b224c0fbd495d9bc82eab78973986": {
          "model_module": "@jupyter-widgets/controls",
          "model_name": "DescriptionStyleModel",
          "state": {
            "_view_name": "StyleView",
            "_model_name": "DescriptionStyleModel",
            "description_width": "",
            "_view_module": "@jupyter-widgets/base",
            "_model_module_version": "1.5.0",
            "_view_count": null,
            "_view_module_version": "1.2.0",
            "_model_module": "@jupyter-widgets/controls"
          }
        },
        "d0d525b46ecb41fd8213c2896a6026e8": {
          "model_module": "@jupyter-widgets/base",
          "model_name": "LayoutModel",
          "state": {
            "_view_name": "LayoutView",
            "grid_template_rows": null,
            "right": null,
            "justify_content": null,
            "_view_module": "@jupyter-widgets/base",
            "overflow": null,
            "_model_module_version": "1.2.0",
            "_view_count": null,
            "flex_flow": null,
            "width": null,
            "min_width": null,
            "border": null,
            "align_items": null,
            "bottom": null,
            "_model_module": "@jupyter-widgets/base",
            "top": null,
            "grid_column": null,
            "overflow_y": null,
            "overflow_x": null,
            "grid_auto_flow": null,
            "grid_area": null,
            "grid_template_columns": null,
            "flex": null,
            "_model_name": "LayoutModel",
            "justify_items": null,
            "grid_row": null,
            "max_height": null,
            "align_content": null,
            "visibility": null,
            "align_self": null,
            "height": null,
            "min_height": null,
            "padding": null,
            "grid_auto_rows": null,
            "grid_gap": null,
            "max_width": null,
            "order": null,
            "_view_module_version": "1.2.0",
            "grid_template_areas": null,
            "object_position": null,
            "object_fit": null,
            "grid_auto_columns": null,
            "margin": null,
            "display": null,
            "left": null
          }
        },
        "a219392acb2746579a4bc38e6b982b0d": {
          "model_module": "@jupyter-widgets/controls",
          "model_name": "HBoxModel",
          "state": {
            "_view_name": "HBoxView",
            "_dom_classes": [],
            "_model_name": "HBoxModel",
            "_view_module": "@jupyter-widgets/controls",
            "_model_module_version": "1.5.0",
            "_view_count": null,
            "_view_module_version": "1.5.0",
            "box_style": "",
            "layout": "IPY_MODEL_5fe2ccd7462a4a28a11948c440aa91fb",
            "_model_module": "@jupyter-widgets/controls",
            "children": [
              "IPY_MODEL_6022ecf4e9f8444daa5a045cb74ba24d",
              "IPY_MODEL_d4d3d2509a734275b45e47be811555fc"
            ]
          }
        },
        "5fe2ccd7462a4a28a11948c440aa91fb": {
          "model_module": "@jupyter-widgets/base",
          "model_name": "LayoutModel",
          "state": {
            "_view_name": "LayoutView",
            "grid_template_rows": null,
            "right": null,
            "justify_content": null,
            "_view_module": "@jupyter-widgets/base",
            "overflow": null,
            "_model_module_version": "1.2.0",
            "_view_count": null,
            "flex_flow": null,
            "width": null,
            "min_width": null,
            "border": null,
            "align_items": null,
            "bottom": null,
            "_model_module": "@jupyter-widgets/base",
            "top": null,
            "grid_column": null,
            "overflow_y": null,
            "overflow_x": null,
            "grid_auto_flow": null,
            "grid_area": null,
            "grid_template_columns": null,
            "flex": null,
            "_model_name": "LayoutModel",
            "justify_items": null,
            "grid_row": null,
            "max_height": null,
            "align_content": null,
            "visibility": null,
            "align_self": null,
            "height": null,
            "min_height": null,
            "padding": null,
            "grid_auto_rows": null,
            "grid_gap": null,
            "max_width": null,
            "order": null,
            "_view_module_version": "1.2.0",
            "grid_template_areas": null,
            "object_position": null,
            "object_fit": null,
            "grid_auto_columns": null,
            "margin": null,
            "display": null,
            "left": null
          }
        },
        "6022ecf4e9f8444daa5a045cb74ba24d": {
          "model_module": "@jupyter-widgets/controls",
          "model_name": "FloatProgressModel",
          "state": {
            "_view_name": "ProgressView",
            "style": "IPY_MODEL_ddf8ae4d2e9346df8a9eb04a84107f5a",
            "_dom_classes": [],
            "description": "100%",
            "_model_name": "FloatProgressModel",
            "bar_style": "success",
            "max": 101,
            "_view_module": "@jupyter-widgets/controls",
            "_model_module_version": "1.5.0",
            "value": 101,
            "_view_count": null,
            "_view_module_version": "1.5.0",
            "orientation": "horizontal",
            "min": 0,
            "description_tooltip": null,
            "_model_module": "@jupyter-widgets/controls",
            "layout": "IPY_MODEL_076575f8863a4fe0abff48e061ba4d4d"
          }
        },
        "d4d3d2509a734275b45e47be811555fc": {
          "model_module": "@jupyter-widgets/controls",
          "model_name": "HTMLModel",
          "state": {
            "_view_name": "HTMLView",
            "style": "IPY_MODEL_c51f410f8c974080b8ec979782055621",
            "_dom_classes": [],
            "description": "",
            "_model_name": "HTMLModel",
            "placeholder": "​",
            "_view_module": "@jupyter-widgets/controls",
            "_model_module_version": "1.5.0",
            "value": " 101/101 [26:09&lt;00:00, 15.54s/it]",
            "_view_count": null,
            "_view_module_version": "1.5.0",
            "description_tooltip": null,
            "_model_module": "@jupyter-widgets/controls",
            "layout": "IPY_MODEL_54fd9fc03c39465a855208c9e2c664ce"
          }
        },
        "ddf8ae4d2e9346df8a9eb04a84107f5a": {
          "model_module": "@jupyter-widgets/controls",
          "model_name": "ProgressStyleModel",
          "state": {
            "_view_name": "StyleView",
            "_model_name": "ProgressStyleModel",
            "description_width": "initial",
            "_view_module": "@jupyter-widgets/base",
            "_model_module_version": "1.5.0",
            "_view_count": null,
            "_view_module_version": "1.2.0",
            "bar_color": null,
            "_model_module": "@jupyter-widgets/controls"
          }
        },
        "076575f8863a4fe0abff48e061ba4d4d": {
          "model_module": "@jupyter-widgets/base",
          "model_name": "LayoutModel",
          "state": {
            "_view_name": "LayoutView",
            "grid_template_rows": null,
            "right": null,
            "justify_content": null,
            "_view_module": "@jupyter-widgets/base",
            "overflow": null,
            "_model_module_version": "1.2.0",
            "_view_count": null,
            "flex_flow": null,
            "width": null,
            "min_width": null,
            "border": null,
            "align_items": null,
            "bottom": null,
            "_model_module": "@jupyter-widgets/base",
            "top": null,
            "grid_column": null,
            "overflow_y": null,
            "overflow_x": null,
            "grid_auto_flow": null,
            "grid_area": null,
            "grid_template_columns": null,
            "flex": null,
            "_model_name": "LayoutModel",
            "justify_items": null,
            "grid_row": null,
            "max_height": null,
            "align_content": null,
            "visibility": null,
            "align_self": null,
            "height": null,
            "min_height": null,
            "padding": null,
            "grid_auto_rows": null,
            "grid_gap": null,
            "max_width": null,
            "order": null,
            "_view_module_version": "1.2.0",
            "grid_template_areas": null,
            "object_position": null,
            "object_fit": null,
            "grid_auto_columns": null,
            "margin": null,
            "display": null,
            "left": null
          }
        },
        "c51f410f8c974080b8ec979782055621": {
          "model_module": "@jupyter-widgets/controls",
          "model_name": "DescriptionStyleModel",
          "state": {
            "_view_name": "StyleView",
            "_model_name": "DescriptionStyleModel",
            "description_width": "",
            "_view_module": "@jupyter-widgets/base",
            "_model_module_version": "1.5.0",
            "_view_count": null,
            "_view_module_version": "1.2.0",
            "_model_module": "@jupyter-widgets/controls"
          }
        },
        "54fd9fc03c39465a855208c9e2c664ce": {
          "model_module": "@jupyter-widgets/base",
          "model_name": "LayoutModel",
          "state": {
            "_view_name": "LayoutView",
            "grid_template_rows": null,
            "right": null,
            "justify_content": null,
            "_view_module": "@jupyter-widgets/base",
            "overflow": null,
            "_model_module_version": "1.2.0",
            "_view_count": null,
            "flex_flow": null,
            "width": null,
            "min_width": null,
            "border": null,
            "align_items": null,
            "bottom": null,
            "_model_module": "@jupyter-widgets/base",
            "top": null,
            "grid_column": null,
            "overflow_y": null,
            "overflow_x": null,
            "grid_auto_flow": null,
            "grid_area": null,
            "grid_template_columns": null,
            "flex": null,
            "_model_name": "LayoutModel",
            "justify_items": null,
            "grid_row": null,
            "max_height": null,
            "align_content": null,
            "visibility": null,
            "align_self": null,
            "height": null,
            "min_height": null,
            "padding": null,
            "grid_auto_rows": null,
            "grid_gap": null,
            "max_width": null,
            "order": null,
            "_view_module_version": "1.2.0",
            "grid_template_areas": null,
            "object_position": null,
            "object_fit": null,
            "grid_auto_columns": null,
            "margin": null,
            "display": null,
            "left": null
          }
        }
      }
    }
  },
  "cells": [
    {
      "cell_type": "markdown",
      "metadata": {
        "id": "ptvBUgFZkKmm"
      },
      "source": [
        "# Requirments\r\n",
        "\r\n"
      ]
    },
    {
      "cell_type": "code",
      "metadata": {
        "id": "KUgwJtaFLYTc"
      },
      "source": [
        "\"\"\"\r\n",
        "# get majka database\r\n",
        "!curl --remote-name-all https://nlp.fi.muni.cz/ma{/majka.w-lt}\r\n",
        "!mv majka.w-lt drive/MyDrive/data/\r\n",
        "# download czech squad\r\n",
        "!curl --remote-name-all https://lindat.cz/repository/xmlui/bitstream/handle/11234/1-3069{/sqad_v3.tar.xz}\r\n",
        "!mv sqad_v3.tar.xz drive/MyDrive/data/\r\n",
        "!tar -xf drive/MyDrive/data/sqad_v3.tar.xz\r\n",
        "\"\"\""
      ],
      "execution_count": null,
      "outputs": []
    },
    {
      "cell_type": "code",
      "metadata": {
        "id": "RKgj8CeSViAh"
      },
      "source": [
        "!pip install progressbar2\r\n",
        "!pip install sentencepiece\r\n",
        "!pip install datasets transformers\r\n",
        "!pip install googletrans==4.0.0-rc1\r\n",
        "!pip install wikipedia\r\n",
        "!pip install rank_bm25\r\n",
        "!pip install majka"
      ],
      "execution_count": null,
      "outputs": []
    },
    {
      "cell_type": "markdown",
      "metadata": {
        "id": "HoTIyL_slAcA"
      },
      "source": [
        "Importing important libraries"
      ]
    },
    {
      "cell_type": "code",
      "metadata": {
        "id": "bRQGzm8pJ4C6"
      },
      "source": [
        "import torch\r\n",
        "import string\r\n",
        "import os\r\n",
        "import sys\r\n",
        "import time\r\n",
        "import shutil\r\n",
        "import json\r\n",
        "import numpy as np\r\n",
        "import collections\r\n",
        "import datetime\r\n",
        "from tqdm.auto import tqdm\r\n",
        "import warnings\r\n",
        "import json\r\n",
        "import nltk.data\r\n",
        "import nltk\r\n",
        "\r\n",
        "from datasets import load_dataset, load_metric\r\n",
        "from typing import List, Tuple, Dict\r\n",
        "from collections import defaultdict\r\n",
        "from transformers import AlbertTokenizerFast, AlbertForQuestionAnswering, TrainingArguments, Trainer, default_data_collator\r\n",
        "\r\n",
        "from rank_bm25 import BM25Okapi, BM25Plus, BM25L\r\n",
        "import re\r\n",
        "import majka\r\n",
        "import wikipedia\r\n",
        "from googletrans import Translator\r\n",
        "import requests\r\n",
        "\r\n",
        "from google.colab import drive\r\n",
        "\r\n",
        "warnings.filterwarnings(\"ignore\")\r\n",
        "\r\n",
        "nltk.download('punkt')"
      ],
      "execution_count": 2,
      "outputs": []
    },
    {
      "cell_type": "code",
      "metadata": {
        "id": "3oFuZPSCKZiv",
        "colab": {
          "base_uri": "https://localhost:8080/"
        },
        "outputId": "230a816a-7976-4bed-dc75-8826d4a75aa0"
      },
      "source": [
        "# Remove pre-cached sample data in colab's directory\r\n",
        "if os.path.isdir(\"sample_data\"):\r\n",
        "  shutil.rmtree(\"sample_data\")\r\n",
        "drive.mount('/content/drive')"
      ],
      "execution_count": 3,
      "outputs": [
        {
          "output_type": "stream",
          "text": [
            "Mounted at /content/drive\n"
          ],
          "name": "stdout"
        }
      ]
    },
    {
      "cell_type": "markdown",
      "metadata": {
        "id": "TshLGyuzEUpf"
      },
      "source": [
        "# Preprocessing SQUAD"
      ]
    },
    {
      "cell_type": "code",
      "metadata": {
        "id": "6vES2bhXy4Z7"
      },
      "source": [
        "# This flag is the difference between SQUAD v1 or 2 (if you're using another dataset, it indicates if impossible\r\n",
        "# answers are allowed or not).\r\n",
        "squad_v2 = True\r\n",
        "if squad_v2:\r\n",
        "  model_checkpoint = \"./drive/MyDrive/albert_models/albert_squad2_finetuned\"\r\n",
        "else:\r\n",
        "  model_checkpoint = \"./drive/MyDrive/albert_models/albert_finetuned\"\r\n",
        "batch_size = 16"
      ],
      "execution_count": null,
      "outputs": []
    },
    {
      "cell_type": "code",
      "metadata": {
        "id": "eT-5_Hse4MJA"
      },
      "source": [
        "def prepare_train_features(examples):\r\n",
        "    \"\"\"\r\n",
        "    This method has been borrowed from huggingface notebook\r\n",
        "    https://colab.research.google.com/github/huggingface/notebooks/blob/master/examples/question_answering.ipynb\r\n",
        "\r\n",
        "    \"\"\"\r\n",
        "\r\n",
        "    # Tokenize our examples with truncation and padding, but keep the overflows using a stride. This results\r\n",
        "    # in one example possible giving several features when a context is long, each of those features having a\r\n",
        "    # context that overlaps a bit the context of the previous feature.\r\n",
        "    tokenized_examples = tokenizer(\r\n",
        "        examples[\"question\"],\r\n",
        "        examples[\"context\"],\r\n",
        "        truncation=\"only_second\",\r\n",
        "        max_length=max_length,\r\n",
        "        stride=doc_stride,\r\n",
        "        return_overflowing_tokens=True,\r\n",
        "        return_offsets_mapping=True,\r\n",
        "        padding=\"max_length\",\r\n",
        "    )\r\n",
        "\r\n",
        "    # Since one example might give us several features if it has a long context, we need a map from a feature to\r\n",
        "    # its corresponding example. This key gives us just that.\r\n",
        "    sample_mapping = tokenized_examples.pop(\"overflow_to_sample_mapping\")\r\n",
        "    # The offset mappings will give us a map from token to character position in the original context. This will\r\n",
        "    # help us compute the start_positions and end_positions.\r\n",
        "    offset_mapping = tokenized_examples.pop(\"offset_mapping\")\r\n",
        "\r\n",
        "    # Let's label those examples!\r\n",
        "    tokenized_examples[\"start_positions\"] = []\r\n",
        "    tokenized_examples[\"end_positions\"] = []\r\n",
        "\r\n",
        "    for i, offsets in enumerate(offset_mapping):\r\n",
        "        # We will label impossible answers with the index of the CLS token.\r\n",
        "        input_ids = tokenized_examples[\"input_ids\"][i]\r\n",
        "        cls_index = input_ids.index(tokenizer.cls_token_id)\r\n",
        "\r\n",
        "        # Grab the sequence corresponding to that example (to know what is the context and what is the question).\r\n",
        "        sequence_ids = tokenized_examples.sequence_ids(i)\r\n",
        "\r\n",
        "        # One example can give several spans, this is the index of the example containing this span of text.\r\n",
        "        sample_index = sample_mapping[i]\r\n",
        "        answers = examples[\"answers\"][sample_index]\r\n",
        "        # If no answers are given, set the cls_index as answer.\r\n",
        "        if len(answers[\"answer_start\"]) == 0:\r\n",
        "            tokenized_examples[\"start_positions\"].append(cls_index)\r\n",
        "            tokenized_examples[\"end_positions\"].append(cls_index)\r\n",
        "        else:\r\n",
        "            # Start/end character index of the answer in the text.\r\n",
        "            start_char = answers[\"answer_start\"][0]\r\n",
        "            end_char = start_char + len(answers[\"text\"][0])\r\n",
        "\r\n",
        "            # Start token index of the current span in the text.\r\n",
        "            token_start_index = 0\r\n",
        "            while sequence_ids[token_start_index] != 1:\r\n",
        "                token_start_index += 1\r\n",
        "\r\n",
        "            # End token index of the current span in the text.\r\n",
        "            token_end_index = len(input_ids) - 1\r\n",
        "            while sequence_ids[token_end_index] != 1:\r\n",
        "                token_end_index -= 1\r\n",
        "\r\n",
        "            # Detect if the answer is out of the span (in which case this feature is labeled with the CLS index).\r\n",
        "            if not (offsets[token_start_index][0] <= start_char and offsets[token_end_index][1] >= end_char):\r\n",
        "                tokenized_examples[\"start_positions\"].append(cls_index)\r\n",
        "                tokenized_examples[\"end_positions\"].append(cls_index)\r\n",
        "            else:\r\n",
        "                # Otherwise move the token_start_index and token_end_index to the two ends of the answer.\r\n",
        "                # Note: we could go after the last offset if the answer is the last word (edge case).\r\n",
        "                while token_start_index < len(offsets) and offsets[token_start_index][0] <= start_char:\r\n",
        "                    token_start_index += 1\r\n",
        "                tokenized_examples[\"start_positions\"].append(token_start_index - 1)\r\n",
        "                while offsets[token_end_index][1] >= end_char:\r\n",
        "                    token_end_index -= 1\r\n",
        "                tokenized_examples[\"end_positions\"].append(token_end_index + 1)\r\n",
        "\r\n",
        "    return tokenized_examples"
      ],
      "execution_count": null,
      "outputs": []
    },
    {
      "cell_type": "markdown",
      "metadata": {
        "id": "h_dPjTbRlsDL"
      },
      "source": [
        "Create tokenizer, load squad dataset and prepare features for training"
      ]
    },
    {
      "cell_type": "code",
      "metadata": {
        "id": "pd4irRm65p06"
      },
      "source": [
        "tokenizer = AlbertTokenizerFast.from_pretrained(model_checkpoint)\r\n",
        "datasets = load_dataset(\"squad_v2\" if squad_v2 else \"squad\")\r\n",
        "\r\n",
        "max_length=384\r\n",
        "doc_stride=128\r\n",
        "tokenized_datasets = datasets.map(prepare_train_features,\r\n",
        "                                  batched=True, \r\n",
        "                                  remove_columns=datasets[\"train\"].column_names)"
      ],
      "execution_count": null,
      "outputs": []
    },
    {
      "cell_type": "markdown",
      "metadata": {
        "id": "5N3VXCshEY3g"
      },
      "source": [
        "# Albert model fine-tuning"
      ]
    },
    {
      "cell_type": "markdown",
      "metadata": {
        "id": "oKowsABXmJTA"
      },
      "source": [
        "Load model"
      ]
    },
    {
      "cell_type": "code",
      "metadata": {
        "id": "cxulpn9Q770q"
      },
      "source": [
        "model = AlbertForQuestionAnswering.from_pretrained(model_checkpoint)"
      ],
      "execution_count": null,
      "outputs": []
    },
    {
      "cell_type": "markdown",
      "metadata": {
        "id": "lzVL6NbxZREF"
      },
      "source": [
        "Create trainer"
      ]
    },
    {
      "cell_type": "code",
      "metadata": {
        "id": "oZ03rHLM8MZ6"
      },
      "source": [
        "# training arguments\r\n",
        "args = TrainingArguments(\r\n",
        "    f\"./drive/MyDrive/data/checkpoints\",\r\n",
        "    evaluation_strategy = \"epoch\",\r\n",
        "    learning_rate=2e-5,\r\n",
        "    per_device_train_batch_size=batch_size,\r\n",
        "    per_device_eval_batch_size=batch_size,\r\n",
        "    num_train_epochs=3,\r\n",
        "    weight_decay=0.01,\r\n",
        ")\r\n",
        "data_collator = default_data_collator\r\n",
        "\r\n",
        "# creating trainer class\r\n",
        "trainer = Trainer(\r\n",
        "    model,\r\n",
        "    args,\r\n",
        "    train_dataset=tokenized_datasets[\"train\"],\r\n",
        "    eval_dataset=tokenized_datasets[\"validation\"],\r\n",
        "    data_collator=data_collator,\r\n",
        "    tokenizer=tokenizer,\r\n",
        ")"
      ],
      "execution_count": null,
      "outputs": []
    },
    {
      "cell_type": "markdown",
      "metadata": {
        "id": "esdYGARYZz73"
      },
      "source": [
        "Train and save"
      ]
    },
    {
      "cell_type": "code",
      "metadata": {
        "id": "KBZMu-OB82D2"
      },
      "source": [
        "trainer.train()\r\n",
        "\r\n",
        "# saved model to stated dict\r\n",
        "trainer.save_model(\"./drive/MyDrive/data/albert_finetuned\")"
      ],
      "execution_count": null,
      "outputs": []
    },
    {
      "cell_type": "markdown",
      "metadata": {
        "id": "BYPwBfguEgAb"
      },
      "source": [
        "# Model-reader evaluation"
      ]
    },
    {
      "cell_type": "markdown",
      "metadata": {
        "id": "Rec9XbzcxWBy"
      },
      "source": [
        "This part has been borrowed from Huggingface notebook\r\n",
        "https://colab.research.google.com/github/huggingface/notebooks/blob/master/examples/question_answering.ipynb"
      ]
    },
    {
      "cell_type": "markdown",
      "metadata": {
        "id": "2xdNTutOm1y8"
      },
      "source": [
        "Prepare our validation dataset features"
      ]
    },
    {
      "cell_type": "code",
      "metadata": {
        "id": "biBzgvjUS54U"
      },
      "source": [
        "def prepare_validation_features(examples):\r\n",
        "    \"\"\"\r\n",
        "    This method has been borrowed from huggingface notebook\r\n",
        "    https://colab.research.google.com/github/huggingface/notebooks/blob/master/examples/question_answering.ipynb\r\n",
        "\r\n",
        "    \"\"\"\r\n",
        "    # Tokenize our examples with truncation and maybe padding, but keep the overflows using a stride. This results\r\n",
        "    # in one example possible giving several features when a context is long, each of those features having a\r\n",
        "    # context that overlaps a bit the context of the previous feature.\r\n",
        "    tokenized_examples = tokenizer(\r\n",
        "        examples[\"question\"],\r\n",
        "        examples[\"context\"],\r\n",
        "        truncation=\"only_second\",\r\n",
        "        max_length=max_length,\r\n",
        "        stride=doc_stride,\r\n",
        "        return_overflowing_tokens=True,\r\n",
        "        return_offsets_mapping=True,\r\n",
        "        padding=\"max_length\",\r\n",
        "    )\r\n",
        "\r\n",
        "    # Since one example might give us several features if it has a long context, we need a map from a feature to\r\n",
        "    # its corresponding example. This key gives us just that.\r\n",
        "    sample_mapping = tokenized_examples.pop(\"overflow_to_sample_mapping\")\r\n",
        "\r\n",
        "    # We keep the example_id that gave us this feature and we will store the offset mappings.\r\n",
        "    tokenized_examples[\"example_id\"] = []\r\n",
        "\r\n",
        "    for i in range(len(tokenized_examples[\"input_ids\"])):\r\n",
        "        # Grab the sequence corresponding to that example (to know what is the context and what is the question).\r\n",
        "        sequence_ids = tokenized_examples.sequence_ids(i)\r\n",
        "        context_index = 1\r\n",
        "        # One example can give several spans, this is the index of the example containing this span of text.\r\n",
        "        sample_index = sample_mapping[i]\r\n",
        "        tokenized_examples[\"example_id\"].append(examples[\"id\"][sample_index])\r\n",
        "\r\n",
        "        # Set to None the offset_mapping that are not part of the context so it's easy to determine if a token\r\n",
        "        # position is part of the context or not.\r\n",
        "        tokenized_examples[\"offset_mapping\"][i] = [\r\n",
        "            (o if sequence_ids[k] == context_index else None)\r\n",
        "            for k, o in enumerate(tokenized_examples[\"offset_mapping\"][i])\r\n",
        "        ]\r\n",
        "\r\n",
        "    return tokenized_examples"
      ],
      "execution_count": null,
      "outputs": []
    },
    {
      "cell_type": "markdown",
      "metadata": {
        "id": "1CiqBkeDmw44"
      },
      "source": [
        "Get model predictions on validation dataset"
      ]
    },
    {
      "cell_type": "code",
      "metadata": {
        "id": "jmK8WQLEWyRN"
      },
      "source": [
        "def postprocess_qa_predictions(examples, features, raw_predictions, n_best_size = 20, max_answer_length = 30):\r\n",
        "    \"\"\"\r\n",
        "    This method has been borrowed from huggingface notebook\r\n",
        "    https://colab.research.google.com/github/huggingface/notebooks/blob/master/examples/question_answering.ipynb\r\n",
        "\r\n",
        "    \"\"\"\r\n",
        "    all_start_logits, all_end_logits = raw_predictions\r\n",
        "    # Build a map example to its corresponding features.\r\n",
        "    example_id_to_index = {k: i for i, k in enumerate(examples[\"id\"])}\r\n",
        "    features_per_example = collections.defaultdict(list)\r\n",
        "    for i, feature in enumerate(features):\r\n",
        "        features_per_example[example_id_to_index[feature[\"example_id\"]]].append(i)\r\n",
        "\r\n",
        "    # The dictionaries we have to fill.\r\n",
        "    predictions = collections.OrderedDict()\r\n",
        "\r\n",
        "    # Logging.\r\n",
        "    print(f\"Post-processing {len(examples)} example predictions split into {len(features)} features.\")\r\n",
        "\r\n",
        "    # Let's loop over all the examples!\r\n",
        "    for example_index, example in enumerate(tqdm(examples)):\r\n",
        "        # Those are the indices of the features associated to the current example.\r\n",
        "        feature_indices = features_per_example[example_index]\r\n",
        "\r\n",
        "        min_null_score = None # Only used if squad_v2 is True.\r\n",
        "        valid_answers = []\r\n",
        "        \r\n",
        "        context = example[\"context\"]\r\n",
        "        # Looping through all the features associated to the current example.\r\n",
        "        for feature_index in feature_indices:\r\n",
        "            # We grab the predictions of the model for this feature.\r\n",
        "            start_logits = all_start_logits[feature_index]\r\n",
        "            end_logits = all_end_logits[feature_index]\r\n",
        "            # This is what will allow us to map some the positions in our logits to span of texts in the original\r\n",
        "            # context.\r\n",
        "            offset_mapping = features[feature_index][\"offset_mapping\"]\r\n",
        "\r\n",
        "            # Update minimum null prediction.\r\n",
        "            cls_index = features[feature_index][\"input_ids\"].index(tokenizer.cls_token_id)\r\n",
        "            feature_null_score = start_logits[cls_index] + end_logits[cls_index]\r\n",
        "            if min_null_score is None or min_null_score < feature_null_score:\r\n",
        "                min_null_score = feature_null_score\r\n",
        "\r\n",
        "            # Go through all possibilities for the `n_best_size` greater start and end logits.\r\n",
        "            start_indexes = np.argsort(start_logits)[-1 : -n_best_size - 1 : -1].tolist()\r\n",
        "            end_indexes = np.argsort(end_logits)[-1 : -n_best_size - 1 : -1].tolist()\r\n",
        "            for start_index in start_indexes:\r\n",
        "                for end_index in end_indexes:\r\n",
        "                    # Don't consider out-of-scope answers, either because the indices are out of bounds or correspond\r\n",
        "                    # to part of the input_ids that are not in the context.\r\n",
        "                    if (\r\n",
        "                        start_index >= len(offset_mapping)\r\n",
        "                        or end_index >= len(offset_mapping)\r\n",
        "                        or offset_mapping[start_index] is None\r\n",
        "                        or offset_mapping[end_index] is None\r\n",
        "                    ):\r\n",
        "                        continue\r\n",
        "                    # Don't consider answers with a length that is either < 0 or > max_answer_length.\r\n",
        "                    if end_index < start_index or end_index - start_index + 1 > max_answer_length:\r\n",
        "                        continue\r\n",
        "\r\n",
        "                    start_char = offset_mapping[start_index][0]\r\n",
        "                    end_char = offset_mapping[end_index][1]\r\n",
        "                    valid_answers.append(\r\n",
        "                        {\r\n",
        "                            \"score\": start_logits[start_index] + end_logits[end_index],\r\n",
        "                            \"text\": context[start_char: end_char]\r\n",
        "                        }\r\n",
        "                    )\r\n",
        "        \r\n",
        "        if len(valid_answers) > 0:\r\n",
        "            best_answer = sorted(valid_answers, key=lambda x: x[\"score\"], reverse=True)[0]\r\n",
        "        else:\r\n",
        "            # In the very rare edge case we have not a single non-null prediction, we create a fake prediction to avoid\r\n",
        "            # failure.\r\n",
        "            best_answer = {\"text\": \"\", \"score\": 0.0}\r\n",
        "        \r\n",
        "        # Let's pick our final answer: the best one or the null answer (only for squad_v2)\r\n",
        "        if not squad_v2:\r\n",
        "            predictions[example[\"id\"]] = best_answer[\"text\"]\r\n",
        "        else:\r\n",
        "            answer = best_answer[\"text\"] if best_answer[\"score\"] > min_null_score else \"\"\r\n",
        "            predictions[example[\"id\"]] = answer\r\n",
        "\r\n",
        "    return predictions"
      ],
      "execution_count": null,
      "outputs": []
    },
    {
      "cell_type": "markdown",
      "metadata": {
        "id": "GCkrrwoTYWCN"
      },
      "source": [
        "Load features and predictions for validation"
      ]
    },
    {
      "cell_type": "code",
      "metadata": {
        "id": "lse-A4J-U7-g"
      },
      "source": [
        "# get ground truth features\r\n",
        "validation_features = datasets[\"validation\"].map(prepare_validation_features,\r\n",
        "                                                 batched=True,\r\n",
        "                                                 remove_columns=datasets[\"validation\"].column_names)\r\n",
        "\r\n",
        "# get raw predictions\r\n",
        "raw_predictions = trainer.predict(validation_features)\r\n",
        "\r\n",
        "validation_features.set_format(type=validation_features.format[\"type\"], \r\n",
        "                               columns=list(validation_features.features.keys()))"
      ],
      "execution_count": null,
      "outputs": []
    },
    {
      "cell_type": "markdown",
      "metadata": {
        "id": "hUgPRi7NmiC6"
      },
      "source": [
        "Evaluate"
      ]
    },
    {
      "cell_type": "code",
      "metadata": {
        "id": "hrYmOc4UYBcB"
      },
      "source": [
        "# hyperparameters\r\n",
        "max_answer_length = 30\r\n",
        "n_best_size = 20\r\n",
        "\r\n",
        "# map examples to features\r\n",
        "examples = datasets[\"validation\"]\r\n",
        "features = validation_features\r\n",
        "\r\n",
        "example_id_to_index = {k: i for i, k in enumerate(examples[\"id\"])}\r\n",
        "features_per_example = collections.defaultdict(list)\r\n",
        "for i, feature in enumerate(features):\r\n",
        "    features_per_example[example_id_to_index[feature[\"example_id\"]]].append(i)\r\n",
        "\r\n",
        "# get final predictions\r\n",
        "final_predictions = postprocess_qa_predictions(datasets[\"validation\"], validation_features, raw_predictions.predictions)\r\n",
        "# get metric used\r\n",
        "metric = load_metric(\"squad_v2\" if squad_v2 else \"squad\")\r\n",
        "\r\n",
        "#evaluate\r\n",
        "if squad_v2:\r\n",
        "    formatted_predictions = [{\"id\": k, \"prediction_text\": v, \"no_answer_probability\": 0.0} for k, v in final_predictions.items()]\r\n",
        "else:\r\n",
        "    formatted_predictions = [{\"id\": k, \"prediction_text\": v} for k, v in final_predictions.items()]\r\n",
        "references = [{\"id\": ex[\"id\"], \"answers\": ex[\"answers\"]} for ex in datasets[\"validation\"]]\r\n",
        "metric.compute(predictions=formatted_predictions, references=references)"
      ],
      "execution_count": null,
      "outputs": []
    },
    {
      "cell_type": "markdown",
      "metadata": {
        "id": "bPGazghDdOXn"
      },
      "source": [
        "# Reader"
      ]
    },
    {
      "cell_type": "code",
      "metadata": {
        "id": "fjuzSaPEnesl"
      },
      "source": [
        "class Reader():\r\n",
        "\r\n",
        "  def __init__(self, model_checkpoint, max_answer_length=10, n_best_size=10, max_length=384, stride=128, use_cpu=False):\r\n",
        "    # load all parameters of the reader\r\n",
        "    self.max_answer_length = max_answer_length  # max answer span length\r\n",
        "    self.n_best_size = n_best_size  # \r\n",
        "    self.max_length = max_length  # max count of tokens in one tokenized passage\r\n",
        "    self.stride = stride  # the length of overlap between two mini-batches of tokenizer\r\n",
        "\r\n",
        "    # choose device; cuda if available\r\n",
        "    self.device = torch.device(\"cuda:0\" if (torch.cuda.is_available() and use_cpu == False) else \"cpu\")\r\n",
        "\r\n",
        "    # load tokenizer and model from pretrained checkpoint\r\n",
        "    self.tokenizer = AlbertTokenizerFast.from_pretrained(model_checkpoint)\r\n",
        "    # load model to device if possible\r\n",
        "    self.model = AlbertForQuestionAnswering.from_pretrained(model_checkpoint).to(self.device)\r\n",
        "\r\n",
        "    print(\"Model loaded from: \" + model_checkpoint)\r\n",
        "    print(f\"Model has {self.count_parameters(self.model)} parameters\")\r\n",
        "    print(\"Device selected:\")\r\n",
        "    print(self.device)\r\n",
        "\r\n",
        "\r\n",
        "  def decode(self, output, context, offset_mappings):\r\n",
        "    \"\"\"\r\n",
        "    get the text span from the unnormalized log probabilities\r\n",
        "\r\n",
        "    method has been partly borrowed from \r\n",
        "    https://colab.research.google.com/github/huggingface/notebooks/blob/master/examples/question_answering.ipynb\r\n",
        "\r\n",
        "    \"\"\"\r\n",
        "    # enumerate over all outputs (max output size is 500 tokens in a log prob tensor)\r\n",
        "    valid_answers = []\r\n",
        "\r\n",
        "    for i, _ in enumerate(output.start_logits):\r\n",
        "\r\n",
        "      start_logits = output.start_logits[i].cpu().detach().numpy()\r\n",
        "      end_logits = output.end_logits[i].cpu().detach().numpy()\r\n",
        "      offset_mapping = offset_mappings[i]\r\n",
        "\r\n",
        "      # Gather the indices the best start/end logits:\r\n",
        "      start_indexes = np.argsort(start_logits)[-1 : - self.n_best_size - 1 : -1].tolist()\r\n",
        "      end_indexes = np.argsort(end_logits)[-1 : - self.n_best_size - 1 : -1].tolist()\r\n",
        "      for start_index in start_indexes:\r\n",
        "          for end_index in end_indexes:\r\n",
        "              # Don't consider out-of-scope answers, either because the indices are out of bounds or correspond\r\n",
        "              # to part of the input_ids that are not in the context.\r\n",
        "              if (\r\n",
        "                  start_index >= len(offset_mapping)\r\n",
        "                  or end_index >= len(offset_mapping)\r\n",
        "                  or offset_mapping[start_index] is None\r\n",
        "                  or offset_mapping[end_index] is None\r\n",
        "              ):\r\n",
        "                  continue\r\n",
        "              # Don't consider answers with a length that is either < 0 or > max_answer_length.\r\n",
        "              if end_index < start_index or end_index - start_index + 1 > self.max_answer_length:\r\n",
        "                  continue\r\n",
        "              if start_index <= end_index: # We need to refine that test to check the answer is inside the context\r\n",
        "                  start_char = offset_mapping[start_index][0]\r\n",
        "                  end_char = offset_mapping[end_index][1]\r\n",
        "                  valid_answers.append(\r\n",
        "                      {\r\n",
        "                          \"score\": start_logits[start_index] + end_logits[end_index],\r\n",
        "                          \"text\": context[start_char: end_char].strip()\r\n",
        "                      }\r\n",
        "                  )\r\n",
        "    valid_answers = sorted(valid_answers, key=lambda x: x[\"score\"], reverse=True)[:self.n_best_size]\r\n",
        "    return valid_answers\r\n",
        "\r\n",
        "\r\n",
        "  def get_answers(self, question, context):\r\n",
        "    \"\"\"\r\n",
        "    get the best answers from the context to the question \r\n",
        "\r\n",
        "    \"\"\"\r\n",
        "    inputs = self.tokenizer(question, context, \r\n",
        "                      return_tensors='pt',\r\n",
        "                      truncation=\"only_second\",\r\n",
        "                      max_length=self.max_length, # to prevent cuda running out of memory\r\n",
        "                      stride=self.stride,     # overlap within splitted long\r\n",
        "                      return_offsets_mapping=True,\r\n",
        "                      return_overflowing_tokens=True,\r\n",
        "                      padding=\"max_length\")\r\n",
        "    inputs.to(self.device)\r\n",
        "\r\n",
        "    outputs = self.model(inputs['input_ids'], \r\n",
        "                    token_type_ids=inputs['token_type_ids'],\r\n",
        "                    attention_mask=inputs['attention_mask'])\r\n",
        "    \r\n",
        "    valid_answers = self.decode(outputs, context, inputs['offset_mapping'])\r\n",
        "    \r\n",
        "    return valid_answers\r\n",
        "\r\n",
        "\r\n",
        "  def count_parameters(self, model):\r\n",
        "    \"\"\"\r\n",
        "    Counts the parameters of the model\r\n",
        "\r\n",
        "    \"\"\"\r\n",
        "\r\n",
        "    return sum(p.numel() for p in self.model.parameters() if p.requires_grad)\r\n",
        "    "
      ],
      "execution_count": 4,
      "outputs": []
    },
    {
      "cell_type": "markdown",
      "metadata": {
        "id": "whlGzus9Z4Tx"
      },
      "source": [
        "# Retriever\r\n"
      ]
    },
    {
      "cell_type": "code",
      "metadata": {
        "id": "iX5OVeUoufHc"
      },
      "source": [
        "class Retriever():\r\n",
        "\r\n",
        "  def __init__(self):\r\n",
        "    wikipedia.set_lang(\"cs\") \r\n",
        "\r\n",
        "    # save the most common czech words (stop words)\r\n",
        "    common = \"kdy být a se v na ten on že s z který mít do já o k i jeho ale svůj jako za moci pro tak po tento co když všechen už jak aby od nebo říci jeden jen můj jenž ty stát u muset chtít také až než ještě při jít pak před však ani vědět hodně podle další celý jiný mezi dát tady tam kde každý takový protože nic něco ne sám bez či dostat nějaký proto\"\r\n",
        "    self.common = common.split()\r\n",
        "\r\n",
        "    # save punctuation to be removed\r\n",
        "    punctuation = \". , ? ! ... \\\" ( ) ; - /\"\r\n",
        "    self.punctuation = punctuation.split()\r\n",
        "\r\n",
        "    # majka lemmatizer settings\r\n",
        "    self.morph = majka.Majka('drive/MyDrive/data/majka.w-lt')\r\n",
        "    self.morph.flags = 0  # unset all flags\r\n",
        "    self.morph.tags = False  # return just the lemma, do not process the tags\r\n",
        "    self.morph.first_only = True  # return only the first entry\r\n",
        "    self.morph.negative = \"ne\"\r\n",
        "\r\n",
        "    # load wiki titles and build index for search\r\n",
        "    self.bm25_articles_index, self.titles = self.get_title_search_index()\r\n",
        "\r\n",
        "    # load tokenizer to split text into sentences\r\n",
        "    self.tokenizer = nltk.data.load('tokenizers/punkt/czech.pickle')\r\n",
        "\r\n",
        "\r\n",
        "  def get_title_search_index(self):\r\n",
        "    \"\"\"\r\n",
        "    Build index for searching through relevant title names on czech wiki:\r\n",
        "\r\n",
        "    \"\"\"\r\n",
        "\r\n",
        "    f = open(\"drive/MyDrive/data/wiki/cswiki-latest-all-titles-in-ns0\", \"r\")\r\n",
        "    titles = []\r\n",
        "\r\n",
        "    for line in f: \r\n",
        "      title = ((\" \").join(line.split(\"_\"))).strip()\r\n",
        "      title = title.strip('\\n')\r\n",
        "      titles.append(title)\r\n",
        "\r\n",
        "    f.close()\r\n",
        "\r\n",
        "    # tokenize for bm25\r\n",
        "    tok_titles = []\r\n",
        "    for title in titles:\r\n",
        "      tok_tit = re.split(\" \", title.lower())\r\n",
        "      for tok in tok_tit:\r\n",
        "        if tok == \"\":\r\n",
        "          tok_tit.remove(\"\")\r\n",
        "      tok_titles.append(tok_tit)\r\n",
        "\r\n",
        "    bm25 = BM25Okapi(tok_titles)\r\n",
        "\r\n",
        "    return bm25, titles\r\n",
        "\r\n",
        "\r\n",
        "  def search_titles(self, question):\r\n",
        "    \"\"\"\r\n",
        "    Search with bm25 among the wiki titles\r\n",
        "\r\n",
        "    \"\"\"\r\n",
        "    tokenized_query = self.delete_common(self.lemmatize(question.lower()))\r\n",
        "    # print(tokenized_query)\r\n",
        "    results = self.bm25_articles_index.get_top_n(tokenized_query, self.titles, n=5)\r\n",
        "\r\n",
        "    return results\r\n",
        "\r\n",
        "\r\n",
        "  def get_named_entities(self, question):\r\n",
        "    \"\"\"\r\n",
        "    Extracts named entities from the question.\r\n",
        "\r\n",
        "    \"\"\"\r\n",
        "\r\n",
        "    URL = \"https://nlp.fi.muni.cz/projekty/ner/nerJSON.py\"\r\n",
        "    text = question\r\n",
        "    PARAMS = {'text': text}\r\n",
        "    r = requests.get(url = URL, params = PARAMS)\r\n",
        "    data = r.json() \r\n",
        "\r\n",
        "    lemmatas = []\r\n",
        "\r\n",
        "    if data != {}:\r\n",
        "      for item in data:\r\n",
        "        lemma = data[item]['lemma']\r\n",
        "        lemmatas.append(lemma)\r\n",
        "\r\n",
        "    return lemmatas\r\n",
        "\r\n",
        "  \r\n",
        "  def iscommon(self, x):\r\n",
        "    \"\"\"\r\n",
        "    decides if query token is common\r\n",
        "\r\n",
        "    \"\"\"\r\n",
        "    if x in self.common or x in self.punctuation:\r\n",
        "      return True\r\n",
        "    else:\r\n",
        "      return False\r\n",
        "\r\n",
        "\r\n",
        "  def delete_common(self, tokens):\r\n",
        "    \"\"\"\r\n",
        "    Remove the most common czech words from the query tokens (low information value)\r\n",
        "\r\n",
        "    \"\"\"\r\n",
        "    tokens = [x for x in tokens if not self.iscommon(x)]\r\n",
        "        \r\n",
        "    return tokens\r\n",
        "\r\n",
        "  \r\n",
        "  def lemmatize(self, text):\r\n",
        "    \"\"\"\r\n",
        "    Returns lemma of each token in a list of lemmatized tokens\r\n",
        "\r\n",
        "    \"\"\"\r\n",
        "\r\n",
        "    tok_text = text.lower()\r\n",
        "    tok_text = re.split(\"\\W\", text)\r\n",
        "\r\n",
        "    # lemmatize each token\r\n",
        "    lemmatized_tokens = []\r\n",
        "    for token in tok_text:\r\n",
        "      if token == '':\r\n",
        "        continue\r\n",
        "      lemma = self.morph.find(token)\r\n",
        "      if len(lemma) == 0:\r\n",
        "        lemmatized_tokens.append(token)\r\n",
        "      else:\r\n",
        "        lemmatized_tokens.append(lemma[0]['lemma'])\r\n",
        "\r\n",
        "    return lemmatized_tokens\r\n",
        "\r\n",
        "\r\n",
        "  def search_again(self, tokens):\r\n",
        "    \"\"\"\r\n",
        "    Performs repeated search in case wiki api didnt find any documents\r\n",
        "\r\n",
        "    \"\"\"\r\n",
        "    searched_term = (' ').join(tokens)\r\n",
        "    #print(searched_term)\r\n",
        "    doc_list = wikipedia.search(searched_term, results=1)\r\n",
        "\r\n",
        "    if len(tokens) == 0:\r\n",
        "      return []\r\n",
        "\r\n",
        "    if len(doc_list) == 0:\r\n",
        "      del tokens[0]\r\n",
        "      return self.search_again(tokens)\r\n",
        "\r\n",
        "    return doc_list\r\n",
        "\r\n",
        "\r\n",
        "  def get_doc_list(self, question):\r\n",
        "    \"\"\"\r\n",
        "    Returns top 1-3 wiki arcitles that might answer the question topic\r\n",
        "\r\n",
        "    \"\"\"\r\n",
        "\r\n",
        "    # get names entities if present\r\n",
        "    named_ERs = self.get_named_entities(question)\r\n",
        "    # get relevant article title names\r\n",
        "    relevant_titles = self.search_titles(question)\r\n",
        "\r\n",
        "    #search for documents\r\n",
        "    max_docs = 1\r\n",
        "    doc_list = []\r\n",
        "\r\n",
        "    # search based on recognised named entity\r\n",
        "    if len(named_ERs) > 0:\r\n",
        "      article = wikipedia.search(named_ERs[0], results=max_docs)\r\n",
        "      if len(article) > 0:\r\n",
        "        doc_list.append(article[0])\r\n",
        "    # search based on best wiki title match\r\n",
        "    if len(relevant_titles) > 0:\r\n",
        "      article = wikipedia.search(relevant_titles[0], results=max_docs)\r\n",
        "      if len(article) > 0:\r\n",
        "        doc_list.append(article[0])\r\n",
        "\r\n",
        "    # basic search for the question\r\n",
        "    article = wikipedia.search(question, results=max_docs)\r\n",
        "    # simplify the search if its too bad\r\n",
        "    if len(article) == 0:\r\n",
        "      # extract important for wiki\r\n",
        "      tokens = self.delete_common(self.lemmatize(question))\r\n",
        "      article = self.search_again(tokens)\r\n",
        "    doc_list.append(article[0])\r\n",
        "\r\n",
        "    return doc_list\r\n",
        "\r\n",
        "  \r\n",
        "  def normalize_length(self, par):\r\n",
        "    \"\"\"\r\n",
        "    Splits too long paragraph into smaller ones\r\n",
        "\r\n",
        "    \"\"\"\r\n",
        "\r\n",
        "    #split long paragraph into sentences\r\n",
        "    sentences = self.tokenizer.tokenize(par)\r\n",
        "\r\n",
        "    normalized_pars = []\r\n",
        "    new_paragraph = \"\"\r\n",
        "\r\n",
        "    # iterate over sentences\r\n",
        "    for idx, sentence in enumerate(sentences):\r\n",
        "      \r\n",
        "      if len(new_paragraph) + len(sentence) > 1500:\r\n",
        "        normalized_pars.append(new_paragraph)\r\n",
        "        new_paragraph = \"\"\r\n",
        "\r\n",
        "        # make some overlap\r\n",
        "        for k, trailing in enumerate(sentences[idx-2:idx]):\r\n",
        "          new_paragraph += trailing\r\n",
        "\r\n",
        "      else:\r\n",
        "        new_paragraph += sentence\r\n",
        "    \r\n",
        "    return normalized_pars\r\n",
        "\r\n",
        "  \r\n",
        "  def split_documents(self, doc_list):\r\n",
        "    \"\"\"\r\n",
        "    Splits each retrievede wiki article into paragraphs and normalizes its lengths\r\n",
        "\r\n",
        "    \"\"\"\r\n",
        "\r\n",
        "    pars = []\r\n",
        "    lemm_pars = []\r\n",
        "\r\n",
        "    # iterate over articles and process each one\r\n",
        "    for doc in doc_list:\r\n",
        "      # get whole page content\r\n",
        "      try:\r\n",
        "        doc = wikipedia.page(doc)\r\n",
        "      except wikipedia.DisambiguationError as e:\r\n",
        "        s = e.options[0]\r\n",
        "        try:\r\n",
        "          doc = wikipedia.page(s)\r\n",
        "        except wikipedia.DisambiguationError:\r\n",
        "          continue\r\n",
        "      \r\n",
        "      # split article into paragraphs\r\n",
        "      result = re.split('== .*. ==|\\\\n\\\\n', doc.content)\r\n",
        "\r\n",
        "      # save stripped paragraphs\r\n",
        "      for par in result:\r\n",
        "        par = ((((par.strip()).strip('=')).strip('\\n')).strip('\\n\\n')).strip('\\r\\n')\r\n",
        "\r\n",
        "        # remove some trash\r\n",
        "        if par == '' or par == '\\n' or par.strip().startswith(\"Obrázky, zvuky či videa k tématu\"):\r\n",
        "          continue\r\n",
        "\r\n",
        "        # check max paragraph length\r\n",
        "        if len(par) > 1500:\r\n",
        "          # split into smaller paragraphs\r\n",
        "          normalized_paragraphs = self.normalize_length(par)\r\n",
        "          # append each smaller paragraph\r\n",
        "          for norm_par in normalized_paragraphs:\r\n",
        "            pars.append(norm_par)\r\n",
        "            lemm_pars.append((' ').join(self.delete_common(self.lemmatize(norm_par.lower()))))\r\n",
        "        else:\r\n",
        "          # append paragraph\r\n",
        "          pars.append(par)\r\n",
        "\r\n",
        "          # get lemmas and append\r\n",
        "          lemm_pars.append((' ').join(self.delete_common(self.lemmatize(par.lower()))))\r\n",
        "\r\n",
        "    return pars, lemm_pars\r\n",
        "\r\n",
        "  def retrieve(self, question):  \r\n",
        "    \"\"\"\r\n",
        "    Returns the top 3 paragraphs for the given question\r\n",
        "\r\n",
        "    \"\"\"\r\n",
        "    # max question length\r\n",
        "    if len(question) > 250:\r\n",
        "      return \"\"\r\n",
        "    # strip questionmark\r\n",
        "    question = question.strip('?')\r\n",
        "\r\n",
        "    # TODO SPEED THIS UP\r\n",
        "    # get wiki documents\r\n",
        "    doc_list = self.get_doc_list(question)\r\n",
        "\r\n",
        "    # convert to set to only work with unique article names\r\n",
        "    doc_list = set(doc_list)\r\n",
        "\r\n",
        "    # TODO SPEED THIS UP\r\n",
        "    # split docs into paragraphs\r\n",
        "    pars, lemm_pars = self.split_documents(doc_list)\r\n",
        "\r\n",
        "    # tokenize for bm25\r\n",
        "    tok_text = []\r\n",
        "    for par in lemm_pars:\r\n",
        "      tok_par = re.split(\"\\W\", par)\r\n",
        "      for tok in tok_par:\r\n",
        "        if tok == \"\":\r\n",
        "          tok_par.remove(\"\")\r\n",
        "      tok_text.append(tok_par)\r\n",
        "\r\n",
        "    # build index\r\n",
        "    bm25 = BM25Plus(tok_text)\r\n",
        "    # bm25 = BM25Okapi(tok_text)\r\n",
        "\r\n",
        "    # tokenize and lemmatize the query\r\n",
        "    tokenized_query = (' ').join(self.delete_common(self.lemmatize(question.lower())))\r\n",
        "    tokenized_query = re.split(\"\\W\", tokenized_query)\r\n",
        "\r\n",
        "    # get results\r\n",
        "    results = bm25.get_top_n(tokenized_query, pars, n=3)\r\n",
        "\r\n",
        "    return results, doc_list\r\n",
        "\r\n",
        "\r\n",
        "  @staticmethod\r\n",
        "  def count_log_conf(best_answer, all_answers):\r\n",
        "    \"\"\"\r\n",
        "    Returns the sum of log probs \r\n",
        "    \r\n",
        "    \"\"\"\r\n",
        "\r\n",
        "    log_conf = 0\r\n",
        "    for answer in all_answers:\r\n",
        "      if (best_answer in answer['text']) or (answer['text'] in best_answer):\r\n",
        "        log_conf += answer['score']\r\n",
        "    \r\n",
        "    return log_conf\r\n"
      ],
      "execution_count": 60,
      "outputs": []
    },
    {
      "cell_type": "markdown",
      "metadata": {
        "id": "tn2ZrNBVGaHI"
      },
      "source": [
        "# Preprocessing SQAD"
      ]
    },
    {
      "cell_type": "code",
      "metadata": {
        "id": "FFQTW92tCd5M"
      },
      "source": [
        "class SqadDataset():\r\n",
        "\r\n",
        "  def __init__(self, sqad_dir, save_dir=\"./sqad_processed\", process_boolean=False):\r\n",
        "    self.save_dir = save_dir\r\n",
        "    self.sqad_dir = sqad_dir\r\n",
        "    self.process_boolean = process_boolean\r\n",
        "\r\n",
        "  def extract_answer(self, dirnum):\r\n",
        "    \"\"\"\r\n",
        "    Parse the answer of current dataset record.\r\n",
        "    Returns the parsed answer and its lemma.\r\n",
        "\r\n",
        "    \"\"\"\r\n",
        "\r\n",
        "    f = open(f\"{self.sqad_dir}/{dirnum}/09answer_extraction.vert\", \"r\")\r\n",
        "\r\n",
        "    q = f.read().split(\"\\n\")\r\n",
        "    answer = \"\"\r\n",
        "    answer_lemma = \"\"\r\n",
        "\r\n",
        "    # parse answer\r\n",
        "    for line in q:\r\n",
        "      # split into columns\r\n",
        "      line = line.split(\"\\t\")\r\n",
        "\r\n",
        "      # end sign\r\n",
        "      if line[0] == \"</s>\":\r\n",
        "        break\r\n",
        "      \r\n",
        "      # get answer and its lemma\r\n",
        "      line_a = line[0]\r\n",
        "      if len(line) > 1:\r\n",
        "        line_a_lemma = line[1]\r\n",
        "        if line_a_lemma == \"[number]\":\r\n",
        "          line_a_lemma = line[0]\r\n",
        "\r\n",
        "      # process special signs\r\n",
        "      if line_a in {\"<s>\", \"<g/>\", \"</s>\"}:\r\n",
        "        answer = answer[:-1]\r\n",
        "        answer_lemma = answer_lemma[:-1]\r\n",
        "        continue\r\n",
        "\r\n",
        "      # append answer\r\n",
        "      answer += line_a + \" \"\r\n",
        "      answer_lemma += line_a_lemma + \" \"\r\n",
        "    \r\n",
        "    f.close()\r\n",
        "    return answer, answer_lemma\r\n",
        "\r\n",
        "\r\n",
        "  def extract_question(self, dirnum):\r\n",
        "    \"\"\"\r\n",
        "    Parse the answer of current dataset record.\r\n",
        "    Returns the parsed answer and its lemma.\r\n",
        "    \r\n",
        "    \"\"\"\r\n",
        "\r\n",
        "    f = open(f\"{self.sqad_dir}/{dirnum}/01question.vert\", \"r\")\r\n",
        "\r\n",
        "    q = f.read().split(\"\\n\")\r\n",
        "    question = \"\"\r\n",
        "\r\n",
        "    for line in q:\r\n",
        "      line = line.split(\"\\t\")\r\n",
        "      # end sign\r\n",
        "      if line[0] == \"</s>\" and question[-1] == \"?\":\r\n",
        "        break\r\n",
        "\r\n",
        "      line = line[0]\r\n",
        "      if line in {\"<s>\", \"<g/>\", \"</s>\"}:\r\n",
        "        question = question[:-1]\r\n",
        "        continue\r\n",
        "      \r\n",
        "      if line != \"?\":\r\n",
        "        question += line + \" \"\r\n",
        "      else:\r\n",
        "        question += \"? \"\r\n",
        "\r\n",
        "    f.close()\r\n",
        "    return question\r\n",
        "\r\n",
        "\r\n",
        "  def process_dataset(self, from_q, to_q):\r\n",
        "    \"\"\"\r\n",
        "    Process the questions and answers from the sqad dataset and save it as a json file\r\n",
        "\r\n",
        "    Process the dataset from record from_q to record to_q\r\n",
        "    \r\n",
        "    \"\"\"\r\n",
        "\r\n",
        "    sqad_dataset = {}\r\n",
        "    counter = from_q\r\n",
        "\r\n",
        "    for i in tqdm(range(from_q, to_q+1)):\r\n",
        "\r\n",
        "      # get question number\r\n",
        "      q_number = \"\"\r\n",
        "      for _ in range(len(str(i)), 6):\r\n",
        "        q_number += \"0\"\r\n",
        "      q_number += str(i)\r\n",
        "\r\n",
        "      # extract from dataset\r\n",
        "      question = self.extract_question(q_number)\r\n",
        "      correct_answer, lemmatized_answer = self.extract_answer(q_number)\r\n",
        "\r\n",
        "      # exclude yes/no questions\r\n",
        "      if not self.process_boolean:\r\n",
        "        if correct_answer.strip() == \"ano\" or correct_answer.strip() == \"ne\":\r\n",
        "          continue\r\n",
        "\r\n",
        "      # save data\r\n",
        "      data = {}\r\n",
        "      data[\"question\"] = question\r\n",
        "      data[\"answer\"] = correct_answer\r\n",
        "      data[\"answer_lemma\"] = lemmatized_answer\r\n",
        "\r\n",
        "      sqad_dataset[counter] = data\r\n",
        "      counter += 1\r\n",
        "\r\n",
        "    # save extracted data as json\r\n",
        "    with open(self.save_dir, \"w\") as f:\r\n",
        "      json.dump(sqad_dataset, f)\r\n",
        "      print(\"Sqad dataset has been processed to: \" + self.save_dir)\r\n",
        "\r\n",
        "\r\n",
        "  @staticmethod\r\n",
        "  def load_sqad(saved_dataset_file):\r\n",
        "    \"\"\"\r\n",
        "    Loads the saved json daataset as a dictionary\r\n",
        "    \r\n",
        "    \"\"\"\r\n",
        "\r\n",
        "    # load preprocessed sqad dataset\r\n",
        "    with open(saved_dataset_file) as f: \r\n",
        "        data = json.load(f)\r\n",
        "    print(\"Sqad dataset loaded from: \" + saved_dataset_file)\r\n",
        "\r\n",
        "    return data"
      ],
      "execution_count": 12,
      "outputs": []
    },
    {
      "cell_type": "code",
      "metadata": {
        "colab": {
          "base_uri": "https://localhost:8080/",
          "height": 83,
          "referenced_widgets": [
            "c0b370dbd82d421c8b31bf82d84434eb",
            "d15be6c72131485285b306dfb0712513",
            "d94065c879c34ee38c4f43deb5b9f21f",
            "db3c3f8e39ac4806b583fe8d166517a1",
            "597de0c0e69b4eeaba5c931a01b076e6",
            "1c2b8d65876c47859f8120c07068f841",
            "0f2b224c0fbd495d9bc82eab78973986",
            "d0d525b46ecb41fd8213c2896a6026e8"
          ]
        },
        "id": "EHDsT3grGr-M",
        "outputId": "18d856d2-5c54-4275-a4ba-9f10a1c736f5"
      },
      "source": [
        "sqad = SqadDataset(sqad_dir=\"drive/MyDrive/data/cz_sqad/data/\", save_dir=\"drive/MyDrive/data/test.json\")\r\n",
        "sqad.process_dataset(100, 150)"
      ],
      "execution_count": null,
      "outputs": [
        {
          "output_type": "display_data",
          "data": {
            "application/vnd.jupyter.widget-view+json": {
              "model_id": "c0b370dbd82d421c8b31bf82d84434eb",
              "version_minor": 0,
              "version_major": 2
            },
            "text/plain": [
              "HBox(children=(FloatProgress(value=0.0, max=51.0), HTML(value='')))"
            ]
          },
          "metadata": {
            "tags": []
          }
        },
        {
          "output_type": "stream",
          "text": [
            "\n",
            "Sqad dataset has been processed to: drive/MyDrive/data/test.json\n"
          ],
          "name": "stdout"
        }
      ]
    },
    {
      "cell_type": "markdown",
      "metadata": {
        "id": "31IV1omUfXNP"
      },
      "source": [
        "# Loading model\r\n"
      ]
    },
    {
      "cell_type": "markdown",
      "metadata": {
        "id": "6d3vTvLMn4ua"
      },
      "source": [
        "Choose model checkpoint"
      ]
    },
    {
      "cell_type": "code",
      "metadata": {
        "id": "l9-UEUNjnGsm"
      },
      "source": [
        "squad_v2 = False\r\n",
        "if squad_v2:\r\n",
        "  model_checkpoint = \"./drive/MyDrive/albert_models/albert_squad2_finetuned\"\r\n",
        "else:\r\n",
        "  model_checkpoint = \"./drive/MyDrive/albert_models/albert_finetuned\"\r\n",
        "\r\n",
        "# albert xlarge pretrained on squad v2 for experiments\r\n",
        "# model_checkpoint = \"ktrapeznikov/albert-xlarge-v2-squad-v2\""
      ],
      "execution_count": 13,
      "outputs": []
    },
    {
      "cell_type": "markdown",
      "metadata": {
        "id": "y8fIHfAgn7Oh"
      },
      "source": [
        "Create reader\r\n",
        "\r\n"
      ]
    },
    {
      "cell_type": "code",
      "metadata": {
        "id": "-A1KQGXAkbdZ",
        "colab": {
          "base_uri": "https://localhost:8080/"
        },
        "outputId": "44dd4f8d-49dc-4d7f-f5e0-0f1c50efe6b4"
      },
      "source": [
        "reader = Reader(model_checkpoint)"
      ],
      "execution_count": 14,
      "outputs": [
        {
          "output_type": "stream",
          "text": [
            "Model loaded from: ./drive/MyDrive/albert_models/albert_finetuned\n",
            "Model has 11094530 parameters\n",
            "Device selected:\n",
            "cuda:0\n"
          ],
          "name": "stdout"
        }
      ]
    },
    {
      "cell_type": "markdown",
      "metadata": {
        "id": "Rmwj-8Q_PGJQ"
      },
      "source": [
        "Create retriever"
      ]
    },
    {
      "cell_type": "code",
      "metadata": {
        "id": "GQcGScZhPC6m"
      },
      "source": [
        "retriever = Retriever()"
      ],
      "execution_count": 61,
      "outputs": []
    },
    {
      "cell_type": "markdown",
      "metadata": {
        "id": "kd1sclnsRUsK"
      },
      "source": [
        "# Final pipeline"
      ]
    },
    {
      "cell_type": "code",
      "metadata": {
        "id": "IgcqZ3uTIk7c"
      },
      "source": [
        "def translate(question_cs, documents_cs, translator):\r\n",
        "  \"\"\"\r\n",
        "  Translates the czech question and documents and returns\r\n",
        "  question and list of documents in english\r\n",
        "\r\n",
        "  \"\"\"\r\n",
        "  # we concatenate the question with all the documents to be translated at once\r\n",
        "  # so we minimize the number of requests for googletrans\r\n",
        "  delimiter = \" _____ \"\r\n",
        "  concatenated = question_cs\r\n",
        "\r\n",
        "  for doc in documents_cs:\r\n",
        "    concatenated += delimiter\r\n",
        "    concatenated += doc\r\n",
        "\r\n",
        "  # and translate as a whole\r\n",
        "  concatenated = translator.translate(concatenated, src='cs', dest='en').text\r\n",
        "  # and split again\r\n",
        "  delimiter = \"_____\"\r\n",
        "  concatenated = concatenated.split(delimiter)\r\n",
        "  \r\n",
        "  # get translated question and doc\r\n",
        "  question = concatenated[0]\r\n",
        "  documents = concatenated[1:]\r\n",
        "\r\n",
        "  return question, documents"
      ],
      "execution_count": 33,
      "outputs": []
    },
    {
      "cell_type": "code",
      "metadata": {
        "id": "NlwJe2YLRWsu"
      },
      "source": [
        "def find_answer(question, reader, retriever, translator):\r\n",
        "  \"\"\"\r\n",
        "  Finds the answer to the question\r\n",
        "\r\n",
        "  \"\"\"\r\n",
        "\r\n",
        "  question_cs = question # save czech question\r\n",
        "\r\n",
        "  # wiki search\r\n",
        "  documents_cs, article_list = retriever.retrieve(question)\r\n",
        "\r\n",
        "  # for saving the best results\r\n",
        "  bestAnswers = []\r\n",
        "  bestDocs = []\r\n",
        "  bestLogProbs = []\r\n",
        "  bestSummedLogProbs = []\r\n",
        "\r\n",
        "  # translate question and documents for reader\r\n",
        "  question, documents = translate(question_cs, documents_cs, translator)\r\n",
        "\r\n",
        "  # iterate over retrieved paragraphs\r\n",
        "  for idx, document in enumerate(documents):\r\n",
        "    # strip whitespaces\r\n",
        "    document = document.strip()\r\n",
        "\r\n",
        "    # chceck if any document has been found for the question\r\n",
        "    if document == \"\":\r\n",
        "      continue;\r\n",
        "\r\n",
        "    #get answer -------------------------------------------\r\n",
        "    answers = reader.get_answers(question, document)\r\n",
        "\r\n",
        "    # choose valid answer\r\n",
        "    answer = ''\r\n",
        "    for answer in answers:\r\n",
        "      if answer['text'] != '':\r\n",
        "        log_conf = answer['score']\r\n",
        "        answer = answer['text']\r\n",
        "        log_conf_summed = Retriever.count_log_conf(answer, answers)\r\n",
        "        break\r\n",
        "    #######################################################\r\n",
        "\r\n",
        "    # save probs and answer\r\n",
        "    bestAnswers.append(answer)\r\n",
        "    bestLogProbs.append(log_conf)\r\n",
        "    bestSummedLogProbs.append(log_conf_summed)\r\n",
        "    # save retrieved doc\r\n",
        "    bestDocs.append(documents_cs[idx])\r\n",
        "\r\n",
        "  ############################################################\r\n",
        "  # check if any answer was found\r\n",
        "  if len(bestLogProbs) == 0 or bestAnswers[np.argmax(bestLogProbs, axis=0)] == '':\r\n",
        "    return \"\"\r\n",
        "\r\n",
        "  # get the best doc\r\n",
        "  # get best answer from retriever according to reader\r\n",
        "  document = bestDocs[np.argmax(bestLogProbs, axis=0)]\r\n",
        "  answer = bestAnswers[np.argmax(bestLogProbs, axis=0)]\r\n",
        "\r\n",
        "  # translate the final answer\r\n",
        "  answer_en = answer\r\n",
        "  answer =  translator.translate(answer, src='en', dest='cs').text\r\n",
        "\r\n",
        "  return answer, answer_en, document, bestAnswers, bestLogProbs, bestSummedLogProbs, article_list"
      ],
      "execution_count": 17,
      "outputs": []
    },
    {
      "cell_type": "markdown",
      "metadata": {
        "id": "5vx4Wp01k0Gl"
      },
      "source": [
        "# Evaluation on  sqad"
      ]
    },
    {
      "cell_type": "code",
      "metadata": {
        "id": "Tn5_5_YKeC0w"
      },
      "source": [
        "def sqad_eval(from_q, to_q, data, save_results_to):\n",
        "  \"\"\"\n",
        "  Evaluates the model on sqad dataset\n",
        "  \"\"\"\n",
        "  # create translator\n",
        "  translator = Translator()\n",
        "\n",
        "  # write results to\n",
        "  f = open(save_results_to, \"w\")\n",
        "\n",
        "  # for counting correct answers\n",
        "  score = 0\n",
        "\n",
        "  for i in tqdm(range(from_q, to_q+1)):\n",
        "\n",
        "    # get from dataset\n",
        "    question = data[str(i)][\"question\"]\n",
        "    correct_answer = data[str(i)][\"answer\"]\n",
        "    lemmatized_answer = data[str(i)][\"answer_lemma\"]\n",
        "\n",
        "    # get answer and other info to the specific question\n",
        "    answer, answer_en, document, bestAnswers, bestLogProbs, bestSummedLogProbs, article_list = find_answer(question, reader, retriever, translator)\n",
        "\n",
        "    # write the result to file\n",
        "    f.write(\"----------------------------------------------------------------\\n\"+\n",
        "            \"-----------------------| otázka č.\" + str(i) + \" |------------------------\\n\" +\n",
        "            \"----------------------------------------------------------------\\n\"+\n",
        "            \"::otázka : \" + question + \"\\n\" +\n",
        "            \"::odpověď: \" + answer + \" / \" + answer_en + \"\\n\" + \n",
        "            \"::správná odpověď podle sqad : \" + correct_answer + \"\\n\" +\n",
        "            \"::lemma odpovědi podle sqad : \" + lemmatized_answer + \"\\n\\n\" +\n",
        "            \"----------------------------------------------------------------\\n\"+\n",
        "            \"získaný dokument: \" + document + \n",
        "            \"\\n----------------------------------------------------------------\\n\")\n",
        "    # what answers did we get over-all - debugging info\n",
        "    for listitem in bestAnswers:\n",
        "      f.write('%s ;; ' % listitem)\n",
        "    f.write(\"\\n\")\n",
        "    for listitem in bestLogProbs:\n",
        "      f.write('%s ;; ' % listitem)\n",
        "    f.write(\"\\n\")\n",
        "    for listitem in bestSummedLogProbs:\n",
        "      f.write('%s ;; ' % listitem)\n",
        "    f.write(\"\\n\")\n",
        "    for listitem in article_list:\n",
        "      f.write('%s ;; ' % listitem)\n",
        "    f.write(\"\\n\\n\\n\")\n",
        "\n",
        "    # convert to lowercase\n",
        "    answer = answer.lower()\n",
        "    answer_en = answer_en.lower()\n",
        "    correct_answer = correct_answer.lower()\n",
        "    lemmatized_answer = lemmatized_answer.lower()\n",
        "    # increment score, if we got any match between the original and retrieved answer\n",
        "    if (answer in correct_answer or correct_answer in answer or\n",
        "        answer in lemmatized_answer or lemmatized_answer in answer or \n",
        "        answer_en in lemmatized_answer or lemmatized_answer in answer_en):\n",
        "      score += 1\n",
        "\n",
        "  # close file descriptor\n",
        "  f.close()\n",
        "\n",
        "  # get the count of questions answered for score calculation\n",
        "  answered_count = to_q - from_q + 1\n",
        "\n",
        "  print(\"done\")\n",
        "  print(\"score: \" + str(score) + \"/\" + str(answered_count))"
      ],
      "execution_count": 44,
      "outputs": []
    },
    {
      "cell_type": "code",
      "metadata": {
        "id": "uf9PmQUh3bez",
        "colab": {
          "base_uri": "https://localhost:8080/"
        },
        "outputId": "e1a1181c-4b02-42cb-c708-cddd3c9e1ebb"
      },
      "source": [
        "# load preprocessed sqad dataset\r\n",
        "data = SqadDataset.load_sqad(\"drive/MyDrive/data/sqad_processed_without_yes_no.json\")"
      ],
      "execution_count": 45,
      "outputs": [
        {
          "output_type": "stream",
          "text": [
            "Sqad dataset loaded from: drive/MyDrive/data/sqad_processed_without_yes_no.json\n"
          ],
          "name": "stdout"
        }
      ]
    },
    {
      "cell_type": "markdown",
      "metadata": {
        "id": "PgptuBcVtl8Z"
      },
      "source": [
        "Run the evaluation and save the results to the chosen file"
      ]
    },
    {
      "cell_type": "code",
      "metadata": {
        "colab": {
          "base_uri": "https://localhost:8080/",
          "height": 100,
          "referenced_widgets": [
            "a219392acb2746579a4bc38e6b982b0d",
            "5fe2ccd7462a4a28a11948c440aa91fb",
            "6022ecf4e9f8444daa5a045cb74ba24d",
            "d4d3d2509a734275b45e47be811555fc",
            "ddf8ae4d2e9346df8a9eb04a84107f5a",
            "076575f8863a4fe0abff48e061ba4d4d",
            "c51f410f8c974080b8ec979782055621",
            "54fd9fc03c39465a855208c9e2c664ce"
          ]
        },
        "id": "ze44udf7oHHf",
        "outputId": "a03223ad-ff1b-4fe6-cf67-04f77e233983"
      },
      "source": [
        "save_to = \"drive/MyDrive/data/saved_answers/saved_answers_albert/test.txt\"\r\n",
        "\r\n",
        "sqad_eval(100, 200, data, save_to)"
      ],
      "execution_count": 50,
      "outputs": [
        {
          "output_type": "display_data",
          "data": {
            "application/vnd.jupyter.widget-view+json": {
              "model_id": "a219392acb2746579a4bc38e6b982b0d",
              "version_minor": 0,
              "version_major": 2
            },
            "text/plain": [
              "HBox(children=(FloatProgress(value=0.0, max=101.0), HTML(value='')))"
            ]
          },
          "metadata": {
            "tags": []
          }
        },
        {
          "output_type": "stream",
          "text": [
            "\n",
            "done\n",
            "score: 52/101\n"
          ],
          "name": "stdout"
        }
      ]
    },
    {
      "cell_type": "markdown",
      "metadata": {
        "id": "F8KuCxCtNFNo"
      },
      "source": [
        "# Ask a question"
      ]
    },
    {
      "cell_type": "code",
      "metadata": {
        "id": "7KyVD2CDNhcy",
        "colab": {
          "base_uri": "https://localhost:8080/"
        },
        "outputId": "11b83f0b-6e50-48a3-ef51-2f4b40db143d"
      },
      "source": [
        "# create translator\r\n",
        "translator = Translator()\r\n",
        "\r\n",
        "question = \"Kdy byla udělena první ceny Emmy?\"\r\n",
        "answer = find_answer(question, reader, retriever, translator)\r\n",
        "\r\n",
        "if len(answer) == 0:\r\n",
        "  print(answer)\r\n",
        "else:\r\n",
        "  print(answer[0])\r\n",
        "  print()\r\n",
        "  #print(answer[1])\r\n",
        "  print(answer[2])"
      ],
      "execution_count": 64,
      "outputs": [
        {
          "output_type": "stream",
          "text": [
            "25. ledna 1949\n",
            "\n",
            "Cena Emmy (anglicky Emmy Award) představuje každoročně udělované americké televizní ocenění, televizní obdoba filmových Oscarů.\n",
            "Jsou vedeny ve více odvětvích amerického televizního průmyslu a jsou předávány na rozdílných každoročních ceremoniích během celého roku. Nejznámějšími předáváními jsou Primetime Emmys a Daytime Emmys, které hodnotí výjimečnou práci v americkém zábavném programu v průběhu dne a večera. Mezi další známé ceremonie cen Emmy patří ty, které hodnotí sportovní vysílání, národní televizní zprávy a dokumentární pořady, národní pracovní a finanční zprávy a technologické a inženýrské úspěchy v televizi.\n",
            "Tři podobné, ale oddělené organizace organizují cen Emmy: akademie televizního umění a věd (ATAS), národní akademie televizního umění a věd (NATAS) a mezinárodní akademie televizního umění a věd (IATAS). Každá z organizací je zodpovědná za vytváření specifické složky na předávání cen.\n",
            "První cena Emmy byla udělena 25. ledna 1949 při premiérovém slavnostním ceremoniálu v Hollywood Athletic Club Shirley Dinsdaleové v kategorii nejlepší televizní osobnost.\n"
          ],
          "name": "stdout"
        }
      ]
    }
  ]
}