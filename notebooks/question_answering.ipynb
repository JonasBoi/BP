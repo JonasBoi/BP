{
  "nbformat": 4,
  "nbformat_minor": 0,
  "metadata": {
    "accelerator": "GPU",
    "colab": {
      "name": "question_answering.ipynb",
      "provenance": [],
      "collapsed_sections": [
        "bPGazghDdOXn",
        "whlGzus9Z4Tx",
        "tn2ZrNBVGaHI",
        "NmXFG3Ma_Vqf",
        "kd1sclnsRUsK",
        "5vx4Wp01k0Gl",
        "F8KuCxCtNFNo"
      ],
      "toc_visible": true
    },
    "kernelspec": {
      "display_name": "Python 3",
      "name": "python3"
    },
    "widgets": {
      "application/vnd.jupyter.widget-state+json": {
        "c0b370dbd82d421c8b31bf82d84434eb": {
          "model_module": "@jupyter-widgets/controls",
          "model_name": "HBoxModel",
          "state": {
            "_dom_classes": [],
            "_model_module": "@jupyter-widgets/controls",
            "_model_module_version": "1.5.0",
            "_model_name": "HBoxModel",
            "_view_count": null,
            "_view_module": "@jupyter-widgets/controls",
            "_view_module_version": "1.5.0",
            "_view_name": "HBoxView",
            "box_style": "",
            "children": [
              "IPY_MODEL_d94065c879c34ee38c4f43deb5b9f21f",
              "IPY_MODEL_db3c3f8e39ac4806b583fe8d166517a1"
            ],
            "layout": "IPY_MODEL_d15be6c72131485285b306dfb0712513"
          }
        },
        "d94065c879c34ee38c4f43deb5b9f21f": {
          "model_module": "@jupyter-widgets/controls",
          "model_name": "FloatProgressModel",
          "state": {
            "_dom_classes": [],
            "_model_module": "@jupyter-widgets/controls",
            "_model_module_version": "1.5.0",
            "_model_name": "FloatProgressModel",
            "_view_count": null,
            "_view_module": "@jupyter-widgets/controls",
            "_view_module_version": "1.5.0",
            "_view_name": "ProgressView",
            "bar_style": "success",
            "description": "100%",
            "description_tooltip": null,
            "layout": "IPY_MODEL_1c2b8d65876c47859f8120c07068f841",
            "max": 51,
            "min": 0,
            "orientation": "horizontal",
            "style": "IPY_MODEL_597de0c0e69b4eeaba5c931a01b076e6",
            "value": 51
          }
        },
        "db3c3f8e39ac4806b583fe8d166517a1": {
          "model_module": "@jupyter-widgets/controls",
          "model_name": "HTMLModel",
          "state": {
            "_dom_classes": [],
            "_model_module": "@jupyter-widgets/controls",
            "_model_module_version": "1.5.0",
            "_model_name": "HTMLModel",
            "_view_count": null,
            "_view_module": "@jupyter-widgets/controls",
            "_view_module_version": "1.5.0",
            "_view_name": "HTMLView",
            "description": "",
            "description_tooltip": null,
            "layout": "IPY_MODEL_d0d525b46ecb41fd8213c2896a6026e8",
            "placeholder": "​",
            "style": "IPY_MODEL_0f2b224c0fbd495d9bc82eab78973986",
            "value": " 51/51 [00:44&lt;00:00,  1.15it/s]"
          }
        },
        "d15be6c72131485285b306dfb0712513": {
          "model_module": "@jupyter-widgets/base",
          "model_name": "LayoutModel",
          "state": {
            "_model_module": "@jupyter-widgets/base",
            "_model_module_version": "1.2.0",
            "_model_name": "LayoutModel",
            "_view_count": null,
            "_view_module": "@jupyter-widgets/base",
            "_view_module_version": "1.2.0",
            "_view_name": "LayoutView",
            "align_content": null,
            "align_items": null,
            "align_self": null,
            "border": null,
            "bottom": null,
            "display": null,
            "flex": null,
            "flex_flow": null,
            "grid_area": null,
            "grid_auto_columns": null,
            "grid_auto_flow": null,
            "grid_auto_rows": null,
            "grid_column": null,
            "grid_gap": null,
            "grid_row": null,
            "grid_template_areas": null,
            "grid_template_columns": null,
            "grid_template_rows": null,
            "height": null,
            "justify_content": null,
            "justify_items": null,
            "left": null,
            "margin": null,
            "max_height": null,
            "max_width": null,
            "min_height": null,
            "min_width": null,
            "object_fit": null,
            "object_position": null,
            "order": null,
            "overflow": null,
            "overflow_x": null,
            "overflow_y": null,
            "padding": null,
            "right": null,
            "top": null,
            "visibility": null,
            "width": null
          }
        },
        "1c2b8d65876c47859f8120c07068f841": {
          "model_module": "@jupyter-widgets/base",
          "model_name": "LayoutModel",
          "state": {
            "_model_module": "@jupyter-widgets/base",
            "_model_module_version": "1.2.0",
            "_model_name": "LayoutModel",
            "_view_count": null,
            "_view_module": "@jupyter-widgets/base",
            "_view_module_version": "1.2.0",
            "_view_name": "LayoutView",
            "align_content": null,
            "align_items": null,
            "align_self": null,
            "border": null,
            "bottom": null,
            "display": null,
            "flex": null,
            "flex_flow": null,
            "grid_area": null,
            "grid_auto_columns": null,
            "grid_auto_flow": null,
            "grid_auto_rows": null,
            "grid_column": null,
            "grid_gap": null,
            "grid_row": null,
            "grid_template_areas": null,
            "grid_template_columns": null,
            "grid_template_rows": null,
            "height": null,
            "justify_content": null,
            "justify_items": null,
            "left": null,
            "margin": null,
            "max_height": null,
            "max_width": null,
            "min_height": null,
            "min_width": null,
            "object_fit": null,
            "object_position": null,
            "order": null,
            "overflow": null,
            "overflow_x": null,
            "overflow_y": null,
            "padding": null,
            "right": null,
            "top": null,
            "visibility": null,
            "width": null
          }
        },
        "597de0c0e69b4eeaba5c931a01b076e6": {
          "model_module": "@jupyter-widgets/controls",
          "model_name": "ProgressStyleModel",
          "state": {
            "_model_module": "@jupyter-widgets/controls",
            "_model_module_version": "1.5.0",
            "_model_name": "ProgressStyleModel",
            "_view_count": null,
            "_view_module": "@jupyter-widgets/base",
            "_view_module_version": "1.2.0",
            "_view_name": "StyleView",
            "bar_color": null,
            "description_width": "initial"
          }
        },
        "d0d525b46ecb41fd8213c2896a6026e8": {
          "model_module": "@jupyter-widgets/base",
          "model_name": "LayoutModel",
          "state": {
            "_model_module": "@jupyter-widgets/base",
            "_model_module_version": "1.2.0",
            "_model_name": "LayoutModel",
            "_view_count": null,
            "_view_module": "@jupyter-widgets/base",
            "_view_module_version": "1.2.0",
            "_view_name": "LayoutView",
            "align_content": null,
            "align_items": null,
            "align_self": null,
            "border": null,
            "bottom": null,
            "display": null,
            "flex": null,
            "flex_flow": null,
            "grid_area": null,
            "grid_auto_columns": null,
            "grid_auto_flow": null,
            "grid_auto_rows": null,
            "grid_column": null,
            "grid_gap": null,
            "grid_row": null,
            "grid_template_areas": null,
            "grid_template_columns": null,
            "grid_template_rows": null,
            "height": null,
            "justify_content": null,
            "justify_items": null,
            "left": null,
            "margin": null,
            "max_height": null,
            "max_width": null,
            "min_height": null,
            "min_width": null,
            "object_fit": null,
            "object_position": null,
            "order": null,
            "overflow": null,
            "overflow_x": null,
            "overflow_y": null,
            "padding": null,
            "right": null,
            "top": null,
            "visibility": null,
            "width": null
          }
        },
        "0f2b224c0fbd495d9bc82eab78973986": {
          "model_module": "@jupyter-widgets/controls",
          "model_name": "DescriptionStyleModel",
          "state": {
            "_model_module": "@jupyter-widgets/controls",
            "_model_module_version": "1.5.0",
            "_model_name": "DescriptionStyleModel",
            "_view_count": null,
            "_view_module": "@jupyter-widgets/base",
            "_view_module_version": "1.2.0",
            "_view_name": "StyleView",
            "description_width": ""
          }
        },
        "fc9a6179945b4977ae7c9cf6b2a0c2de": {
          "model_module": "@jupyter-widgets/controls",
          "model_name": "HBoxModel",
          "state": {
            "_view_name": "HBoxView",
            "_dom_classes": [],
            "_model_name": "HBoxModel",
            "_view_module": "@jupyter-widgets/controls",
            "_model_module_version": "1.5.0",
            "_view_count": null,
            "_view_module_version": "1.5.0",
            "box_style": "",
            "layout": "IPY_MODEL_9da150dc00b54c7890110501a193dc29",
            "_model_module": "@jupyter-widgets/controls",
            "children": [
              "IPY_MODEL_ac93d3ff947248a28608980801c1cada",
              "IPY_MODEL_1af419c857e6450aa898a182dadaa007"
            ]
          }
        },
        "9da150dc00b54c7890110501a193dc29": {
          "model_module": "@jupyter-widgets/base",
          "model_name": "LayoutModel",
          "state": {
            "_view_name": "LayoutView",
            "grid_template_rows": null,
            "right": null,
            "justify_content": null,
            "_view_module": "@jupyter-widgets/base",
            "overflow": null,
            "_model_module_version": "1.2.0",
            "_view_count": null,
            "flex_flow": null,
            "width": null,
            "min_width": null,
            "border": null,
            "align_items": null,
            "bottom": null,
            "_model_module": "@jupyter-widgets/base",
            "top": null,
            "grid_column": null,
            "overflow_y": null,
            "overflow_x": null,
            "grid_auto_flow": null,
            "grid_area": null,
            "grid_template_columns": null,
            "flex": null,
            "_model_name": "LayoutModel",
            "justify_items": null,
            "grid_row": null,
            "max_height": null,
            "align_content": null,
            "visibility": null,
            "align_self": null,
            "height": null,
            "min_height": null,
            "padding": null,
            "grid_auto_rows": null,
            "grid_gap": null,
            "max_width": null,
            "order": null,
            "_view_module_version": "1.2.0",
            "grid_template_areas": null,
            "object_position": null,
            "object_fit": null,
            "grid_auto_columns": null,
            "margin": null,
            "display": null,
            "left": null
          }
        },
        "ac93d3ff947248a28608980801c1cada": {
          "model_module": "@jupyter-widgets/controls",
          "model_name": "FloatProgressModel",
          "state": {
            "_view_name": "ProgressView",
            "style": "IPY_MODEL_6b957fad8acb48d4a7473ee054f22528",
            "_dom_classes": [],
            "description": "100%",
            "_model_name": "FloatProgressModel",
            "bar_style": "success",
            "max": 10,
            "_view_module": "@jupyter-widgets/controls",
            "_model_module_version": "1.5.0",
            "value": 10,
            "_view_count": null,
            "_view_module_version": "1.5.0",
            "orientation": "horizontal",
            "min": 0,
            "description_tooltip": null,
            "_model_module": "@jupyter-widgets/controls",
            "layout": "IPY_MODEL_773f2dceef29438c83403d1c6d95a620"
          }
        },
        "1af419c857e6450aa898a182dadaa007": {
          "model_module": "@jupyter-widgets/controls",
          "model_name": "HTMLModel",
          "state": {
            "_view_name": "HTMLView",
            "style": "IPY_MODEL_a980a1d3d53244ec99264ff4540fe124",
            "_dom_classes": [],
            "description": "",
            "_model_name": "HTMLModel",
            "placeholder": "​",
            "_view_module": "@jupyter-widgets/controls",
            "_model_module_version": "1.5.0",
            "value": " 10/10 [00:25&lt;00:00,  2.50s/it]",
            "_view_count": null,
            "_view_module_version": "1.5.0",
            "description_tooltip": null,
            "_model_module": "@jupyter-widgets/controls",
            "layout": "IPY_MODEL_8020ba30219446a39df504ef8b77759c"
          }
        },
        "6b957fad8acb48d4a7473ee054f22528": {
          "model_module": "@jupyter-widgets/controls",
          "model_name": "ProgressStyleModel",
          "state": {
            "_view_name": "StyleView",
            "_model_name": "ProgressStyleModel",
            "description_width": "initial",
            "_view_module": "@jupyter-widgets/base",
            "_model_module_version": "1.5.0",
            "_view_count": null,
            "_view_module_version": "1.2.0",
            "bar_color": null,
            "_model_module": "@jupyter-widgets/controls"
          }
        },
        "773f2dceef29438c83403d1c6d95a620": {
          "model_module": "@jupyter-widgets/base",
          "model_name": "LayoutModel",
          "state": {
            "_view_name": "LayoutView",
            "grid_template_rows": null,
            "right": null,
            "justify_content": null,
            "_view_module": "@jupyter-widgets/base",
            "overflow": null,
            "_model_module_version": "1.2.0",
            "_view_count": null,
            "flex_flow": null,
            "width": null,
            "min_width": null,
            "border": null,
            "align_items": null,
            "bottom": null,
            "_model_module": "@jupyter-widgets/base",
            "top": null,
            "grid_column": null,
            "overflow_y": null,
            "overflow_x": null,
            "grid_auto_flow": null,
            "grid_area": null,
            "grid_template_columns": null,
            "flex": null,
            "_model_name": "LayoutModel",
            "justify_items": null,
            "grid_row": null,
            "max_height": null,
            "align_content": null,
            "visibility": null,
            "align_self": null,
            "height": null,
            "min_height": null,
            "padding": null,
            "grid_auto_rows": null,
            "grid_gap": null,
            "max_width": null,
            "order": null,
            "_view_module_version": "1.2.0",
            "grid_template_areas": null,
            "object_position": null,
            "object_fit": null,
            "grid_auto_columns": null,
            "margin": null,
            "display": null,
            "left": null
          }
        },
        "a980a1d3d53244ec99264ff4540fe124": {
          "model_module": "@jupyter-widgets/controls",
          "model_name": "DescriptionStyleModel",
          "state": {
            "_view_name": "StyleView",
            "_model_name": "DescriptionStyleModel",
            "description_width": "",
            "_view_module": "@jupyter-widgets/base",
            "_model_module_version": "1.5.0",
            "_view_count": null,
            "_view_module_version": "1.2.0",
            "_model_module": "@jupyter-widgets/controls"
          }
        },
        "8020ba30219446a39df504ef8b77759c": {
          "model_module": "@jupyter-widgets/base",
          "model_name": "LayoutModel",
          "state": {
            "_view_name": "LayoutView",
            "grid_template_rows": null,
            "right": null,
            "justify_content": null,
            "_view_module": "@jupyter-widgets/base",
            "overflow": null,
            "_model_module_version": "1.2.0",
            "_view_count": null,
            "flex_flow": null,
            "width": null,
            "min_width": null,
            "border": null,
            "align_items": null,
            "bottom": null,
            "_model_module": "@jupyter-widgets/base",
            "top": null,
            "grid_column": null,
            "overflow_y": null,
            "overflow_x": null,
            "grid_auto_flow": null,
            "grid_area": null,
            "grid_template_columns": null,
            "flex": null,
            "_model_name": "LayoutModel",
            "justify_items": null,
            "grid_row": null,
            "max_height": null,
            "align_content": null,
            "visibility": null,
            "align_self": null,
            "height": null,
            "min_height": null,
            "padding": null,
            "grid_auto_rows": null,
            "grid_gap": null,
            "max_width": null,
            "order": null,
            "_view_module_version": "1.2.0",
            "grid_template_areas": null,
            "object_position": null,
            "object_fit": null,
            "grid_auto_columns": null,
            "margin": null,
            "display": null,
            "left": null
          }
        }
      }
    }
  },
  "cells": [
    {
      "cell_type": "markdown",
      "metadata": {
        "id": "ptvBUgFZkKmm"
      },
      "source": [
        "# Requirments\n",
        "\n"
      ]
    },
    {
      "cell_type": "code",
      "metadata": {
        "id": "KUgwJtaFLYTc"
      },
      "source": [
        "\"\"\"\n",
        "# get majka database\n",
        "!curl --remote-name-all https://nlp.fi.muni.cz/ma{/majka.w-lt}\n",
        "!mv majka.w-lt drive/MyDrive/data/\n",
        "# download czech squad\n",
        "!curl --remote-name-all https://lindat.cz/repository/xmlui/bitstream/handle/11234/1-3069{/sqad_v3.tar.xz}\n",
        "!mv sqad_v3.tar.xz drive/MyDrive/data/\n",
        "!tar -xf drive/MyDrive/data/sqad_v3.tar.xz\n",
        "\"\"\""
      ],
      "execution_count": null,
      "outputs": []
    },
    {
      "cell_type": "code",
      "metadata": {
        "id": "RKgj8CeSViAh"
      },
      "source": [
        "!pip install sentencepiece\n",
        "!pip install datasets transformers\n",
        "\n",
        "!pip install googletrans==4.0.0-rc1\n",
        "!pip install wikipedia\n",
        "!pip install rank_bm25\n",
        "!pip install majka\n",
        "!pip install corpy\n",
        "\n",
        "!pip install tensorflow-gpu==1.15.2\n",
        "!pip install deeppavlov\n",
        "!pip install git+https://github.com/deepmipt/bert.git@feat/multi_gpu"
      ],
      "execution_count": null,
      "outputs": []
    },
    {
      "cell_type": "markdown",
      "metadata": {
        "id": "HoTIyL_slAcA"
      },
      "source": [
        "Importing important libraries"
      ]
    },
    {
      "cell_type": "code",
      "metadata": {
        "id": "bRQGzm8pJ4C6"
      },
      "source": [
        "import torch\n",
        "import string\n",
        "import os\n",
        "import sys\n",
        "import time\n",
        "import shutil\n",
        "import json\n",
        "import numpy as np\n",
        "import collections\n",
        "import datetime\n",
        "from tqdm.auto import tqdm\n",
        "import warnings\n",
        "import json\n",
        "import nltk.data\n",
        "import nltk\n",
        "\n",
        "from datasets import load_dataset, load_metric\n",
        "from typing import List, Tuple, Dict\n",
        "from collections import defaultdict\n",
        "from transformers import AlbertTokenizerFast, AlbertForQuestionAnswering\n",
        "from transformers import BertTokenizerFast, BertForQuestionAnswering\n",
        "\n",
        "from deeppavlov import build_model, configs\n",
        "\n",
        "from rank_bm25 import BM25Okapi, BM25Plus, BM25L\n",
        "import re\n",
        "import majka\n",
        "from corpy.morphodita import Tagger\n",
        "import wikipedia\n",
        "from googletrans import Translator\n",
        "import requests\n",
        "\n",
        "from google.colab import drive\n",
        "\n",
        "warnings.filterwarnings(\"ignore\")\n",
        "\n",
        "nltk.download('punkt')"
      ],
      "execution_count": null,
      "outputs": []
    },
    {
      "cell_type": "markdown",
      "metadata": {
        "id": "irgCFymirbsM"
      },
      "source": [
        "Mount google drive "
      ]
    },
    {
      "cell_type": "code",
      "metadata": {
        "colab": {
          "base_uri": "https://localhost:8080/"
        },
        "id": "3oFuZPSCKZiv",
        "outputId": "144303f5-fd70-48f0-cad5-fda02e399d41"
      },
      "source": [
        "# Remove pre-cached sample data in colab's directory\n",
        "if os.path.isdir(\"sample_data\"):\n",
        "  shutil.rmtree(\"sample_data\")\n",
        "drive.mount('/content/drive')"
      ],
      "execution_count": null,
      "outputs": [
        {
          "output_type": "stream",
          "text": [
            "Mounted at /content/drive\n"
          ],
          "name": "stdout"
        }
      ]
    },
    {
      "cell_type": "markdown",
      "metadata": {
        "id": "_5twSdMKrdm3"
      },
      "source": [
        "Get downloaded ner_model from drive"
      ]
    },
    {
      "cell_type": "code",
      "metadata": {
        "colab": {
          "base_uri": "https://localhost:8080/"
        },
        "id": "Y5gLU7Grhsdq",
        "outputId": "c74fe853-9768-41cd-d1c7-97a17f2c7d04"
      },
      "source": [
        "!mkdir /root/.deeppavlov\n",
        "!mkdir /root/.deeppavlov/models/\n",
        "!mkdir /root/.deeppavlov/downloads/\n",
        "\n",
        "!cp -r ./drive/MyDrive/ner_models/bert_models /root/.deeppavlov/downloads/\n",
        "!cp -r ./drive/MyDrive/ner_models/ner_ontonotes_bert_mult /root/.deeppavlov/models/\n",
        "\n",
        "!ls /root/.deeppavlov/downloads\n",
        "!ls /root/.deeppavlov/models"
      ],
      "execution_count": null,
      "outputs": [
        {
          "output_type": "stream",
          "text": [
            "bert_models\n",
            "ner_ontonotes_bert_mult\n"
          ],
          "name": "stdout"
        }
      ]
    },
    {
      "cell_type": "markdown",
      "metadata": {
        "id": "6ECjdEt9riBQ"
      },
      "source": [
        "Download and extract morphoita tagger model for lemmatization"
      ]
    },
    {
      "cell_type": "code",
      "metadata": {
        "id": "hVPYl6CEiedR"
      },
      "source": [
        "!curl --remote-name-all https://lindat.mff.cuni.cz/repository/xmlui/bitstream/handle/11234/1-1836{/czech-morfflex-pdt-161115.zip}\n",
        "!unzip ./czech-morfflex-pdt-161115.zip"
      ],
      "execution_count": null,
      "outputs": []
    },
    {
      "cell_type": "markdown",
      "metadata": {
        "id": "bPGazghDdOXn"
      },
      "source": [
        "# Reader"
      ]
    },
    {
      "cell_type": "code",
      "metadata": {
        "id": "fjuzSaPEnesl"
      },
      "source": [
        "class Reader():\n",
        "\n",
        "  def __init__(self, model_checkpoint, model_type=\"albert\", max_answer_length=10, n_best_size=10, max_length=384, stride=128, use_cpu=False):\n",
        "    # load all parameters of the reader\n",
        "    self.max_answer_length = max_answer_length  # max answer span length\n",
        "    self.n_best_size = n_best_size  # \n",
        "    self.max_length = max_length  # max count of tokens in one tokenized passage\n",
        "    self.stride = stride  # the length of overlap between two mini-batches of tokenizer\n",
        "\n",
        "    # choose device; cuda if available\n",
        "    self.device = torch.device(\"cuda:0\" if (torch.cuda.is_available() and use_cpu == False) else \"cpu\")\n",
        "\n",
        "    if model_type == 'albert':\n",
        "      # load tokenizer and model from pretrained checkpoint\n",
        "      self.tokenizer = AlbertTokenizerFast.from_pretrained(model_checkpoint)\n",
        "      # load model to device if possible\n",
        "      self.model = AlbertForQuestionAnswering.from_pretrained(model_checkpoint).to(self.device)\n",
        "    elif model_type == 'mbert':\n",
        "      # load tokenizer and model from pretrained checkpoint\n",
        "      self.tokenizer = BertTokenizerFast.from_pretrained(model_checkpoint)\n",
        "      # load model to device if possible\n",
        "      self.model = BertForQuestionAnswering.from_pretrained(model_checkpoint).to(self.device)\n",
        "    else:\n",
        "      print(\"Wrong model type parameter.\")\n",
        "      return None\n",
        "\n",
        "    print(\"Model loaded from: \" + model_checkpoint)\n",
        "    print(f\"Model has {self.count_parameters(self.model)} parameters\")\n",
        "    print(\"Device selected:\")\n",
        "    print(self.device)\n",
        "\n",
        "\n",
        "  def decode(self, output, context, offset_mappings):\n",
        "    \"\"\"\n",
        "    get the text span from the unnormalized log probabilities\n",
        "\n",
        "    method has been partly borrowed from \n",
        "    https://colab.research.google.com/github/huggingface/notebooks/blob/master/examples/question_answering.ipynb\n",
        "\n",
        "    \"\"\"\n",
        "    # enumerate over all outputs (max output size is 500 tokens in a log prob tensor)\n",
        "    valid_answers = []\n",
        "\n",
        "    for i, _ in enumerate(output.start_logits):\n",
        "\n",
        "      start_logits = output.start_logits[i].cpu().detach().numpy()\n",
        "      end_logits = output.end_logits[i].cpu().detach().numpy()\n",
        "      offset_mapping = offset_mappings[i]\n",
        "\n",
        "      # Gather the indices the best start/end logits:\n",
        "      start_indexes = np.argsort(start_logits)[-1 : - self.n_best_size - 1 : -1].tolist()\n",
        "      end_indexes = np.argsort(end_logits)[-1 : - self.n_best_size - 1 : -1].tolist()\n",
        "      for start_index in start_indexes:\n",
        "          for end_index in end_indexes:\n",
        "              # Don't consider out-of-scope answers, either because the indices are out of bounds or correspond\n",
        "              # to part of the input_ids that are not in the context.\n",
        "              if (\n",
        "                  start_index >= len(offset_mapping)\n",
        "                  or end_index >= len(offset_mapping)\n",
        "                  or offset_mapping[start_index] is None\n",
        "                  or offset_mapping[end_index] is None\n",
        "              ):\n",
        "                  continue\n",
        "              # Don't consider answers with a length that is either < 0 or > max_answer_length.\n",
        "              if end_index < start_index or end_index - start_index + 1 > self.max_answer_length:\n",
        "                  continue\n",
        "              if start_index <= end_index: # We need to refine that test to check the answer is inside the context\n",
        "                  start_char = offset_mapping[start_index][0]\n",
        "                  end_char = offset_mapping[end_index][1]\n",
        "                  valid_answers.append(\n",
        "                      {\n",
        "                          \"score\": start_logits[start_index] + end_logits[end_index],\n",
        "                          \"text\": context[start_char: end_char].strip()\n",
        "                      }\n",
        "                  )\n",
        "    valid_answers = sorted(valid_answers, key=lambda x: x[\"score\"], reverse=True)[:self.n_best_size]\n",
        "    return valid_answers\n",
        "\n",
        "\n",
        "  def get_answers(self, question, context):\n",
        "    \"\"\"\n",
        "    get the best answers from the context to the question \n",
        "\n",
        "    \"\"\"\n",
        "    inputs = self.tokenizer(question, context, \n",
        "                      return_tensors='pt',\n",
        "                      truncation=\"only_second\",\n",
        "                      max_length=self.max_length, # to prevent cuda running out of memory\n",
        "                      stride=self.stride,     # overlap within splitted long\n",
        "                      return_offsets_mapping=True,\n",
        "                      return_overflowing_tokens=True,\n",
        "                      padding=\"max_length\")\n",
        "    inputs.to(self.device)\n",
        "\n",
        "    outputs = self.model(inputs['input_ids'], \n",
        "                    token_type_ids=inputs['token_type_ids'],\n",
        "                    attention_mask=inputs['attention_mask'])\n",
        "    \n",
        "    valid_answers = self.decode(outputs, context, inputs['offset_mapping'])\n",
        "    \n",
        "    return valid_answers\n",
        "\n",
        "\n",
        "  def count_parameters(self, model):\n",
        "    \"\"\"\n",
        "    Counts the parameters of the model\n",
        "\n",
        "    \"\"\"\n",
        "\n",
        "    return sum(p.numel() for p in self.model.parameters() if p.requires_grad)\n",
        "    "
      ],
      "execution_count": null,
      "outputs": []
    },
    {
      "cell_type": "markdown",
      "metadata": {
        "id": "whlGzus9Z4Tx"
      },
      "source": [
        "# Retriever\n"
      ]
    },
    {
      "cell_type": "code",
      "metadata": {
        "id": "iX5OVeUoufHc"
      },
      "source": [
        "class Retriever():\n",
        "\n",
        "  def __init__(self):\n",
        "    wikipedia.set_lang(\"cs\") \n",
        "\n",
        "    # save the most common czech words (stop words)\n",
        "    common = \"kdy být a se v na ten on že s z který mít do já o k i jeho ale svůj jako za moci pro tak po tento co když všechen už jak aby od nebo říci jeden jen můj jenž ty stát u muset chtít také až než ještě při jít pak před však ani vědět hodně podle další celý jiný mezi dát tady tam kde každý takový protože nic něco ne sám bez či dostat nějaký proto\"\n",
        "    self.common = common.split()\n",
        "\n",
        "    # save punctuation to be removed\n",
        "    punctuation = \". , ? ! ... \\\" ( ) ; - /\"\n",
        "    self.punctuation = punctuation.split()\n",
        "\n",
        "    \"\"\"\n",
        "    # majka lemmatizer settings\n",
        "    self.morph = majka.Majka('drive/MyDrive/data/majka.w-lt')\n",
        "    self.morph.flags = 0  # unset all flags\n",
        "    self.morph.tags = False  # return just the lemma, do not process the tags\n",
        "    self.morph.first_only = True  # return only the first entry\n",
        "    self.morph.negative = \"ne\"\n",
        "    \"\"\"\n",
        "    print(\"Loading lemmatizer\")\n",
        "    # morphodita lemmatizer\n",
        "    self.tagger = Tagger(\"./czech-morfflex-pdt-161115/czech-morfflex-pdt-161115.tagger\")\n",
        "    print(\"Lemmatizer loaded\")\n",
        "\n",
        "    print(\"Building titles index\")\n",
        "    # load wiki titles and build index for search\n",
        "    self.bm25_articles_index, self.titles = self.get_title_search_index()\n",
        "    print(\"Titles index done\")\n",
        "\n",
        "    print(\"Building articles index\")\n",
        "    # load wiki abstracts and build index for search\n",
        "    self.bm25_abstract_index, self.abstract_titles = self.get_abstract_search_index()\n",
        "    print(\"articles index done\")\n",
        "\n",
        "    print(\"Loading tokenizer\")\n",
        "    # load tokenizer to split text into sentences\n",
        "    self.tokenizer = nltk.data.load('tokenizers/punkt/czech.pickle')\n",
        "    print(\"Tokenizer loaded\")\n",
        "\n",
        "    print(\"Building ner model\")\n",
        "    # Download and load model (set download=False to skip download phase)\n",
        "    save_stdout = sys.stdout\n",
        "    sys.stdout = open('trash', 'w')\n",
        "    self.ner = build_model(configs.ner.ner_ontonotes_bert_mult, download=False)\n",
        "    sys.stdout = save_stdout\n",
        "    print(\"Ner model loaded\")\n",
        "\n",
        "    print(\"Retriever initialized\")\n",
        "\n",
        "\n",
        "  def get_title_search_index(self):\n",
        "    \"\"\"\n",
        "    Build index for searching through relevant title names on czech wiki:\n",
        "\n",
        "    \"\"\"\n",
        "\n",
        "    f = open(\"drive/MyDrive/data/wiki/cswiki-latest-all-titles-in-ns0\", \"r\")\n",
        "    titles = []\n",
        "\n",
        "    for line in f: \n",
        "      title = ((\" \").join(line.split(\"_\"))).strip()\n",
        "      title = title.strip('\\n')\n",
        "      titles.append(title)\n",
        "\n",
        "    f.close()\n",
        "\n",
        "    # tokenize for bm25\n",
        "    tok_titles = []\n",
        "    for title in titles:\n",
        "      # tok_tit = delete_common(lemmatize_morphodita(title.lower()))\n",
        "\n",
        "      tok_tit = re.split(\" \", title.lower())\n",
        "      for tok in tok_tit:\n",
        "        if tok == \"\":\n",
        "          tok_tit.remove(\"\")\n",
        "\n",
        "      tok_titles.append(tok_tit)\n",
        "    \n",
        "    #build index\n",
        "    bm25 = BM25Okapi(tok_titles)\n",
        "\n",
        "    return bm25, titles\n",
        "\n",
        "\n",
        "  def get_abstract_search_index(self):\n",
        "    \"\"\"\n",
        "    Build index for searching through relevant abstracts on czech wiki:\n",
        "\n",
        "    \"\"\"\n",
        "\n",
        "    save_dir = \"drive/MyDrive/data/wiki_abstracts_processed.json\"\n",
        "\n",
        "    with open(save_dir, \"r\") as f:\n",
        "      wiki_abstracts = json.load(f)\n",
        "\n",
        "    titles = []\n",
        "    for idx in wiki_abstracts:\n",
        "      titles.append(wiki_abstracts[idx]['title'])\n",
        "\n",
        "    abstracts = []\n",
        "    for idx in wiki_abstracts:\n",
        "      abstracts.append(wiki_abstracts[idx]['abstract'])\n",
        "    \n",
        "    # process for bm25\n",
        "    tok_abstracts = []\n",
        "    for abstract in abstracts:\n",
        "      tok_abstract = self.delete_common(self.lemmatize_morphodita(abstract.lower()))\n",
        "      tok_abstracts.append(tok_abstract)\n",
        "\n",
        "    #build index\n",
        "    bm25 = BM25Okapi(tok_abstracts)\n",
        "\n",
        "    return bm25, titles\n",
        "\n",
        "\n",
        "  def search_titles(self, question):\n",
        "    \"\"\"\n",
        "    Search with bm25 among the wiki titles\n",
        "\n",
        "    \"\"\"\n",
        "    tokenized_query = self.delete_common(self.lemmatize_morphodita(question.lower()))\n",
        "    results = self.bm25_articles_index.get_top_n(tokenized_query, self.titles, n=5)\n",
        "\n",
        "    return results\n",
        "  \n",
        "\n",
        "  def search_abstracts(self, question):\n",
        "    \"\"\"\n",
        "    Search with bm25 among the wiki abstracts\n",
        "\n",
        "    \"\"\"\n",
        "    tokenized_query = self.delete_common(self.lemmatize_morphodita(question.lower()))\n",
        "    results = self.bm25_abstract_index.get_top_n(tokenized_query, self.abstract_titles, n=5)\n",
        "\n",
        "    return results\n",
        "\n",
        "\n",
        "  \"\"\"\n",
        "  def get_named_entities(self, question):\n",
        "    \n",
        "    # Extracts named entities from the question.\n",
        "\n",
        "    \n",
        "\n",
        "    URL = \"https://nlp.fi.muni.cz/projekty/ner/nerJSON.py\"\n",
        "    text = question\n",
        "    PARAMS = {'text': text}\n",
        "    r = requests.get(url = URL, params = PARAMS)\n",
        "    data = r.json() \n",
        "\n",
        "    NEs = []\n",
        "\n",
        "    if data != {}:\n",
        "      for item in data:\n",
        "        lemma = data[item]['lemma']\n",
        "        NEs.append(lemma)\n",
        "\n",
        "    return NEs\n",
        "  \"\"\"\n",
        "\n",
        "  def get_pavlov_named_entities(self, question):\n",
        "    \"\"\"\n",
        "    Extracts named entities from the question.\n",
        "\n",
        "    \"\"\"\n",
        "    ner_tags = self.ner([question])\n",
        "\n",
        "    named_entities = \"\"\n",
        "    for idx, tag in enumerate(ner_tags[1][0]):\n",
        "      if tag != 'O':\n",
        "        named_entities += ner_tags[0][0][idx] + \" \"\n",
        "\n",
        "    NEs = []\n",
        "    if len(named_entities.strip()) != 0:\n",
        "      NEs.append(named_entities.strip())\n",
        "\n",
        "    return NEs\n",
        "  \n",
        "  def iscommon(self, x):\n",
        "    \"\"\"\n",
        "    decides if query token is common\n",
        "\n",
        "    \"\"\"\n",
        "    if x in self.common or x in self.punctuation:\n",
        "      return True\n",
        "    else:\n",
        "      return False\n",
        "\n",
        "\n",
        "  def delete_common(self, tokens):\n",
        "    \"\"\"\n",
        "    Remove the most common czech words from the query tokens (low information value)\n",
        "\n",
        "    \"\"\"\n",
        "    tokens = [x for x in tokens if not self.iscommon(x)]\n",
        "        \n",
        "    return tokens\n",
        "\n",
        "  \"\"\"\n",
        "  def lemmatize(self, text):\n",
        "    \n",
        "    # Returns lemma of each token in a list of lemmatized tokens\n",
        "\n",
        "    \n",
        "\n",
        "    tok_text = re.split(\"\\W\", text)\n",
        "\n",
        "    # lemmatize each token\n",
        "    lemmatized_tokens = []\n",
        "    for token in tok_text:\n",
        "      if token == '':\n",
        "        continue\n",
        "      lemma = self.morph.find(token)\n",
        "      if len(lemma) == 0:\n",
        "        lemmatized_tokens.append(token)\n",
        "      else:\n",
        "        lemmatized_tokens.append(lemma[0]['lemma'])\n",
        "\n",
        "    return lemmatized_tokens\n",
        "  \"\"\"\n",
        "\n",
        "  def lemmatize_morphodita(self, text):\n",
        "    \"\"\"\n",
        "    Returns lemma of each token in a list of lemmatized tokens\n",
        "\n",
        "    \"\"\"\n",
        "\n",
        "    text = re.split(\"\\W\", text)\n",
        "    text = (\" \").join(text)\n",
        "\n",
        "    tokens = list(self.tagger.tag(text, convert='strip_lemma_id'))\n",
        "\n",
        "    lemmas = []\n",
        "    for token in tokens:\n",
        "      lemmas.append(token.lemma)\n",
        "\n",
        "    return lemmas\n",
        "\n",
        "\n",
        "  def search_again(self, tokens):\n",
        "    \"\"\"\n",
        "    Performs repeated search in case wiki api didnt find any documents\n",
        "\n",
        "    \"\"\"\n",
        "    searched_term = (' ').join(tokens)\n",
        "    if searched_term.strip() != \"\":\n",
        "      doc_list = wikipedia.search(searched_term, results=1)\n",
        "\n",
        "    if len(tokens) == 0:\n",
        "      return []\n",
        "\n",
        "    if len(doc_list) == 0:\n",
        "      del tokens[0]\n",
        "      return self.search_again(tokens)\n",
        "\n",
        "    return doc_list\n",
        "\n",
        "\n",
        "  def get_doc_list(self, question):\n",
        "    \"\"\"\n",
        "    Returns top 1-3 wiki arcitles that might answer the question topic\n",
        "\n",
        "    \"\"\"\n",
        "\n",
        "    # get names entities if present\n",
        "    named_ERs = self.get_pavlov_named_entities(question)\n",
        "    # get relevant article title names\n",
        "    relevant_titles = self.search_titles(question)\n",
        "    # get relevant abstracts\n",
        "    relevant_abstracts = self.search_abstracts(question)\n",
        "\n",
        "    #search for documents\n",
        "    max_docs = 1\n",
        "    doc_list = []\n",
        "\n",
        "    # search based on recognised named entity\n",
        "    if len(named_ERs) > 0:\n",
        "      article = wikipedia.search(named_ERs[0], results=max_docs)\n",
        "      if len(article) > 0:\n",
        "        doc_list.append(article[0])\n",
        "    # search based on best wiki title match\n",
        "    if len(relevant_titles) > 0:\n",
        "      article = wikipedia.search(relevant_titles[0], results=max_docs)\n",
        "      if len(article) > 0:\n",
        "        doc_list.append(article[0])\n",
        "    # search based on best wiki abstract match\n",
        "    if len(relevant_abstracts) > 0:\n",
        "      article = wikipedia.search(relevant_abstracts[0], results=max_docs)\n",
        "      if len(article) > 0:\n",
        "        doc_list.append(article[0])\n",
        "        \n",
        "\n",
        "    # basic search for the question\n",
        "    article = wikipedia.search(question, results=max_docs)\n",
        "    # simplify the search if its too bad\n",
        "    if len(article) == 0:\n",
        "      # extract important for wiki\n",
        "      tokens = self.delete_common(self.lemmatize_morphodita(question.lower()))\n",
        "      article = self.search_again(tokens)\n",
        "    if len(article) > 0:\n",
        "      doc_list.append(article[0])\n",
        "\n",
        "    return doc_list\n",
        "\n",
        "  \n",
        "  def normalize_length(self, par):\n",
        "    \"\"\"\n",
        "    Splits too long paragraph into smaller ones\n",
        "\n",
        "    \"\"\"\n",
        "\n",
        "    #split long paragraph into sentences\n",
        "    sentences = self.tokenizer.tokenize(par)\n",
        "\n",
        "    normalized_pars = []\n",
        "    new_paragraph = \"\"\n",
        "\n",
        "    # iterate over sentences\n",
        "    for idx, sentence in enumerate(sentences):\n",
        "      \n",
        "      if len(new_paragraph) + len(sentence) > 1500:\n",
        "        normalized_pars.append(new_paragraph)\n",
        "        new_paragraph = \"\"\n",
        "\n",
        "        # make some overlap\n",
        "        for k, trailing in enumerate(sentences[idx-2:idx]):\n",
        "          new_paragraph += trailing\n",
        "\n",
        "      else:\n",
        "        new_paragraph += sentence\n",
        "    \n",
        "    return normalized_pars\n",
        "\n",
        "  \n",
        "  def split_documents(self, doc_list):\n",
        "    \"\"\"\n",
        "    Splits each retrievede wiki article into paragraphs and normalizes its lengths\n",
        "\n",
        "    \"\"\"\n",
        "\n",
        "    pars = []\n",
        "    lemm_pars = []\n",
        "\n",
        "    # iterate over articles and process each one\n",
        "    for doc in doc_list:\n",
        "      # get whole page content\n",
        "      try:\n",
        "        doc = wikipedia.page(doc)\n",
        "      except wikipedia.DisambiguationError as e:\n",
        "        s = e.options[0]\n",
        "        try:\n",
        "          doc = wikipedia.page(s)\n",
        "        except wikipedia.DisambiguationError or wikipedia.exceptions.PageError:\n",
        "          continue\n",
        "      except wikipedia.exceptions.PageError as e:\n",
        "        continue\n",
        "\n",
        "      result = re.split('=== Reference ===|== Reference ==', doc.content)[0]\n",
        "      # split article into paragraphs\n",
        "      result = re.split('== .*. ==|\\\\n\\\\n', result)\n",
        "\n",
        "      # save stripped paragraphs\n",
        "      for par in result:\n",
        "        par = ((((par.strip()).strip('=')).strip('\\n')).strip('\\n\\n')).strip('\\r\\n')\n",
        "\n",
        "        # remove some trash\n",
        "        if par == '' or par == '\\n' or par.strip().startswith(\"Obrázky, zvuky či videa k tématu\"):\n",
        "          continue\n",
        "\n",
        "        # check max paragraph length\n",
        "        if len(par) > 1500:\n",
        "          # split into smaller paragraphs\n",
        "          normalized_paragraphs = self.normalize_length(par)\n",
        "          # append each smaller paragraph\n",
        "          for norm_par in normalized_paragraphs:\n",
        "            pars.append(norm_par)\n",
        "            lemm_pars.append((' ').join(self.delete_common(self.lemmatize_morphodita(norm_par.lower()))))\n",
        "        else:\n",
        "          # append paragraph\n",
        "          pars.append(par)\n",
        "\n",
        "          # get lemmas and append\n",
        "          lemm_pars.append((' ').join(self.delete_common(self.lemmatize_morphodita(par.lower()))))\n",
        "\n",
        "    return pars, lemm_pars\n",
        "\n",
        "  def retrieve(self, question):  \n",
        "    \"\"\"\n",
        "    Returns the top 3 paragraphs for the given question\n",
        "\n",
        "    \"\"\"\n",
        "    # max question length\n",
        "    if len(question) > 250:\n",
        "      return \"\"\n",
        "    # strip questionmark\n",
        "    question = question.strip('?')\n",
        "\n",
        "    # TODO SPEED THIS UP\n",
        "    # get wiki documents\n",
        "    doc_list = self.get_doc_list(question)\n",
        "\n",
        "    # convert to set to only work with unique article names\n",
        "    doc_list = set(doc_list)\n",
        "\n",
        "    # TODO SPEED THIS UP\n",
        "    # split docs into paragraphs\n",
        "    pars, lemm_pars = self.split_documents(doc_list)\n",
        "\n",
        "    # tokenize for bm25\n",
        "    tok_text = []\n",
        "    for par in lemm_pars:\n",
        "      tok_par = re.split(\"\\W\", par)\n",
        "      for tok in tok_par:\n",
        "        if tok == \"\":\n",
        "          tok_par.remove(\"\")\n",
        "      tok_text.append(tok_par)\n",
        "\n",
        "    # build index\n",
        "    bm25 = BM25Plus(tok_text)\n",
        "    # bm25 = BM25Okapi(tok_text)\n",
        "\n",
        "    # tokenize and lemmatize the query\n",
        "    tokenized_query = (' ').join(self.delete_common(self.lemmatize_morphodita(question.lower())))\n",
        "    tokenized_query = re.split(\"\\W\", tokenized_query)\n",
        "\n",
        "    # get results\n",
        "    results = bm25.get_top_n(tokenized_query, pars, n=3)\n",
        "\n",
        "    return results, doc_list\n",
        "\n",
        "\n",
        "  @staticmethod\n",
        "  def count_log_conf(best_answer, all_answers):\n",
        "    \"\"\"\n",
        "    Returns the sum of log probs \n",
        "    \n",
        "    \"\"\"\n",
        "\n",
        "    log_conf = 0\n",
        "    for answer in all_answers:\n",
        "      if (best_answer in answer['text']) or (answer['text'] in best_answer):\n",
        "        log_conf += answer['score']\n",
        "    \n",
        "    return log_conf\n"
      ],
      "execution_count": null,
      "outputs": []
    },
    {
      "cell_type": "markdown",
      "metadata": {
        "id": "tn2ZrNBVGaHI"
      },
      "source": [
        "# Preprocessing SQAD"
      ]
    },
    {
      "cell_type": "code",
      "metadata": {
        "id": "FFQTW92tCd5M"
      },
      "source": [
        "class SqadDataset():\n",
        "\n",
        "  def __init__(self, sqad_dir, save_dir=\"./sqad_processed\", process_boolean=False):\n",
        "    self.save_dir = save_dir\n",
        "    self.sqad_dir = sqad_dir\n",
        "    self.process_boolean = process_boolean\n",
        "\n",
        "  def extract_answer(self, dirnum):\n",
        "    \"\"\"\n",
        "    Parse the answer of current dataset record.\n",
        "    Returns the parsed answer and its lemma.\n",
        "\n",
        "    \"\"\"\n",
        "\n",
        "    f = open(f\"{self.sqad_dir}/{dirnum}/09answer_extraction.vert\", \"r\")\n",
        "\n",
        "    q = f.read().split(\"\\n\")\n",
        "    answer = \"\"\n",
        "    answer_lemma = \"\"\n",
        "\n",
        "    # parse answer\n",
        "    for line in q:\n",
        "      # split into columns\n",
        "      line = line.split(\"\\t\")\n",
        "\n",
        "      # end sign\n",
        "      if line[0] == \"</s>\":\n",
        "        break\n",
        "      \n",
        "      # get answer and its lemma\n",
        "      line_a = line[0]\n",
        "      if len(line) > 1:\n",
        "        line_a_lemma = line[1]\n",
        "        if line_a_lemma == \"[number]\":\n",
        "          line_a_lemma = line[0]\n",
        "\n",
        "      # process special signs\n",
        "      if line_a in {\"<s>\", \"<g/>\", \"</s>\"}:\n",
        "        answer = answer[:-1]\n",
        "        answer_lemma = answer_lemma[:-1]\n",
        "        continue\n",
        "\n",
        "      # append answer\n",
        "      answer += line_a + \" \"\n",
        "      answer_lemma += line_a_lemma + \" \"\n",
        "    \n",
        "    f.close()\n",
        "    return answer, answer_lemma\n",
        "\n",
        "\n",
        "  def extract_question(self, dirnum):\n",
        "    \"\"\"\n",
        "    Parse the answer of current dataset record.\n",
        "    Returns the parsed answer and its lemma.\n",
        "    \n",
        "    \"\"\"\n",
        "\n",
        "    f = open(f\"{self.sqad_dir}/{dirnum}/01question.vert\", \"r\")\n",
        "\n",
        "    q = f.read().split(\"\\n\")\n",
        "    question = \"\"\n",
        "\n",
        "    for line in q:\n",
        "      line = line.split(\"\\t\")\n",
        "      # end sign\n",
        "      if line[0] == \"</s>\" and question[-1] == \"?\":\n",
        "        break\n",
        "\n",
        "      line = line[0]\n",
        "      if line in {\"<s>\", \"<g/>\", \"</s>\"}:\n",
        "        question = question[:-1]\n",
        "        continue\n",
        "      \n",
        "      if line != \"?\":\n",
        "        question += line + \" \"\n",
        "      else:\n",
        "        question += \"? \"\n",
        "\n",
        "    f.close()\n",
        "    return question\n",
        "\n",
        "\n",
        "  def process_dataset(self, from_q, to_q):\n",
        "    \"\"\"\n",
        "    Process the questions and answers from the sqad dataset and save it as a json file\n",
        "\n",
        "    Process the dataset from record from_q to record to_q\n",
        "    \n",
        "    \"\"\"\n",
        "\n",
        "    sqad_dataset = {}\n",
        "    counter = from_q\n",
        "\n",
        "    for i in tqdm(range(from_q, to_q+1)):\n",
        "\n",
        "      # get question number\n",
        "      q_number = \"\"\n",
        "      for _ in range(len(str(i)), 6):\n",
        "        q_number += \"0\"\n",
        "      q_number += str(i)\n",
        "\n",
        "      # extract from dataset\n",
        "      question = self.extract_question(q_number)\n",
        "      correct_answer, lemmatized_answer = self.extract_answer(q_number)\n",
        "\n",
        "      # exclude yes/no questions\n",
        "      if not self.process_boolean:\n",
        "        if correct_answer.strip() == \"ano\" or correct_answer.strip() == \"ne\":\n",
        "          continue\n",
        "\n",
        "      # save data\n",
        "      data = {}\n",
        "      data[\"question\"] = question\n",
        "      data[\"answer\"] = correct_answer\n",
        "      data[\"answer_lemma\"] = lemmatized_answer\n",
        "\n",
        "      sqad_dataset[counter] = data\n",
        "      counter += 1\n",
        "\n",
        "    # save extracted data as json\n",
        "    with open(self.save_dir, \"w\") as f:\n",
        "      json.dump(sqad_dataset, f)\n",
        "      print(\"Sqad dataset has been processed to: \" + self.save_dir)\n",
        "\n",
        "\n",
        "  @staticmethod\n",
        "  def load_sqad(saved_dataset_file):\n",
        "    \"\"\"\n",
        "    Loads the saved json daataset as a dictionary\n",
        "    \n",
        "    \"\"\"\n",
        "\n",
        "    # load preprocessed sqad dataset\n",
        "    with open(saved_dataset_file) as f: \n",
        "        data = json.load(f)\n",
        "    print(\"Sqad dataset loaded from: \" + saved_dataset_file)\n",
        "\n",
        "    return data"
      ],
      "execution_count": null,
      "outputs": []
    },
    {
      "cell_type": "code",
      "metadata": {
        "colab": {
          "base_uri": "https://localhost:8080/",
          "height": 83,
          "referenced_widgets": [
            "c0b370dbd82d421c8b31bf82d84434eb",
            "d94065c879c34ee38c4f43deb5b9f21f",
            "db3c3f8e39ac4806b583fe8d166517a1",
            "d15be6c72131485285b306dfb0712513",
            "1c2b8d65876c47859f8120c07068f841",
            "597de0c0e69b4eeaba5c931a01b076e6",
            "d0d525b46ecb41fd8213c2896a6026e8",
            "0f2b224c0fbd495d9bc82eab78973986"
          ]
        },
        "id": "EHDsT3grGr-M",
        "outputId": "18d856d2-5c54-4275-a4ba-9f10a1c736f5"
      },
      "source": [
        "sqad = SqadDataset(sqad_dir=\"drive/MyDrive/data/cz_sqad/data/\", save_dir=\"drive/MyDrive/data/test.json\")\n",
        "sqad.process_dataset(100, 150)"
      ],
      "execution_count": null,
      "outputs": [
        {
          "output_type": "display_data",
          "data": {
            "application/vnd.jupyter.widget-view+json": {
              "model_id": "c0b370dbd82d421c8b31bf82d84434eb",
              "version_major": 2,
              "version_minor": 0
            },
            "text/plain": [
              "HBox(children=(FloatProgress(value=0.0, max=51.0), HTML(value='')))"
            ]
          },
          "metadata": {
            "tags": []
          }
        },
        {
          "output_type": "stream",
          "text": [
            "\n",
            "Sqad dataset has been processed to: drive/MyDrive/data/test.json\n"
          ],
          "name": "stdout"
        }
      ]
    },
    {
      "cell_type": "markdown",
      "metadata": {
        "id": "NmXFG3Ma_Vqf"
      },
      "source": [
        "# Wiki abstracts parsing"
      ]
    },
    {
      "cell_type": "code",
      "metadata": {
        "colab": {
          "base_uri": "https://localhost:8080/"
        },
        "id": "O_yUhY-w_R8T",
        "outputId": "643cf65a-139f-4441-8e42-c3fc6e2752a4"
      },
      "source": [
        "!curl --remote-name-all https://dumps.wikimedia.org/cswiki/latest/{cswiki-latest-abstract.xml.gz}\n",
        "!gunzip ./cswiki-latest-abstract.xml.gz"
      ],
      "execution_count": null,
      "outputs": [
        {
          "output_type": "stream",
          "text": [
            "  % Total    % Received % Xferd  Average Speed   Time    Time     Time  Current\n",
            "                                 Dload  Upload   Total   Spent    Left  Speed\n",
            "100 63.5M  100 63.5M    0     0  4765k      0  0:00:13  0:00:13 --:--:-- 5003k\n"
          ],
          "name": "stdout"
        }
      ]
    },
    {
      "cell_type": "code",
      "metadata": {
        "id": "oLWcBBg1DE6c"
      },
      "source": [
        "from xml.dom import minidom\n",
        "\n",
        "xmldoc = minidom.parse('cswiki-latest-abstract.xml')\n",
        "\n",
        "abstracts = xmldoc.getElementsByTagName('abstract')\n",
        "titles = xmldoc.getElementsByTagName('title')\n",
        "\n",
        "for title in titles:\n",
        "  title.firstChild.nodeValue = title.firstChild.nodeValue.lstrip('Wikipedie: ')"
      ],
      "execution_count": null,
      "outputs": []
    },
    {
      "cell_type": "code",
      "metadata": {
        "id": "I-_ZhigVXD24"
      },
      "source": [
        "wiki_abstracts = {}\n",
        "\n",
        "for idx, title in enumerate(titles):\n",
        "  \n",
        "  data = {}\n",
        "  data['title'] = title.firstChild.nodeValue\n",
        "\n",
        "  if abstracts[idx].firstChild != None:\n",
        "    data['abstract'] = abstracts[idx].firstChild.nodeValue\n",
        "\n",
        "    wiki_abstracts[idx] = data\n",
        "\n",
        "save_dir = \"drive/MyDrive/data/wiki_abstracts_processed.json\"\n",
        "# save extracted data as json\n",
        "with open(save_dir, \"w\") as f:\n",
        "  json.dump(wiki_abstracts, f)\n",
        "  print(\"Sqad dataset has been processed to: \" + save_dir)"
      ],
      "execution_count": null,
      "outputs": []
    },
    {
      "cell_type": "markdown",
      "metadata": {
        "id": "31IV1omUfXNP"
      },
      "source": [
        "# Loading model\n"
      ]
    },
    {
      "cell_type": "markdown",
      "metadata": {
        "id": "6d3vTvLMn4ua"
      },
      "source": [
        "Choose model checkpoint"
      ]
    },
    {
      "cell_type": "code",
      "metadata": {
        "id": "l9-UEUNjnGsm"
      },
      "source": [
        "# either 'mbert' or 'albert'\n",
        "model_type = 'mbert'\n",
        "\n",
        "if model_type == 'mbert':\n",
        "  model_checkpoint = \"./drive/MyDrive/mbert_models/bert_finetuned_czech_squad\"\n",
        "elif model_type == 'albert':\n",
        "  model_checkpoint = \"./drive/MyDrive/albert_models/albert_finetuned\"\n",
        "else:\n",
        "  print(\"wrong model type name\")\n",
        "\n",
        "# albert xlarge pretrained on squad v2 for experiments\n",
        "# model_checkpoint = \"ktrapeznikov/albert-xlarge-v2-squad-v2\""
      ],
      "execution_count": null,
      "outputs": []
    },
    {
      "cell_type": "markdown",
      "metadata": {
        "id": "y8fIHfAgn7Oh"
      },
      "source": [
        "Create reader\n",
        "\n"
      ]
    },
    {
      "cell_type": "code",
      "metadata": {
        "colab": {
          "base_uri": "https://localhost:8080/"
        },
        "id": "-A1KQGXAkbdZ",
        "outputId": "e3b2a61c-5890-4f29-85a8-f19f4ade0e99"
      },
      "source": [
        "reader = Reader(model_checkpoint, model_type=model_type)"
      ],
      "execution_count": null,
      "outputs": [
        {
          "output_type": "stream",
          "text": [
            "Model loaded from: ./drive/MyDrive/mbert_models/bert_finetuned_czech_squad\n",
            "Model has 177264386 parameters\n",
            "Device selected:\n",
            "cuda:0\n"
          ],
          "name": "stdout"
        }
      ]
    },
    {
      "cell_type": "markdown",
      "metadata": {
        "id": "Rmwj-8Q_PGJQ"
      },
      "source": [
        "Create retriever (Initialization of the retriever takes about 10 minutes because of building the index for wikipedia abstracts)"
      ]
    },
    {
      "cell_type": "code",
      "metadata": {
        "colab": {
          "base_uri": "https://localhost:8080/"
        },
        "id": "GQcGScZhPC6m",
        "outputId": "68957447-4601-46fa-85be-3e7bedc6bc70"
      },
      "source": [
        "retriever = Retriever()"
      ],
      "execution_count": null,
      "outputs": [
        {
          "output_type": "stream",
          "text": [
            "Ner model loaded\n",
            "Retriever initialized\n"
          ],
          "name": "stdout"
        }
      ]
    },
    {
      "cell_type": "markdown",
      "metadata": {
        "id": "kd1sclnsRUsK"
      },
      "source": [
        "# Final pipeline"
      ]
    },
    {
      "cell_type": "code",
      "metadata": {
        "id": "IgcqZ3uTIk7c"
      },
      "source": [
        "def translate(question_cs, documents_cs, translator):\n",
        "  \"\"\"\n",
        "  Translates the czech question and documents and returns\n",
        "  question and list of documents in english\n",
        "\n",
        "  \"\"\"\n",
        "  # we concatenate the question with all the documents to be translated at once\n",
        "  # so we minimize the number of requests for googletrans\n",
        "  delimiter = \" _____ \"\n",
        "  concatenated = question_cs\n",
        "\n",
        "  for doc in documents_cs:\n",
        "    concatenated += delimiter\n",
        "    concatenated += doc\n",
        "\n",
        "  # and translate as a whole\n",
        "  concatenated = translator.translate(concatenated, src='cs', dest='en').text\n",
        "  # and split again\n",
        "  delimiter = \"_____\"\n",
        "  concatenated = concatenated.split(delimiter)\n",
        "  \n",
        "  # get translated question and doc\n",
        "  question = concatenated[0]\n",
        "  documents = concatenated[1:]\n",
        "\n",
        "  return question, documents"
      ],
      "execution_count": null,
      "outputs": []
    },
    {
      "cell_type": "code",
      "metadata": {
        "id": "NlwJe2YLRWsu"
      },
      "source": [
        "def find_answer(question, reader, retriever, translator, model_type):\n",
        "  \"\"\"\n",
        "  Finds the answer to the question\n",
        "\n",
        "  \"\"\"\n",
        "\n",
        "  question_cs = question # save czech question\n",
        "\n",
        "  # wiki search\n",
        "  documents_cs, article_list = retriever.retrieve(question)\n",
        "\n",
        "  # for saving the best results\n",
        "  bestAnswers = []\n",
        "  bestDocs = []\n",
        "  bestLogProbs = []\n",
        "  bestSummedLogProbs = []\n",
        "  \n",
        "  # translate according to model type\n",
        "  if model_type == 'mbert':\n",
        "    question = question_cs\n",
        "    documents = documents_cs\n",
        "\n",
        "  elif model_type == 'albert':\n",
        "    # translate question and documents for reader\n",
        "    question, documents = translate(question_cs, documents_cs, translator)\n",
        "  # delete null strings\n",
        "  documents = [x for x in documents if len(x.strip())]\n",
        "\n",
        "  # iterate over retrieved paragraphs\n",
        "  for idx, document in enumerate(documents):\n",
        "    # strip whitespaces\n",
        "    document = document.strip()\n",
        "\n",
        "    # chceck if any document has been found for the question\n",
        "    if document == \"\":\n",
        "      continue;\n",
        "\n",
        "    #get answer -------------------------------------------\n",
        "    answers = reader.get_answers(question, document)\n",
        "    log_conf = 0\n",
        "    log_conf_summed = 0\n",
        "\n",
        "    # choose valid answer\n",
        "    answer = ''\n",
        "    for answer in answers:\n",
        "      if answer['text'] != '':\n",
        "        log_conf = answer['score']\n",
        "        answer = answer['text']\n",
        "        log_conf_summed = Retriever.count_log_conf(answer, answers)\n",
        "        break\n",
        "    #######################################################\n",
        "    if type(answer) is not str:\n",
        "      continue\n",
        "\n",
        "    # save probs and answer\n",
        "    bestAnswers.append(answer)\n",
        "    bestLogProbs.append(log_conf)\n",
        "    bestSummedLogProbs.append(log_conf_summed)\n",
        "    # save retrieved doc\n",
        "    bestDocs.append(documents_cs[idx])\n",
        "\n",
        "  ############################################################\n",
        "  # check if any answer was found\n",
        "  if len(bestLogProbs) == 0 or bestAnswers[np.argmax(bestLogProbs, axis=0)] == '':\n",
        "    return \"\"\n",
        "\n",
        "  # get the best doc\n",
        "  # get best answer from retriever according to reader\n",
        "  document = bestDocs[np.argmax(bestLogProbs, axis=0)]\n",
        "  answer = bestAnswers[np.argmax(bestLogProbs, axis=0)]\n",
        "\n",
        "  # translate the final answer\n",
        "  answer_en = answer\n",
        "  if model_type == 'albert':\n",
        "    answer =  translator.translate(answer, src='en', dest='cs').text\n",
        "\n",
        "  return answer, answer_en, document, bestAnswers, bestLogProbs, bestSummedLogProbs, article_list"
      ],
      "execution_count": null,
      "outputs": []
    },
    {
      "cell_type": "markdown",
      "metadata": {
        "id": "5vx4Wp01k0Gl"
      },
      "source": [
        "# Evaluation on  sqad"
      ]
    },
    {
      "cell_type": "code",
      "metadata": {
        "id": "0KEOMq9OCUKS"
      },
      "source": [
        "def get_timestamp():\n",
        "    return datetime.datetime.now().strftime('%d-%m-%Y_%H:%M')"
      ],
      "execution_count": null,
      "outputs": []
    },
    {
      "cell_type": "code",
      "metadata": {
        "id": "PPsHd8NXKY1w"
      },
      "source": [
        "def write_results_txt(f, i, question, answer, answer_en, correct_answer, document,\n",
        "                      bestAnswers, bestLogProbs, bestSummedLogProbs, article_list):\n",
        "  \"\"\"\n",
        "  Writes results as txt format\n",
        "\n",
        "  \"\"\"\n",
        "  # write the result to file\n",
        "  f.write(\"----------------------------------------------------------------\\n\"+\n",
        "          \"-----------------------| otázka č.\" + str(i) + \" |------------------------\\n\" +\n",
        "          \"----------------------------------------------------------------\\n\"+\n",
        "          \"::otázka : \" + question + \"\\n\" +\n",
        "          \"::odpověď: \" + answer + \" / \" + answer_en + \"\\n\" + \n",
        "          \"::správná odpověď podle sqad : \" + correct_answer + \"\\n\" +\n",
        "          \"----------------------------------------------------------------\\n\"+\n",
        "          \"získaný dokument: \" + document + \n",
        "          \"\\n----------------------------------------------------------------\\n\")\n",
        "  # what answers did we get over-all - debugging info\n",
        "  for listitem in bestAnswers:\n",
        "    f.write('%s ;; ' % listitem)\n",
        "  f.write(\"\\n\")\n",
        "  for listitem in bestLogProbs:\n",
        "    f.write('%s ;; ' % listitem)\n",
        "  f.write(\"\\n\")\n",
        "  for listitem in bestSummedLogProbs:\n",
        "    f.write('%s ;; ' % listitem)\n",
        "  f.write(\"\\n\")\n",
        "  for listitem in article_list:\n",
        "    f.write('%s ;; ' % listitem)\n",
        "  f.write(\"\\n\\n\\n\")"
      ],
      "execution_count": null,
      "outputs": []
    },
    {
      "cell_type": "code",
      "metadata": {
        "id": "Tn5_5_YKeC0w"
      },
      "source": [
        "def sqad_eval_predictions(from_q, to_q, data, save_dir, model_type):\n",
        "  \"\"\"\n",
        "  Gets answers for required range of sqad questions.\n",
        "  Saves results as txt and json for later evaluation\n",
        "\n",
        "  \"\"\"\n",
        "\n",
        "  # create translator\n",
        "  translator = Translator()\n",
        "\n",
        "  # write text results as txt\n",
        "  save_file = save_dir + f\"answers_{from_q}-{to_q}__time:{get_timestamp()}.txt\"\n",
        "  f = open(save_file, \"w\")\n",
        "\n",
        "  # for writing structured results to json\n",
        "  results = {}\n",
        "\n",
        "  #iterate over sqad questions in required range\n",
        "  for i in tqdm(range(from_q, to_q+1)):\n",
        "\n",
        "    # get data from processed dataset\n",
        "    question = data[str(i)][\"question\"]\n",
        "    correct_answer = data[str(i)][\"answer\"]\n",
        "    lemmatized_answer = data[str(i)][\"answer_lemma\"]\n",
        "\n",
        "    # get answer and other info for the specific question\n",
        "    answer, answer_en, document, bestAnswers, bestLogProbs, bestSummedLogProbs, article_list = find_answer(\n",
        "        question, reader, retriever, translator, model_type)\n",
        "    \n",
        "    # write results to txt\n",
        "    write_results_txt(f, i, question, answer, answer_en, correct_answer, document,\n",
        "                      bestAnswers, bestLogProbs, bestSummedLogProbs, article_list)\n",
        "    \n",
        "    # convert set to list\n",
        "    article_list = list(article_list)\n",
        "    # convert list of floats to strings\n",
        "    bestLogProbs = ['{:.2f}'.format(x) for x in bestLogProbs]\n",
        "\n",
        "    # write to dict for json dump for later evaluation\n",
        "    results[i] = {\n",
        "        \"question\" : question,\n",
        "        \"answer\" : answer,\n",
        "        \"answer_orig\" : answer_en,\n",
        "        \"answer_sqad\" : correct_answer,\n",
        "        \"answer_sqad_lemma\" : lemmatized_answer,\n",
        "        \"articles\" : article_list,\n",
        "        \"document\" : document,\n",
        "        \"all_answers\" : bestAnswers,\n",
        "        \"all_log_probs\" : bestLogProbs\n",
        "    }\n",
        "\n",
        "    # interim save\n",
        "    if i % 100 == 0:\n",
        "      # save interim results\n",
        "      save_file = save_dir + f\"checkpoint_{from_q}-{i}__{get_timestamp()}.json\"\n",
        "      with open(save_file, \"w\") as j:\n",
        "        json.dump(results, j)\n",
        "\n",
        "  ##############################################################################\n",
        "\n",
        "  # close file descriptor\n",
        "  f.close()\n",
        "\n",
        "  # save results as json for later eval\n",
        "  save_file = save_dir + f\"answers_{from_q}-{to_q}__time:{get_timestamp()}.json\"\n",
        "  with open(save_file, \"w\") as j:\n",
        "    json.dump(results, j)\n",
        "    print()\n",
        "    print(\"Results has been saved to \" + save_file)"
      ],
      "execution_count": 65,
      "outputs": []
    },
    {
      "cell_type": "code",
      "metadata": {
        "colab": {
          "base_uri": "https://localhost:8080/"
        },
        "id": "uf9PmQUh3bez",
        "outputId": "67f5511d-4eaa-4b82-9cb6-d081b047457a"
      },
      "source": [
        "# load preprocessed sqad dataset\n",
        "data = SqadDataset.load_sqad(\"drive/MyDrive/data/sqad_processed_without_yes_no.json\")"
      ],
      "execution_count": null,
      "outputs": [
        {
          "output_type": "stream",
          "text": [
            "Sqad dataset loaded from: drive/MyDrive/data/sqad_processed_without_yes_no.json\n"
          ],
          "name": "stdout"
        }
      ]
    },
    {
      "cell_type": "markdown",
      "metadata": {
        "id": "PgptuBcVtl8Z"
      },
      "source": [
        "Run the evaluation and save the results to the chosen file"
      ]
    },
    {
      "cell_type": "code",
      "metadata": {
        "colab": {
          "base_uri": "https://localhost:8080/",
          "height": 99,
          "referenced_widgets": [
            "fc9a6179945b4977ae7c9cf6b2a0c2de",
            "9da150dc00b54c7890110501a193dc29",
            "ac93d3ff947248a28608980801c1cada",
            "1af419c857e6450aa898a182dadaa007",
            "6b957fad8acb48d4a7473ee054f22528",
            "773f2dceef29438c83403d1c6d95a620",
            "a980a1d3d53244ec99264ff4540fe124",
            "8020ba30219446a39df504ef8b77759c"
          ]
        },
        "id": "ze44udf7oHHf",
        "outputId": "72710ebb-8d7a-43b2-c78f-6c555335339b"
      },
      "source": [
        "save_to = \"drive/MyDrive/data/saved_answers/saved_answers_mbert/\"\n",
        "\n",
        "sqad_eval_predictions(1, 10, data, save_to, model_type)"
      ],
      "execution_count": 66,
      "outputs": [
        {
          "output_type": "display_data",
          "data": {
            "application/vnd.jupyter.widget-view+json": {
              "model_id": "fc9a6179945b4977ae7c9cf6b2a0c2de",
              "version_minor": 0,
              "version_major": 2
            },
            "text/plain": [
              "HBox(children=(FloatProgress(value=0.0, max=10.0), HTML(value='')))"
            ]
          },
          "metadata": {
            "tags": []
          }
        },
        {
          "output_type": "stream",
          "text": [
            "\n",
            "\n",
            "Results has been saved to drive/MyDrive/data/saved_answers/saved_answers_mbert/answers_1-10__time:02-04-2021_11:23.json\n"
          ],
          "name": "stdout"
        }
      ]
    },
    {
      "cell_type": "code",
      "metadata": {
        "id": "cQHJL6TYEEvT"
      },
      "source": [
        "def sqad_eval_score(results_json):\n",
        "  \"\"\"\n",
        "  Evaluates results from file 'results_json' on standard metrics\n",
        "\n",
        "  \"\"\"\n",
        "\n",
        "  # load results\n",
        "  with open(results_json, \"r\") as f:\n",
        "      results = json.load(f)\n",
        "\n",
        "  # for counting correct answers\n",
        "  score = 0\n",
        "  n_answers = 0\n",
        "\n",
        "  for i in results:\n",
        "\n",
        "    # convert to lowercase\n",
        "    answer = results[i][\"answer\"].lower()\n",
        "    answer_en = results[i][\"answer_orig\"].lower()\n",
        "    correct_answer = results[i][\"answer_sqad\"].lower()\n",
        "    lemmatized_answer = results[i][\"answer_sqad_lemma\"].lower()\n",
        "    document = results[i][\"document\"]\n",
        "\n",
        "    # increment score, if we got any match between the original and retrieved answer\n",
        "    if (answer in correct_answer or correct_answer in answer or\n",
        "        answer in lemmatized_answer or lemmatized_answer in answer or \n",
        "        answer_en in lemmatized_answer or lemmatized_answer in answer_en):\n",
        "      score += 1\n",
        "    n_answers += 1\n",
        "\n",
        "  percent = (score / n_answers) *100\n",
        "  print(\"results:\")\n",
        "  print(f\"score: {str(score)}/{n_answers} ... {percent}%\")"
      ],
      "execution_count": null,
      "outputs": []
    },
    {
      "cell_type": "code",
      "metadata": {
        "colab": {
          "base_uri": "https://localhost:8080/"
        },
        "id": "m8GuQq-wLKbt",
        "outputId": "6f4412a0-11f8-4468-b938-31949ba7958b"
      },
      "source": [
        "sqad_eval_score(\"drive/MyDrive/data/saved_answers/saved_answers_mbert/answers_1-10__time:02-04-2021_11:23.json\")"
      ],
      "execution_count": 67,
      "outputs": [
        {
          "output_type": "stream",
          "text": [
            "results:\n",
            "score: 7/10 ... 70.0%\n"
          ],
          "name": "stdout"
        }
      ]
    },
    {
      "cell_type": "markdown",
      "metadata": {
        "id": "F8KuCxCtNFNo"
      },
      "source": [
        "# Ask a question"
      ]
    },
    {
      "cell_type": "code",
      "metadata": {
        "id": "7KyVD2CDNhcy"
      },
      "source": [
        "# create translator\n",
        "translator = Translator()\n",
        "\n",
        "question = \"Kdy skončila druhá světová válka?\"\n",
        "answer = find_answer(question, reader, retriever, translator, model_type)\n",
        "\n",
        "if len(answer) == 0:\n",
        "  print(answer)\n",
        "else:\n",
        "  print(question)\n",
        "  print()\n",
        "  print(answer[0])\n",
        "  if model_type == 'albert':\n",
        "    print(answer[1])\n",
        "  print()\n",
        "  #print(answer[1])\n",
        "  print(answer[2])\n",
        "  print(answer)"
      ],
      "execution_count": null,
      "outputs": []
    }
  ]
}