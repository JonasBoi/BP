{
  "nbformat": 4,
  "nbformat_minor": 0,
  "metadata": {
    "colab": {
      "name": "question_answering.ipynb",
      "provenance": [],
      "collapsed_sections": [
        "bPGazghDdOXn",
        "whlGzus9Z4Tx",
        "tn2ZrNBVGaHI",
        "kd1sclnsRUsK",
        "SwPOzAjL8OQU",
        "F8KuCxCtNFNo"
      ],
      "toc_visible": true
    },
    "kernelspec": {
      "name": "python3",
      "display_name": "Python 3"
    },
    "accelerator": "GPU",
    "widgets": {
      "application/vnd.jupyter.widget-state+json": {
        "c0b370dbd82d421c8b31bf82d84434eb": {
          "model_module": "@jupyter-widgets/controls",
          "model_name": "HBoxModel",
          "state": {
            "_view_name": "HBoxView",
            "_dom_classes": [],
            "_model_name": "HBoxModel",
            "_view_module": "@jupyter-widgets/controls",
            "_model_module_version": "1.5.0",
            "_view_count": null,
            "_view_module_version": "1.5.0",
            "box_style": "",
            "layout": "IPY_MODEL_d15be6c72131485285b306dfb0712513",
            "_model_module": "@jupyter-widgets/controls",
            "children": [
              "IPY_MODEL_d94065c879c34ee38c4f43deb5b9f21f",
              "IPY_MODEL_db3c3f8e39ac4806b583fe8d166517a1"
            ]
          }
        },
        "d15be6c72131485285b306dfb0712513": {
          "model_module": "@jupyter-widgets/base",
          "model_name": "LayoutModel",
          "state": {
            "_view_name": "LayoutView",
            "grid_template_rows": null,
            "right": null,
            "justify_content": null,
            "_view_module": "@jupyter-widgets/base",
            "overflow": null,
            "_model_module_version": "1.2.0",
            "_view_count": null,
            "flex_flow": null,
            "width": null,
            "min_width": null,
            "border": null,
            "align_items": null,
            "bottom": null,
            "_model_module": "@jupyter-widgets/base",
            "top": null,
            "grid_column": null,
            "overflow_y": null,
            "overflow_x": null,
            "grid_auto_flow": null,
            "grid_area": null,
            "grid_template_columns": null,
            "flex": null,
            "_model_name": "LayoutModel",
            "justify_items": null,
            "grid_row": null,
            "max_height": null,
            "align_content": null,
            "visibility": null,
            "align_self": null,
            "height": null,
            "min_height": null,
            "padding": null,
            "grid_auto_rows": null,
            "grid_gap": null,
            "max_width": null,
            "order": null,
            "_view_module_version": "1.2.0",
            "grid_template_areas": null,
            "object_position": null,
            "object_fit": null,
            "grid_auto_columns": null,
            "margin": null,
            "display": null,
            "left": null
          }
        },
        "d94065c879c34ee38c4f43deb5b9f21f": {
          "model_module": "@jupyter-widgets/controls",
          "model_name": "FloatProgressModel",
          "state": {
            "_view_name": "ProgressView",
            "style": "IPY_MODEL_597de0c0e69b4eeaba5c931a01b076e6",
            "_dom_classes": [],
            "description": "100%",
            "_model_name": "FloatProgressModel",
            "bar_style": "success",
            "max": 51,
            "_view_module": "@jupyter-widgets/controls",
            "_model_module_version": "1.5.0",
            "value": 51,
            "_view_count": null,
            "_view_module_version": "1.5.0",
            "orientation": "horizontal",
            "min": 0,
            "description_tooltip": null,
            "_model_module": "@jupyter-widgets/controls",
            "layout": "IPY_MODEL_1c2b8d65876c47859f8120c07068f841"
          }
        },
        "db3c3f8e39ac4806b583fe8d166517a1": {
          "model_module": "@jupyter-widgets/controls",
          "model_name": "HTMLModel",
          "state": {
            "_view_name": "HTMLView",
            "style": "IPY_MODEL_0f2b224c0fbd495d9bc82eab78973986",
            "_dom_classes": [],
            "description": "",
            "_model_name": "HTMLModel",
            "placeholder": "​",
            "_view_module": "@jupyter-widgets/controls",
            "_model_module_version": "1.5.0",
            "value": " 51/51 [00:44&lt;00:00,  1.15it/s]",
            "_view_count": null,
            "_view_module_version": "1.5.0",
            "description_tooltip": null,
            "_model_module": "@jupyter-widgets/controls",
            "layout": "IPY_MODEL_d0d525b46ecb41fd8213c2896a6026e8"
          }
        },
        "597de0c0e69b4eeaba5c931a01b076e6": {
          "model_module": "@jupyter-widgets/controls",
          "model_name": "ProgressStyleModel",
          "state": {
            "_view_name": "StyleView",
            "_model_name": "ProgressStyleModel",
            "description_width": "initial",
            "_view_module": "@jupyter-widgets/base",
            "_model_module_version": "1.5.0",
            "_view_count": null,
            "_view_module_version": "1.2.0",
            "bar_color": null,
            "_model_module": "@jupyter-widgets/controls"
          }
        },
        "1c2b8d65876c47859f8120c07068f841": {
          "model_module": "@jupyter-widgets/base",
          "model_name": "LayoutModel",
          "state": {
            "_view_name": "LayoutView",
            "grid_template_rows": null,
            "right": null,
            "justify_content": null,
            "_view_module": "@jupyter-widgets/base",
            "overflow": null,
            "_model_module_version": "1.2.0",
            "_view_count": null,
            "flex_flow": null,
            "width": null,
            "min_width": null,
            "border": null,
            "align_items": null,
            "bottom": null,
            "_model_module": "@jupyter-widgets/base",
            "top": null,
            "grid_column": null,
            "overflow_y": null,
            "overflow_x": null,
            "grid_auto_flow": null,
            "grid_area": null,
            "grid_template_columns": null,
            "flex": null,
            "_model_name": "LayoutModel",
            "justify_items": null,
            "grid_row": null,
            "max_height": null,
            "align_content": null,
            "visibility": null,
            "align_self": null,
            "height": null,
            "min_height": null,
            "padding": null,
            "grid_auto_rows": null,
            "grid_gap": null,
            "max_width": null,
            "order": null,
            "_view_module_version": "1.2.0",
            "grid_template_areas": null,
            "object_position": null,
            "object_fit": null,
            "grid_auto_columns": null,
            "margin": null,
            "display": null,
            "left": null
          }
        },
        "0f2b224c0fbd495d9bc82eab78973986": {
          "model_module": "@jupyter-widgets/controls",
          "model_name": "DescriptionStyleModel",
          "state": {
            "_view_name": "StyleView",
            "_model_name": "DescriptionStyleModel",
            "description_width": "",
            "_view_module": "@jupyter-widgets/base",
            "_model_module_version": "1.5.0",
            "_view_count": null,
            "_view_module_version": "1.2.0",
            "_model_module": "@jupyter-widgets/controls"
          }
        },
        "d0d525b46ecb41fd8213c2896a6026e8": {
          "model_module": "@jupyter-widgets/base",
          "model_name": "LayoutModel",
          "state": {
            "_view_name": "LayoutView",
            "grid_template_rows": null,
            "right": null,
            "justify_content": null,
            "_view_module": "@jupyter-widgets/base",
            "overflow": null,
            "_model_module_version": "1.2.0",
            "_view_count": null,
            "flex_flow": null,
            "width": null,
            "min_width": null,
            "border": null,
            "align_items": null,
            "bottom": null,
            "_model_module": "@jupyter-widgets/base",
            "top": null,
            "grid_column": null,
            "overflow_y": null,
            "overflow_x": null,
            "grid_auto_flow": null,
            "grid_area": null,
            "grid_template_columns": null,
            "flex": null,
            "_model_name": "LayoutModel",
            "justify_items": null,
            "grid_row": null,
            "max_height": null,
            "align_content": null,
            "visibility": null,
            "align_self": null,
            "height": null,
            "min_height": null,
            "padding": null,
            "grid_auto_rows": null,
            "grid_gap": null,
            "max_width": null,
            "order": null,
            "_view_module_version": "1.2.0",
            "grid_template_areas": null,
            "object_position": null,
            "object_fit": null,
            "grid_auto_columns": null,
            "margin": null,
            "display": null,
            "left": null
          }
        },
        "f324d78ef9684e4185169366f8d43082": {
          "model_module": "@jupyter-widgets/controls",
          "model_name": "HBoxModel",
          "state": {
            "_view_name": "HBoxView",
            "_dom_classes": [],
            "_model_name": "HBoxModel",
            "_view_module": "@jupyter-widgets/controls",
            "_model_module_version": "1.5.0",
            "_view_count": null,
            "_view_module_version": "1.5.0",
            "box_style": "",
            "layout": "IPY_MODEL_6709b296d2c44ae09608e16018ce3189",
            "_model_module": "@jupyter-widgets/controls",
            "children": [
              "IPY_MODEL_cbc848e7c56f4e79a99bffd7e0fc45ac",
              "IPY_MODEL_93d8ee3ed43445e395f14b2513f631eb"
            ]
          }
        },
        "6709b296d2c44ae09608e16018ce3189": {
          "model_module": "@jupyter-widgets/base",
          "model_name": "LayoutModel",
          "state": {
            "_view_name": "LayoutView",
            "grid_template_rows": null,
            "right": null,
            "justify_content": null,
            "_view_module": "@jupyter-widgets/base",
            "overflow": null,
            "_model_module_version": "1.2.0",
            "_view_count": null,
            "flex_flow": null,
            "width": null,
            "min_width": null,
            "border": null,
            "align_items": null,
            "bottom": null,
            "_model_module": "@jupyter-widgets/base",
            "top": null,
            "grid_column": null,
            "overflow_y": null,
            "overflow_x": null,
            "grid_auto_flow": null,
            "grid_area": null,
            "grid_template_columns": null,
            "flex": null,
            "_model_name": "LayoutModel",
            "justify_items": null,
            "grid_row": null,
            "max_height": null,
            "align_content": null,
            "visibility": null,
            "align_self": null,
            "height": null,
            "min_height": null,
            "padding": null,
            "grid_auto_rows": null,
            "grid_gap": null,
            "max_width": null,
            "order": null,
            "_view_module_version": "1.2.0",
            "grid_template_areas": null,
            "object_position": null,
            "object_fit": null,
            "grid_auto_columns": null,
            "margin": null,
            "display": null,
            "left": null
          }
        },
        "cbc848e7c56f4e79a99bffd7e0fc45ac": {
          "model_module": "@jupyter-widgets/controls",
          "model_name": "FloatProgressModel",
          "state": {
            "_view_name": "ProgressView",
            "style": "IPY_MODEL_9d1892c83f5b44619cf3bf909b588af1",
            "_dom_classes": [],
            "description": "100%",
            "_model_name": "FloatProgressModel",
            "bar_style": "success",
            "max": 100,
            "_view_module": "@jupyter-widgets/controls",
            "_model_module_version": "1.5.0",
            "value": 100,
            "_view_count": null,
            "_view_module_version": "1.5.0",
            "orientation": "horizontal",
            "min": 0,
            "description_tooltip": null,
            "_model_module": "@jupyter-widgets/controls",
            "layout": "IPY_MODEL_3e56dff2a3bb46fd8a58bd5f945aa043"
          }
        },
        "93d8ee3ed43445e395f14b2513f631eb": {
          "model_module": "@jupyter-widgets/controls",
          "model_name": "HTMLModel",
          "state": {
            "_view_name": "HTMLView",
            "style": "IPY_MODEL_477e25390e9a4dacaee81a76a91d76b3",
            "_dom_classes": [],
            "description": "",
            "_model_name": "HTMLModel",
            "placeholder": "​",
            "_view_module": "@jupyter-widgets/controls",
            "_model_module_version": "1.5.0",
            "value": " 100/100 [07:25&lt;00:00,  4.46s/it]",
            "_view_count": null,
            "_view_module_version": "1.5.0",
            "description_tooltip": null,
            "_model_module": "@jupyter-widgets/controls",
            "layout": "IPY_MODEL_00e946429ba44630834dadda9c9e35aa"
          }
        },
        "9d1892c83f5b44619cf3bf909b588af1": {
          "model_module": "@jupyter-widgets/controls",
          "model_name": "ProgressStyleModel",
          "state": {
            "_view_name": "StyleView",
            "_model_name": "ProgressStyleModel",
            "description_width": "initial",
            "_view_module": "@jupyter-widgets/base",
            "_model_module_version": "1.5.0",
            "_view_count": null,
            "_view_module_version": "1.2.0",
            "bar_color": null,
            "_model_module": "@jupyter-widgets/controls"
          }
        },
        "3e56dff2a3bb46fd8a58bd5f945aa043": {
          "model_module": "@jupyter-widgets/base",
          "model_name": "LayoutModel",
          "state": {
            "_view_name": "LayoutView",
            "grid_template_rows": null,
            "right": null,
            "justify_content": null,
            "_view_module": "@jupyter-widgets/base",
            "overflow": null,
            "_model_module_version": "1.2.0",
            "_view_count": null,
            "flex_flow": null,
            "width": null,
            "min_width": null,
            "border": null,
            "align_items": null,
            "bottom": null,
            "_model_module": "@jupyter-widgets/base",
            "top": null,
            "grid_column": null,
            "overflow_y": null,
            "overflow_x": null,
            "grid_auto_flow": null,
            "grid_area": null,
            "grid_template_columns": null,
            "flex": null,
            "_model_name": "LayoutModel",
            "justify_items": null,
            "grid_row": null,
            "max_height": null,
            "align_content": null,
            "visibility": null,
            "align_self": null,
            "height": null,
            "min_height": null,
            "padding": null,
            "grid_auto_rows": null,
            "grid_gap": null,
            "max_width": null,
            "order": null,
            "_view_module_version": "1.2.0",
            "grid_template_areas": null,
            "object_position": null,
            "object_fit": null,
            "grid_auto_columns": null,
            "margin": null,
            "display": null,
            "left": null
          }
        },
        "477e25390e9a4dacaee81a76a91d76b3": {
          "model_module": "@jupyter-widgets/controls",
          "model_name": "DescriptionStyleModel",
          "state": {
            "_view_name": "StyleView",
            "_model_name": "DescriptionStyleModel",
            "description_width": "",
            "_view_module": "@jupyter-widgets/base",
            "_model_module_version": "1.5.0",
            "_view_count": null,
            "_view_module_version": "1.2.0",
            "_model_module": "@jupyter-widgets/controls"
          }
        },
        "00e946429ba44630834dadda9c9e35aa": {
          "model_module": "@jupyter-widgets/base",
          "model_name": "LayoutModel",
          "state": {
            "_view_name": "LayoutView",
            "grid_template_rows": null,
            "right": null,
            "justify_content": null,
            "_view_module": "@jupyter-widgets/base",
            "overflow": null,
            "_model_module_version": "1.2.0",
            "_view_count": null,
            "flex_flow": null,
            "width": null,
            "min_width": null,
            "border": null,
            "align_items": null,
            "bottom": null,
            "_model_module": "@jupyter-widgets/base",
            "top": null,
            "grid_column": null,
            "overflow_y": null,
            "overflow_x": null,
            "grid_auto_flow": null,
            "grid_area": null,
            "grid_template_columns": null,
            "flex": null,
            "_model_name": "LayoutModel",
            "justify_items": null,
            "grid_row": null,
            "max_height": null,
            "align_content": null,
            "visibility": null,
            "align_self": null,
            "height": null,
            "min_height": null,
            "padding": null,
            "grid_auto_rows": null,
            "grid_gap": null,
            "max_width": null,
            "order": null,
            "_view_module_version": "1.2.0",
            "grid_template_areas": null,
            "object_position": null,
            "object_fit": null,
            "grid_auto_columns": null,
            "margin": null,
            "display": null,
            "left": null
          }
        }
      }
    }
  },
  "cells": [
    {
      "cell_type": "markdown",
      "metadata": {
        "id": "ptvBUgFZkKmm"
      },
      "source": [
        "# Requirments\n",
        "\n"
      ]
    },
    {
      "cell_type": "code",
      "metadata": {
        "id": "KUgwJtaFLYTc"
      },
      "source": [
        "\"\"\"\n",
        "# get majka database\n",
        "!curl --remote-name-all https://nlp.fi.muni.cz/ma{/majka.w-lt}\n",
        "!mv majka.w-lt drive/MyDrive/data/\n",
        "# download czech squad\n",
        "!curl --remote-name-all https://lindat.cz/repository/xmlui/bitstream/handle/11234/1-3069{/sqad_v3.tar.xz}\n",
        "!mv sqad_v3.tar.xz drive/MyDrive/data/\n",
        "!tar -xf drive/MyDrive/data/sqad_v3.tar.xz\n",
        "\"\"\""
      ],
      "execution_count": null,
      "outputs": []
    },
    {
      "cell_type": "code",
      "metadata": {
        "id": "RKgj8CeSViAh"
      },
      "source": [
        "!pip install sentencepiece\n",
        "!pip install datasets transformers\n",
        "\n",
        "!pip install googletrans==4.0.0-rc1\n",
        "!pip install wikipedia\n",
        "!pip install rank_bm25\n",
        "!pip install majka\n",
        "!pip install corpy\n",
        "\n",
        "!pip install tensorflow-gpu==1.15.2\n",
        "!pip install deeppavlov\n",
        "!pip install git+https://github.com/deepmipt/bert.git@feat/multi_gpu"
      ],
      "execution_count": null,
      "outputs": []
    },
    {
      "cell_type": "markdown",
      "metadata": {
        "id": "HoTIyL_slAcA"
      },
      "source": [
        "Importing important libraries"
      ]
    },
    {
      "cell_type": "code",
      "metadata": {
        "id": "bRQGzm8pJ4C6",
        "colab": {
          "base_uri": "https://localhost:8080/"
        },
        "outputId": "cb1fd0ef-008c-43d0-9e43-80bee1ae7e32"
      },
      "source": [
        "import torch\n",
        "import string\n",
        "import os\n",
        "import sys\n",
        "import time\n",
        "import shutil\n",
        "import json\n",
        "import numpy as np\n",
        "import collections\n",
        "import datetime\n",
        "from tqdm.auto import tqdm\n",
        "import warnings\n",
        "import json\n",
        "import nltk.data\n",
        "import nltk\n",
        "\n",
        "from datasets import load_dataset, load_metric\n",
        "from typing import List, Tuple, Dict\n",
        "from collections import defaultdict\n",
        "from transformers import AlbertTokenizerFast, AlbertForQuestionAnswering\n",
        "from transformers import BertTokenizerFast, BertForQuestionAnswering\n",
        "\n",
        "from deeppavlov import build_model, configs\n",
        "\n",
        "from rank_bm25 import BM25Okapi, BM25Plus, BM25L\n",
        "import re\n",
        "import majka\n",
        "from corpy.morphodita import Tagger\n",
        "import wikipedia\n",
        "from googletrans import Translator\n",
        "import requests\n",
        "\n",
        "from google.colab import drive\n",
        "\n",
        "warnings.filterwarnings(\"ignore\")\n",
        "\n",
        "nltk.download('punkt')"
      ],
      "execution_count": null,
      "outputs": [
        {
          "output_type": "stream",
          "text": [
            "[nltk_data] Downloading package punkt to /root/nltk_data...\n",
            "[nltk_data]   Package punkt is already up-to-date!\n"
          ],
          "name": "stderr"
        },
        {
          "output_type": "execute_result",
          "data": {
            "text/plain": [
              "True"
            ]
          },
          "metadata": {
            "tags": []
          },
          "execution_count": 22
        }
      ]
    },
    {
      "cell_type": "markdown",
      "metadata": {
        "id": "irgCFymirbsM"
      },
      "source": [
        "Mount google drive "
      ]
    },
    {
      "cell_type": "code",
      "metadata": {
        "id": "3oFuZPSCKZiv",
        "colab": {
          "base_uri": "https://localhost:8080/"
        },
        "outputId": "7b4fc102-65c8-46b9-c1d3-eb75a5679929"
      },
      "source": [
        "# Remove pre-cached sample data in colab's directory\n",
        "if os.path.isdir(\"sample_data\"):\n",
        "  shutil.rmtree(\"sample_data\")\n",
        "drive.mount('/content/drive')"
      ],
      "execution_count": null,
      "outputs": [
        {
          "output_type": "stream",
          "text": [
            "Drive already mounted at /content/drive; to attempt to forcibly remount, call drive.mount(\"/content/drive\", force_remount=True).\n"
          ],
          "name": "stdout"
        }
      ]
    },
    {
      "cell_type": "markdown",
      "metadata": {
        "id": "_5twSdMKrdm3"
      },
      "source": [
        "Get downloaded ner_model from drive"
      ]
    },
    {
      "cell_type": "code",
      "metadata": {
        "id": "Y5gLU7Grhsdq"
      },
      "source": [
        "!mkdir /root/.deeppavlov\n",
        "!mkdir /root/.deeppavlov/models/\n",
        "!mkdir /root/.deeppavlov/downloads/\n",
        "\n",
        "!cp -r ./drive/MyDrive/ner_models/bert_models /root/.deeppavlov/downloads/\n",
        "!cp -r ./drive/MyDrive/ner_models/ner_ontonotes_bert_mult /root/.deeppavlov/models/\n",
        "\n",
        "!ls /root/.deeppavlov/downloads\n",
        "!ls /root/.deeppavlov/models"
      ],
      "execution_count": null,
      "outputs": []
    },
    {
      "cell_type": "markdown",
      "metadata": {
        "id": "6ECjdEt9riBQ"
      },
      "source": [
        "Download and extract morphoita tagger model for lemmatization"
      ]
    },
    {
      "cell_type": "code",
      "metadata": {
        "colab": {
          "base_uri": "https://localhost:8080/"
        },
        "id": "hVPYl6CEiedR",
        "outputId": "430aad7c-7174-4aa3-cb73-fef21f6bd426"
      },
      "source": [
        "!curl --remote-name-all https://lindat.mff.cuni.cz/repository/xmlui/bitstream/handle/11234/1-1836{/czech-morfflex-pdt-161115.zip}\n",
        "!unzip ./czech-morfflex-pdt-161115.zip"
      ],
      "execution_count": null,
      "outputs": [
        {
          "output_type": "stream",
          "text": [
            "  % Total    % Received % Xferd  Average Speed   Time    Time     Time  Current\n",
            "                                 Dload  Upload   Total   Spent    Left  Speed\n",
            "100 69.1M  100 69.1M    0     0  32.1M      0  0:00:02  0:00:02 --:--:-- 32.1M\n",
            "Archive:  ./czech-morfflex-pdt-161115.zip\n",
            "   creating: czech-morfflex-pdt-161115/\n",
            "  inflating: czech-morfflex-pdt-161115/README.html  \n",
            "  inflating: czech-morfflex-pdt-161115/README  \n",
            "  inflating: czech-morfflex-pdt-161115/czech-morfflex-pdt-161115-no_dia-pos_only.tagger  \n",
            "  inflating: czech-morfflex-pdt-161115/czech-morfflex-pdt-161115-pos_only.tagger  \n",
            "  inflating: czech-morfflex-pdt-161115/czech-morfflex-161115-no_dia.dict  \n",
            "  inflating: czech-morfflex-pdt-161115/czech-morfflex-pdt-161115.tagger  \n",
            "  inflating: czech-morfflex-pdt-161115/czech-morfflex-161115-no_dia-pos_only.dict  \n",
            "  inflating: czech-morfflex-pdt-161115/czech-morfflex-161115.dict  \n",
            "  inflating: czech-morfflex-pdt-161115/LICENSE  \n",
            "  inflating: czech-morfflex-pdt-161115/czech-morfflex-161115-pos_only.dict  \n",
            "  inflating: czech-morfflex-pdt-161115/czech-morfflex-pdt-161115-no_dia.tagger  \n"
          ],
          "name": "stdout"
        }
      ]
    },
    {
      "cell_type": "markdown",
      "metadata": {
        "id": "bPGazghDdOXn"
      },
      "source": [
        "# Reader"
      ]
    },
    {
      "cell_type": "code",
      "metadata": {
        "id": "fjuzSaPEnesl"
      },
      "source": [
        "class Reader():\n",
        "\n",
        "  def __init__(self, model_checkpoint, model_type=\"albert\", max_answer_length=10, n_best_size=10, max_length=384, stride=128, use_cpu=False):\n",
        "    # load all parameters of the reader\n",
        "    self.max_answer_length = max_answer_length  # max answer span length\n",
        "    self.n_best_size = n_best_size  # \n",
        "    self.max_length = max_length  # max count of tokens in one tokenized passage\n",
        "    self.stride = stride  # the length of overlap between two mini-batches of tokenizer\n",
        "\n",
        "    # choose device; cuda if available\n",
        "    self.device = torch.device(\"cuda:0\" if (torch.cuda.is_available() and use_cpu == False) else \"cpu\")\n",
        "\n",
        "    if model_type == 'albert':\n",
        "      # load tokenizer and model from pretrained checkpoint\n",
        "      self.tokenizer = AlbertTokenizerFast.from_pretrained(model_checkpoint)\n",
        "      # load model to device if possible\n",
        "      self.model = AlbertForQuestionAnswering.from_pretrained(model_checkpoint).to(self.device)\n",
        "    elif model_type == 'mbert':\n",
        "      # load tokenizer and model from pretrained checkpoint\n",
        "      self.tokenizer = BertTokenizerFast.from_pretrained(model_checkpoint)\n",
        "      # load model to device if possible\n",
        "      self.model = BertForQuestionAnswering.from_pretrained(model_checkpoint).to(self.device)\n",
        "    else:\n",
        "      print(\"Wrong model type parameter.\")\n",
        "      return None\n",
        "\n",
        "    print(\"Model loaded from: \" + model_checkpoint)\n",
        "    print(f\"Model has {self.count_parameters(self.model)} parameters\")\n",
        "    print(\"Device selected:\")\n",
        "    print(self.device)\n",
        "\n",
        "\n",
        "  def decode(self, output, context, offset_mappings):\n",
        "    \"\"\"\n",
        "    get the text span from the unnormalized log probabilities\n",
        "\n",
        "    method has been partly borrowed from \n",
        "    https://colab.research.google.com/github/huggingface/notebooks/blob/master/examples/question_answering.ipynb\n",
        "\n",
        "    \"\"\"\n",
        "    # enumerate over all outputs (max output size is 500 tokens in a log prob tensor)\n",
        "    valid_answers = []\n",
        "\n",
        "    for i, _ in enumerate(output.start_logits):\n",
        "\n",
        "      start_logits = output.start_logits[i].cpu().detach().numpy()\n",
        "      end_logits = output.end_logits[i].cpu().detach().numpy()\n",
        "      offset_mapping = offset_mappings[i]\n",
        "\n",
        "      # Gather the indices the best start/end logits:\n",
        "      start_indexes = np.argsort(start_logits)[-1 : - self.n_best_size - 1 : -1].tolist()\n",
        "      end_indexes = np.argsort(end_logits)[-1 : - self.n_best_size - 1 : -1].tolist()\n",
        "      for start_index in start_indexes:\n",
        "          for end_index in end_indexes:\n",
        "              # Don't consider out-of-scope answers, either because the indices are out of bounds or correspond\n",
        "              # to part of the input_ids that are not in the context.\n",
        "              if (\n",
        "                  start_index >= len(offset_mapping)\n",
        "                  or end_index >= len(offset_mapping)\n",
        "                  or offset_mapping[start_index] is None\n",
        "                  or offset_mapping[end_index] is None\n",
        "              ):\n",
        "                  continue\n",
        "              # Don't consider answers with a length that is either < 0 or > max_answer_length.\n",
        "              if end_index < start_index or end_index - start_index + 1 > self.max_answer_length:\n",
        "                  continue\n",
        "              if start_index <= end_index: # We need to refine that test to check the answer is inside the context\n",
        "                  start_char = offset_mapping[start_index][0]\n",
        "                  end_char = offset_mapping[end_index][1]\n",
        "                  valid_answers.append(\n",
        "                      {\n",
        "                          \"score\": start_logits[start_index] + end_logits[end_index],\n",
        "                          \"text\": context[start_char: end_char].strip()\n",
        "                      }\n",
        "                  )\n",
        "    valid_answers = sorted(valid_answers, key=lambda x: x[\"score\"], reverse=True)[:self.n_best_size]\n",
        "    return valid_answers\n",
        "\n",
        "\n",
        "  def get_answers(self, question, context):\n",
        "    \"\"\"\n",
        "    get the best answers from the context to the question \n",
        "\n",
        "    \"\"\"\n",
        "    inputs = self.tokenizer(question, context, \n",
        "                      return_tensors='pt',\n",
        "                      truncation=\"only_second\",\n",
        "                      max_length=self.max_length, # to prevent cuda running out of memory\n",
        "                      stride=self.stride,     # overlap within splitted long\n",
        "                      return_offsets_mapping=True,\n",
        "                      return_overflowing_tokens=True,\n",
        "                      padding=\"max_length\")\n",
        "    inputs.to(self.device)\n",
        "\n",
        "    outputs = self.model(inputs['input_ids'], \n",
        "                    token_type_ids=inputs['token_type_ids'],\n",
        "                    attention_mask=inputs['attention_mask'])\n",
        "    \n",
        "    valid_answers = self.decode(outputs, context, inputs['offset_mapping'])\n",
        "    \n",
        "    return valid_answers\n",
        "\n",
        "\n",
        "  def count_parameters(self, model):\n",
        "    \"\"\"\n",
        "    Counts the parameters of the model\n",
        "\n",
        "    \"\"\"\n",
        "\n",
        "    return sum(p.numel() for p in self.model.parameters() if p.requires_grad)\n",
        "    "
      ],
      "execution_count": null,
      "outputs": []
    },
    {
      "cell_type": "markdown",
      "metadata": {
        "id": "whlGzus9Z4Tx"
      },
      "source": [
        "# Retriever\n"
      ]
    },
    {
      "cell_type": "code",
      "metadata": {
        "id": "iX5OVeUoufHc"
      },
      "source": [
        "class Retriever():\n",
        "\n",
        "  def __init__(self):\n",
        "    wikipedia.set_lang(\"cs\") \n",
        "\n",
        "    # save the most common czech words (stop words)\n",
        "    common = \"kdy být a se v na ten on že s z který mít do já o k i jeho ale svůj jako za moci pro tak po tento co když všechen už jak aby od nebo říci jeden jen můj jenž ty stát u muset chtít také až než ještě při jít pak před však ani vědět hodně podle další celý jiný mezi dát tady tam kde každý takový protože nic něco ne sám bez či dostat nějaký proto\"\n",
        "    self.common = common.split()\n",
        "\n",
        "    # save punctuation to be removed\n",
        "    punctuation = \". , ? ! ... \\\" ( ) ; - /\"\n",
        "    self.punctuation = punctuation.split()\n",
        "\n",
        "    # majka lemmatizer settings\n",
        "    self.morph = majka.Majka('drive/MyDrive/data/majka.w-lt')\n",
        "    self.morph.flags = 0  # unset all flags\n",
        "    self.morph.tags = False  # return just the lemma, do not process the tags\n",
        "    self.morph.first_only = True  # return only the first entry\n",
        "    self.morph.negative = \"ne\"\n",
        "\n",
        "    # morphodita lemmatizer\n",
        "    self.tagger = Tagger(\"./czech-morfflex-pdt-161115/czech-morfflex-pdt-161115.tagger\")\n",
        "\n",
        "    # load wiki titles and build index for search\n",
        "    self.bm25_articles_index, self.titles = self.get_title_search_index()\n",
        "\n",
        "    # load tokenizer to split text into sentences\n",
        "    self.tokenizer = nltk.data.load('tokenizers/punkt/czech.pickle')\n",
        "\n",
        "    # Download and load model (set download=False to skip download phase)\n",
        "    self.ner = build_model(configs.ner.ner_ontonotes_bert_mult, download=False)\n",
        "\n",
        "\n",
        "  def get_title_search_index(self):\n",
        "    \"\"\"\n",
        "    Build index for searching through relevant title names on czech wiki:\n",
        "\n",
        "    \"\"\"\n",
        "\n",
        "    f = open(\"drive/MyDrive/data/wiki/cswiki-latest-all-titles-in-ns0\", \"r\")\n",
        "    titles = []\n",
        "\n",
        "    for line in f: \n",
        "      title = ((\" \").join(line.split(\"_\"))).strip()\n",
        "      title = title.strip('\\n')\n",
        "      titles.append(title)\n",
        "\n",
        "    f.close()\n",
        "\n",
        "    # tokenize for bm25\n",
        "    tok_titles = []\n",
        "    for title in titles:\n",
        "      tok_tit = re.split(\" \", title.lower())\n",
        "      for tok in tok_tit:\n",
        "        if tok == \"\":\n",
        "          tok_tit.remove(\"\")\n",
        "      tok_titles.append(tok_tit)\n",
        "\n",
        "    bm25 = BM25Okapi(tok_titles)\n",
        "\n",
        "    return bm25, titles\n",
        "\n",
        "\n",
        "  def search_titles(self, question):\n",
        "    \"\"\"\n",
        "    Search with bm25 among the wiki titles\n",
        "\n",
        "    \"\"\"\n",
        "    tokenized_query = self.delete_common(self.lemmatize_morphodita(question.lower()))\n",
        "    # print(tokenized_query)\n",
        "    results = self.bm25_articles_index.get_top_n(tokenized_query, self.titles, n=5)\n",
        "\n",
        "    return results\n",
        "\n",
        "\n",
        "  def get_named_entities(self, question):\n",
        "    \"\"\"\n",
        "    Extracts named entities from the question.\n",
        "\n",
        "    \"\"\"\n",
        "\n",
        "    URL = \"https://nlp.fi.muni.cz/projekty/ner/nerJSON.py\"\n",
        "    text = question\n",
        "    PARAMS = {'text': text}\n",
        "    r = requests.get(url = URL, params = PARAMS)\n",
        "    data = r.json() \n",
        "\n",
        "    NEs = []\n",
        "\n",
        "    if data != {}:\n",
        "      for item in data:\n",
        "        lemma = data[item]['lemma']\n",
        "        NEs.append(lemma)\n",
        "\n",
        "    return NEs\n",
        "\n",
        "  def get_pavlov_named_entities(self, question):\n",
        "    \"\"\"\n",
        "    Extracts named entities from the question.\n",
        "\n",
        "    \"\"\"\n",
        "    ner_tags = self.ner([question])\n",
        "\n",
        "    named_entities = \"\"\n",
        "    for idx, tag in enumerate(ner_tags[1][0]):\n",
        "      if tag != 'O':\n",
        "        named_entities += ner_tags[0][0][idx] + \" \"\n",
        "\n",
        "    NEs = []\n",
        "    if len(named_entities.strip()) != 0:\n",
        "      NEs.append(named_entities.strip())\n",
        "\n",
        "    return NEs\n",
        "  \n",
        "  def iscommon(self, x):\n",
        "    \"\"\"\n",
        "    decides if query token is common\n",
        "\n",
        "    \"\"\"\n",
        "    if x in self.common or x in self.punctuation:\n",
        "      return True\n",
        "    else:\n",
        "      return False\n",
        "\n",
        "\n",
        "  def delete_common(self, tokens):\n",
        "    \"\"\"\n",
        "    Remove the most common czech words from the query tokens (low information value)\n",
        "\n",
        "    \"\"\"\n",
        "    tokens = [x for x in tokens if not self.iscommon(x)]\n",
        "        \n",
        "    return tokens\n",
        "\n",
        "  \n",
        "  def lemmatize(self, text):\n",
        "    \"\"\"\n",
        "    Returns lemma of each token in a list of lemmatized tokens\n",
        "\n",
        "    \"\"\"\n",
        "\n",
        "    tok_text = re.split(\"\\W\", text)\n",
        "\n",
        "    # lemmatize each token\n",
        "    lemmatized_tokens = []\n",
        "    for token in tok_text:\n",
        "      if token == '':\n",
        "        continue\n",
        "      lemma = self.morph.find(token)\n",
        "      if len(lemma) == 0:\n",
        "        lemmatized_tokens.append(token)\n",
        "      else:\n",
        "        lemmatized_tokens.append(lemma[0]['lemma'])\n",
        "\n",
        "    return lemmatized_tokens\n",
        "\n",
        "  def lemmatize_morphodita(self, text):\n",
        "    \"\"\"\n",
        "    Returns lemma of each token in a list of lemmatized tokens\n",
        "\n",
        "    \"\"\"\n",
        "\n",
        "    text = re.split(\"\\W\", text)\n",
        "    text = (\" \").join(text)\n",
        "\n",
        "    tokens = list(self.tagger.tag(text, convert='strip_lemma_id'))\n",
        "\n",
        "    lemmas = []\n",
        "    for token in tokens:\n",
        "      lemmas.append(token.lemma)\n",
        "\n",
        "    return lemmas\n",
        "\n",
        "\n",
        "  def search_again(self, tokens):\n",
        "    \"\"\"\n",
        "    Performs repeated search in case wiki api didnt find any documents\n",
        "\n",
        "    \"\"\"\n",
        "    searched_term = (' ').join(tokens)\n",
        "    #print(searched_term)\n",
        "    doc_list = wikipedia.search(searched_term, results=1)\n",
        "\n",
        "    if len(tokens) == 0:\n",
        "      return []\n",
        "\n",
        "    if len(doc_list) == 0:\n",
        "      del tokens[0]\n",
        "      return self.search_again(tokens)\n",
        "\n",
        "    return doc_list\n",
        "\n",
        "\n",
        "  def get_doc_list(self, question):\n",
        "    \"\"\"\n",
        "    Returns top 1-3 wiki arcitles that might answer the question topic\n",
        "\n",
        "    \"\"\"\n",
        "\n",
        "    # get names entities if present\n",
        "    named_ERs = self.get_pavlov_named_entities(question)\n",
        "    # get relevant article title names\n",
        "    relevant_titles = self.search_titles(question)\n",
        "\n",
        "    #search for documents\n",
        "    max_docs = 1\n",
        "    doc_list = []\n",
        "\n",
        "    # search based on recognised named entity\n",
        "    if len(named_ERs) > 0:\n",
        "      article = wikipedia.search(named_ERs[0], results=max_docs)\n",
        "      if len(article) > 0:\n",
        "        doc_list.append(article[0])\n",
        "    # search based on best wiki title match\n",
        "    if len(relevant_titles) > 0:\n",
        "      article = wikipedia.search(relevant_titles[0], results=max_docs)\n",
        "      if len(article) > 0:\n",
        "        doc_list.append(article[0])\n",
        "\n",
        "    # basic search for the question\n",
        "    article = wikipedia.search(question, results=max_docs)\n",
        "    # simplify the search if its too bad\n",
        "    if len(article) == 0:\n",
        "      # extract important for wiki\n",
        "      tokens = self.delete_common(self.lemmatize_morphodita(question.lower()))\n",
        "      article = self.search_again(tokens)\n",
        "    doc_list.append(article[0])\n",
        "\n",
        "    return doc_list\n",
        "\n",
        "  \n",
        "  def normalize_length(self, par):\n",
        "    \"\"\"\n",
        "    Splits too long paragraph into smaller ones\n",
        "\n",
        "    \"\"\"\n",
        "\n",
        "    #split long paragraph into sentences\n",
        "    sentences = self.tokenizer.tokenize(par)\n",
        "\n",
        "    normalized_pars = []\n",
        "    new_paragraph = \"\"\n",
        "\n",
        "    # iterate over sentences\n",
        "    for idx, sentence in enumerate(sentences):\n",
        "      \n",
        "      if len(new_paragraph) + len(sentence) > 1500:\n",
        "        normalized_pars.append(new_paragraph)\n",
        "        new_paragraph = \"\"\n",
        "\n",
        "        # make some overlap\n",
        "        for k, trailing in enumerate(sentences[idx-2:idx]):\n",
        "          new_paragraph += trailing\n",
        "\n",
        "      else:\n",
        "        new_paragraph += sentence\n",
        "    \n",
        "    return normalized_pars\n",
        "\n",
        "  \n",
        "  def split_documents(self, doc_list):\n",
        "    \"\"\"\n",
        "    Splits each retrievede wiki article into paragraphs and normalizes its lengths\n",
        "\n",
        "    \"\"\"\n",
        "\n",
        "    pars = []\n",
        "    lemm_pars = []\n",
        "\n",
        "    # iterate over articles and process each one\n",
        "    for doc in doc_list:\n",
        "      # get whole page content\n",
        "      try:\n",
        "        doc = wikipedia.page(doc)\n",
        "      except wikipedia.DisambiguationError as e:\n",
        "        s = e.options[0]\n",
        "        try:\n",
        "          doc = wikipedia.page(s)\n",
        "        except wikipedia.DisambiguationError:\n",
        "          continue\n",
        "\n",
        "      result = re.split('=== Reference ===|== Reference ==', doc.content)[0]\n",
        "      # split article into paragraphs\n",
        "      result = re.split('== .*. ==|\\\\n\\\\n', result)\n",
        "\n",
        "      # save stripped paragraphs\n",
        "      for par in result:\n",
        "        par = ((((par.strip()).strip('=')).strip('\\n')).strip('\\n\\n')).strip('\\r\\n')\n",
        "\n",
        "        # remove some trash\n",
        "        if par == '' or par == '\\n' or par.strip().startswith(\"Obrázky, zvuky či videa k tématu\"):\n",
        "          continue\n",
        "\n",
        "        # check max paragraph length\n",
        "        if len(par) > 1500:\n",
        "          # split into smaller paragraphs\n",
        "          normalized_paragraphs = self.normalize_length(par)\n",
        "          # append each smaller paragraph\n",
        "          for norm_par in normalized_paragraphs:\n",
        "            pars.append(norm_par)\n",
        "            lemm_pars.append((' ').join(self.delete_common(self.lemmatize_morphodita(norm_par.lower()))))\n",
        "        else:\n",
        "          # append paragraph\n",
        "          pars.append(par)\n",
        "\n",
        "          # get lemmas and append\n",
        "          lemm_pars.append((' ').join(self.delete_common(self.lemmatize_morphodita(par.lower()))))\n",
        "\n",
        "    return pars, lemm_pars\n",
        "\n",
        "  def retrieve(self, question):  \n",
        "    \"\"\"\n",
        "    Returns the top 3 paragraphs for the given question\n",
        "\n",
        "    \"\"\"\n",
        "    # max question length\n",
        "    if len(question) > 250:\n",
        "      return \"\"\n",
        "    # strip questionmark\n",
        "    question = question.strip('?')\n",
        "\n",
        "    # TODO SPEED THIS UP\n",
        "    # get wiki documents\n",
        "    doc_list = self.get_doc_list(question)\n",
        "\n",
        "    # convert to set to only work with unique article names\n",
        "    doc_list = set(doc_list)\n",
        "\n",
        "    # TODO SPEED THIS UP\n",
        "    # split docs into paragraphs\n",
        "    pars, lemm_pars = self.split_documents(doc_list)\n",
        "\n",
        "    # tokenize for bm25\n",
        "    tok_text = []\n",
        "    for par in lemm_pars:\n",
        "      tok_par = re.split(\"\\W\", par)\n",
        "      for tok in tok_par:\n",
        "        if tok == \"\":\n",
        "          tok_par.remove(\"\")\n",
        "      tok_text.append(tok_par)\n",
        "\n",
        "    # build index\n",
        "    bm25 = BM25Plus(tok_text)\n",
        "    # bm25 = BM25Okapi(tok_text)\n",
        "\n",
        "    # tokenize and lemmatize the query\n",
        "    tokenized_query = (' ').join(self.delete_common(self.lemmatize_morphodita(question.lower())))\n",
        "    tokenized_query = re.split(\"\\W\", tokenized_query)\n",
        "\n",
        "    # get results\n",
        "    results = bm25.get_top_n(tokenized_query, pars, n=3)\n",
        "\n",
        "    return results, doc_list\n",
        "\n",
        "\n",
        "  @staticmethod\n",
        "  def count_log_conf(best_answer, all_answers):\n",
        "    \"\"\"\n",
        "    Returns the sum of log probs \n",
        "    \n",
        "    \"\"\"\n",
        "\n",
        "    log_conf = 0\n",
        "    for answer in all_answers:\n",
        "      if (best_answer in answer['text']) or (answer['text'] in best_answer):\n",
        "        log_conf += answer['score']\n",
        "    \n",
        "    return log_conf\n"
      ],
      "execution_count": null,
      "outputs": []
    },
    {
      "cell_type": "markdown",
      "metadata": {
        "id": "tn2ZrNBVGaHI"
      },
      "source": [
        "# Preprocessing SQAD"
      ]
    },
    {
      "cell_type": "code",
      "metadata": {
        "id": "FFQTW92tCd5M"
      },
      "source": [
        "class SqadDataset():\n",
        "\n",
        "  def __init__(self, sqad_dir, save_dir=\"./sqad_processed\", process_boolean=False):\n",
        "    self.save_dir = save_dir\n",
        "    self.sqad_dir = sqad_dir\n",
        "    self.process_boolean = process_boolean\n",
        "\n",
        "  def extract_answer(self, dirnum):\n",
        "    \"\"\"\n",
        "    Parse the answer of current dataset record.\n",
        "    Returns the parsed answer and its lemma.\n",
        "\n",
        "    \"\"\"\n",
        "\n",
        "    f = open(f\"{self.sqad_dir}/{dirnum}/09answer_extraction.vert\", \"r\")\n",
        "\n",
        "    q = f.read().split(\"\\n\")\n",
        "    answer = \"\"\n",
        "    answer_lemma = \"\"\n",
        "\n",
        "    # parse answer\n",
        "    for line in q:\n",
        "      # split into columns\n",
        "      line = line.split(\"\\t\")\n",
        "\n",
        "      # end sign\n",
        "      if line[0] == \"</s>\":\n",
        "        break\n",
        "      \n",
        "      # get answer and its lemma\n",
        "      line_a = line[0]\n",
        "      if len(line) > 1:\n",
        "        line_a_lemma = line[1]\n",
        "        if line_a_lemma == \"[number]\":\n",
        "          line_a_lemma = line[0]\n",
        "\n",
        "      # process special signs\n",
        "      if line_a in {\"<s>\", \"<g/>\", \"</s>\"}:\n",
        "        answer = answer[:-1]\n",
        "        answer_lemma = answer_lemma[:-1]\n",
        "        continue\n",
        "\n",
        "      # append answer\n",
        "      answer += line_a + \" \"\n",
        "      answer_lemma += line_a_lemma + \" \"\n",
        "    \n",
        "    f.close()\n",
        "    return answer, answer_lemma\n",
        "\n",
        "\n",
        "  def extract_question(self, dirnum):\n",
        "    \"\"\"\n",
        "    Parse the answer of current dataset record.\n",
        "    Returns the parsed answer and its lemma.\n",
        "    \n",
        "    \"\"\"\n",
        "\n",
        "    f = open(f\"{self.sqad_dir}/{dirnum}/01question.vert\", \"r\")\n",
        "\n",
        "    q = f.read().split(\"\\n\")\n",
        "    question = \"\"\n",
        "\n",
        "    for line in q:\n",
        "      line = line.split(\"\\t\")\n",
        "      # end sign\n",
        "      if line[0] == \"</s>\" and question[-1] == \"?\":\n",
        "        break\n",
        "\n",
        "      line = line[0]\n",
        "      if line in {\"<s>\", \"<g/>\", \"</s>\"}:\n",
        "        question = question[:-1]\n",
        "        continue\n",
        "      \n",
        "      if line != \"?\":\n",
        "        question += line + \" \"\n",
        "      else:\n",
        "        question += \"? \"\n",
        "\n",
        "    f.close()\n",
        "    return question\n",
        "\n",
        "\n",
        "  def process_dataset(self, from_q, to_q):\n",
        "    \"\"\"\n",
        "    Process the questions and answers from the sqad dataset and save it as a json file\n",
        "\n",
        "    Process the dataset from record from_q to record to_q\n",
        "    \n",
        "    \"\"\"\n",
        "\n",
        "    sqad_dataset = {}\n",
        "    counter = from_q\n",
        "\n",
        "    for i in tqdm(range(from_q, to_q+1)):\n",
        "\n",
        "      # get question number\n",
        "      q_number = \"\"\n",
        "      for _ in range(len(str(i)), 6):\n",
        "        q_number += \"0\"\n",
        "      q_number += str(i)\n",
        "\n",
        "      # extract from dataset\n",
        "      question = self.extract_question(q_number)\n",
        "      correct_answer, lemmatized_answer = self.extract_answer(q_number)\n",
        "\n",
        "      # exclude yes/no questions\n",
        "      if not self.process_boolean:\n",
        "        if correct_answer.strip() == \"ano\" or correct_answer.strip() == \"ne\":\n",
        "          continue\n",
        "\n",
        "      # save data\n",
        "      data = {}\n",
        "      data[\"question\"] = question\n",
        "      data[\"answer\"] = correct_answer\n",
        "      data[\"answer_lemma\"] = lemmatized_answer\n",
        "\n",
        "      sqad_dataset[counter] = data\n",
        "      counter += 1\n",
        "\n",
        "    # save extracted data as json\n",
        "    with open(self.save_dir, \"w\") as f:\n",
        "      json.dump(sqad_dataset, f)\n",
        "      print(\"Sqad dataset has been processed to: \" + self.save_dir)\n",
        "\n",
        "\n",
        "  @staticmethod\n",
        "  def load_sqad(saved_dataset_file):\n",
        "    \"\"\"\n",
        "    Loads the saved json daataset as a dictionary\n",
        "    \n",
        "    \"\"\"\n",
        "\n",
        "    # load preprocessed sqad dataset\n",
        "    with open(saved_dataset_file) as f: \n",
        "        data = json.load(f)\n",
        "    print(\"Sqad dataset loaded from: \" + saved_dataset_file)\n",
        "\n",
        "    return data"
      ],
      "execution_count": null,
      "outputs": []
    },
    {
      "cell_type": "code",
      "metadata": {
        "colab": {
          "base_uri": "https://localhost:8080/",
          "height": 83,
          "referenced_widgets": [
            "c0b370dbd82d421c8b31bf82d84434eb",
            "d15be6c72131485285b306dfb0712513",
            "d94065c879c34ee38c4f43deb5b9f21f",
            "db3c3f8e39ac4806b583fe8d166517a1",
            "597de0c0e69b4eeaba5c931a01b076e6",
            "1c2b8d65876c47859f8120c07068f841",
            "0f2b224c0fbd495d9bc82eab78973986",
            "d0d525b46ecb41fd8213c2896a6026e8"
          ]
        },
        "id": "EHDsT3grGr-M",
        "outputId": "18d856d2-5c54-4275-a4ba-9f10a1c736f5"
      },
      "source": [
        "sqad = SqadDataset(sqad_dir=\"drive/MyDrive/data/cz_sqad/data/\", save_dir=\"drive/MyDrive/data/test.json\")\n",
        "sqad.process_dataset(100, 150)"
      ],
      "execution_count": null,
      "outputs": [
        {
          "output_type": "display_data",
          "data": {
            "application/vnd.jupyter.widget-view+json": {
              "model_id": "c0b370dbd82d421c8b31bf82d84434eb",
              "version_minor": 0,
              "version_major": 2
            },
            "text/plain": [
              "HBox(children=(FloatProgress(value=0.0, max=51.0), HTML(value='')))"
            ]
          },
          "metadata": {
            "tags": []
          }
        },
        {
          "output_type": "stream",
          "text": [
            "\n",
            "Sqad dataset has been processed to: drive/MyDrive/data/test.json\n"
          ],
          "name": "stdout"
        }
      ]
    },
    {
      "cell_type": "markdown",
      "metadata": {
        "id": "31IV1omUfXNP"
      },
      "source": [
        "# Loading model\n"
      ]
    },
    {
      "cell_type": "markdown",
      "metadata": {
        "id": "6d3vTvLMn4ua"
      },
      "source": [
        "Choose model checkpoint"
      ]
    },
    {
      "cell_type": "code",
      "metadata": {
        "id": "l9-UEUNjnGsm"
      },
      "source": [
        "# either 'mbert' or 'albert'\n",
        "model_type = 'mbert'\n",
        "\n",
        "if model_type == 'mbert':\n",
        "  model_checkpoint = \"./drive/MyDrive/mbert_models/bert_finetuned_czech_squad\"\n",
        "elif model_type == 'albert':\n",
        "  model_checkpoint = \"./drive/MyDrive/albert_models/albert_finetuned\"\n",
        "else:\n",
        "  print(\"wrong model type name\")\n",
        "\n",
        "# albert xlarge pretrained on squad v2 for experiments\n",
        "# model_checkpoint = \"ktrapeznikov/albert-xlarge-v2-squad-v2\""
      ],
      "execution_count": null,
      "outputs": []
    },
    {
      "cell_type": "markdown",
      "metadata": {
        "id": "y8fIHfAgn7Oh"
      },
      "source": [
        "Create reader\n",
        "\n"
      ]
    },
    {
      "cell_type": "code",
      "metadata": {
        "id": "-A1KQGXAkbdZ",
        "colab": {
          "base_uri": "https://localhost:8080/"
        },
        "outputId": "0fb8e33d-ab9b-4fc8-de99-97c7c174f2d4"
      },
      "source": [
        "reader = Reader(model_checkpoint, model_type=model_type)"
      ],
      "execution_count": null,
      "outputs": [
        {
          "output_type": "stream",
          "text": [
            "Model loaded from: ./drive/MyDrive/mbert_models/bert_finetuned_czech_squad\n",
            "Model has 177264386 parameters\n",
            "Device selected:\n",
            "cuda:0\n"
          ],
          "name": "stdout"
        }
      ]
    },
    {
      "cell_type": "markdown",
      "metadata": {
        "id": "Rmwj-8Q_PGJQ"
      },
      "source": [
        "Create retriever"
      ]
    },
    {
      "cell_type": "code",
      "metadata": {
        "id": "GQcGScZhPC6m",
        "colab": {
          "base_uri": "https://localhost:8080/"
        },
        "outputId": "7b736b60-ce09-4517-c5f3-70b4a607aa09"
      },
      "source": [
        "retriever = Retriever()"
      ],
      "execution_count": null,
      "outputs": [
        {
          "output_type": "stream",
          "text": [
            "INFO:corpy.morphodita:Loading tagger.\n",
            "2021-03-31 09:28:23.373 INFO in 'deeppavlov.core.data.simple_vocab'['simple_vocab'] at line 115: [loading vocabulary from /root/.deeppavlov/models/ner_ontonotes_bert_mult/tag.dict]\n",
            "INFO:deeppavlov.core.data.simple_vocab:[loading vocabulary from /root/.deeppavlov/models/ner_ontonotes_bert_mult/tag.dict]\n",
            "2021-03-31 09:28:54.718 INFO in 'deeppavlov.core.models.tf_model'['tf_model'] at line 51: [loading model from /root/.deeppavlov/models/ner_ontonotes_bert_mult/model]\n",
            "INFO:deeppavlov.core.models.tf_model:[loading model from /root/.deeppavlov/models/ner_ontonotes_bert_mult/model]\n"
          ],
          "name": "stderr"
        },
        {
          "output_type": "stream",
          "text": [
            "INFO:tensorflow:Restoring parameters from /root/.deeppavlov/models/ner_ontonotes_bert_mult/model\n"
          ],
          "name": "stdout"
        },
        {
          "output_type": "stream",
          "text": [
            "INFO:tensorflow:Restoring parameters from /root/.deeppavlov/models/ner_ontonotes_bert_mult/model\n"
          ],
          "name": "stderr"
        }
      ]
    },
    {
      "cell_type": "markdown",
      "metadata": {
        "id": "kd1sclnsRUsK"
      },
      "source": [
        "# Final pipeline"
      ]
    },
    {
      "cell_type": "code",
      "metadata": {
        "id": "IgcqZ3uTIk7c"
      },
      "source": [
        "def translate(question_cs, documents_cs, translator):\n",
        "  \"\"\"\n",
        "  Translates the czech question and documents and returns\n",
        "  question and list of documents in english\n",
        "\n",
        "  \"\"\"\n",
        "  # we concatenate the question with all the documents to be translated at once\n",
        "  # so we minimize the number of requests for googletrans\n",
        "  delimiter = \" _____ \"\n",
        "  concatenated = question_cs\n",
        "\n",
        "  for doc in documents_cs:\n",
        "    concatenated += delimiter\n",
        "    concatenated += doc\n",
        "\n",
        "  # and translate as a whole\n",
        "  concatenated = translator.translate(concatenated, src='cs', dest='en').text\n",
        "  # and split again\n",
        "  delimiter = \"_____\"\n",
        "  concatenated = concatenated.split(delimiter)\n",
        "  \n",
        "  # get translated question and doc\n",
        "  question = concatenated[0]\n",
        "  documents = concatenated[1:]\n",
        "\n",
        "  return question, documents"
      ],
      "execution_count": null,
      "outputs": []
    },
    {
      "cell_type": "code",
      "metadata": {
        "id": "NlwJe2YLRWsu"
      },
      "source": [
        "def find_answer(question, reader, retriever, translator, model_type):\n",
        "  \"\"\"\n",
        "  Finds the answer to the question\n",
        "\n",
        "  \"\"\"\n",
        "\n",
        "  question_cs = question # save czech question\n",
        "\n",
        "  # wiki search\n",
        "  documents_cs, article_list = retriever.retrieve(question)\n",
        "\n",
        "  # for saving the best results\n",
        "  bestAnswers = []\n",
        "  bestDocs = []\n",
        "  bestLogProbs = []\n",
        "  bestSummedLogProbs = []\n",
        "  \n",
        "  # translate according to model type\n",
        "  if model_type == 'mbert':\n",
        "    question = question_cs\n",
        "    documents = documents_cs\n",
        "\n",
        "  elif model_type == 'albert':\n",
        "    # translate question and documents for reader\n",
        "    question, documents = translate(question_cs, documents_cs, translator)\n",
        "  # delete null strings\n",
        "  documents = [x for x in documents if len(x.strip())]\n",
        "\n",
        "  # iterate over retrieved paragraphs\n",
        "  for idx, document in enumerate(documents):\n",
        "    # strip whitespaces\n",
        "    document = document.strip()\n",
        "\n",
        "    # chceck if any document has been found for the question\n",
        "    if document == \"\":\n",
        "      continue;\n",
        "\n",
        "    #get answer -------------------------------------------\n",
        "    answers = reader.get_answers(question, document)\n",
        "    log_conf = 0\n",
        "    log_conf_summed = 0\n",
        "\n",
        "    # choose valid answer\n",
        "    answer = ''\n",
        "    for answer in answers:\n",
        "      if answer['text'] != '':\n",
        "        log_conf = answer['score']\n",
        "        answer = answer['text']\n",
        "        log_conf_summed = Retriever.count_log_conf(answer, answers)\n",
        "        break\n",
        "    #######################################################\n",
        "    if type(answer) is not str:\n",
        "      continue\n",
        "\n",
        "    # save probs and answer\n",
        "    bestAnswers.append(answer)\n",
        "    bestLogProbs.append(log_conf)\n",
        "    bestSummedLogProbs.append(log_conf_summed)\n",
        "    # save retrieved doc\n",
        "    bestDocs.append(documents_cs[idx])\n",
        "\n",
        "  ############################################################\n",
        "  # check if any answer was found\n",
        "  if len(bestLogProbs) == 0 or bestAnswers[np.argmax(bestLogProbs, axis=0)] == '':\n",
        "    return \"\"\n",
        "\n",
        "  # get the best doc\n",
        "  # get best answer from retriever according to reader\n",
        "  document = bestDocs[np.argmax(bestLogProbs, axis=0)]\n",
        "  answer = bestAnswers[np.argmax(bestLogProbs, axis=0)]\n",
        "\n",
        "  # translate the final answer\n",
        "  answer_en = answer\n",
        "  if model_type == 'albert':\n",
        "    answer =  translator.translate(answer, src='en', dest='cs').text\n",
        "\n",
        "  return answer, answer_en, document, bestAnswers, bestLogProbs, bestSummedLogProbs, article_list"
      ],
      "execution_count": null,
      "outputs": []
    },
    {
      "cell_type": "markdown",
      "metadata": {
        "id": "5vx4Wp01k0Gl"
      },
      "source": [
        "# Evaluation on  sqad"
      ]
    },
    {
      "cell_type": "code",
      "metadata": {
        "id": "Tn5_5_YKeC0w"
      },
      "source": [
        "def sqad_eval(from_q, to_q, data, save_results_to, model_type):\n",
        "  \"\"\"\n",
        "  Evaluates the model on sqad dataset\n",
        "  \"\"\"\n",
        "  # create translator\n",
        "  translator = Translator()\n",
        "\n",
        "  # write results to\n",
        "  f = open(save_results_to, \"w\")\n",
        "\n",
        "  # for counting correct answers\n",
        "  score = 0\n",
        "\n",
        "  for i in tqdm(range(from_q, to_q+1)):\n",
        "\n",
        "    # get from dataset\n",
        "    question = data[str(i)][\"question\"]\n",
        "    correct_answer = data[str(i)][\"answer\"]\n",
        "    lemmatized_answer = data[str(i)][\"answer_lemma\"]\n",
        "\n",
        "    # get answer and other info to the specific question\n",
        "    answer, answer_en, document, bestAnswers, bestLogProbs, bestSummedLogProbs, article_list = find_answer(\n",
        "        question, reader, retriever, translator, model_type)\n",
        "\n",
        "    # write the result to file\n",
        "    f.write(\"----------------------------------------------------------------\\n\"+\n",
        "            \"-----------------------| otázka č.\" + str(i) + \" |------------------------\\n\" +\n",
        "            \"----------------------------------------------------------------\\n\"+\n",
        "            \"::otázka : \" + question + \"\\n\" +\n",
        "            \"::odpověď: \" + answer + \" / \" + answer_en + \"\\n\" + \n",
        "            \"::správná odpověď podle sqad : \" + correct_answer + \"\\n\" +\n",
        "            \"::lemma odpovědi podle sqad : \" + lemmatized_answer + \"\\n\\n\" +\n",
        "            \"----------------------------------------------------------------\\n\"+\n",
        "            \"získaný dokument: \" + document + \n",
        "            \"\\n----------------------------------------------------------------\\n\")\n",
        "    # what answers did we get over-all - debugging info\n",
        "    for listitem in bestAnswers:\n",
        "      f.write('%s ;; ' % listitem)\n",
        "    f.write(\"\\n\")\n",
        "    for listitem in bestLogProbs:\n",
        "      f.write('%s ;; ' % listitem)\n",
        "    f.write(\"\\n\")\n",
        "    for listitem in bestSummedLogProbs:\n",
        "      f.write('%s ;; ' % listitem)\n",
        "    f.write(\"\\n\")\n",
        "    for listitem in article_list:\n",
        "      f.write('%s ;; ' % listitem)\n",
        "    f.write(\"\\n\\n\\n\")\n",
        "\n",
        "    # convert to lowercase\n",
        "    answer = answer.lower()\n",
        "    answer_en = answer_en.lower()\n",
        "    correct_answer = correct_answer.lower()\n",
        "    lemmatized_answer = lemmatized_answer.lower()\n",
        "    # increment score, if we got any match between the original and retrieved answer\n",
        "    if (answer in correct_answer or correct_answer in answer or\n",
        "        answer in lemmatized_answer or lemmatized_answer in answer or \n",
        "        answer_en in lemmatized_answer or lemmatized_answer in answer_en):\n",
        "      score += 1\n",
        "\n",
        "  # close file descriptor\n",
        "  f.close()\n",
        "\n",
        "  # get the count of questions answered for score calculation\n",
        "  answered_count = to_q - from_q + 1\n",
        "\n",
        "  print(\"done\")\n",
        "  print(\"score: \" + str(score) + \"/\" + str(answered_count))"
      ],
      "execution_count": null,
      "outputs": []
    },
    {
      "cell_type": "code",
      "metadata": {
        "id": "uf9PmQUh3bez",
        "colab": {
          "base_uri": "https://localhost:8080/"
        },
        "outputId": "7a325b68-0bc8-450b-93c2-0f3210d2901d"
      },
      "source": [
        "# load preprocessed sqad dataset\n",
        "data = SqadDataset.load_sqad(\"drive/MyDrive/data/sqad_processed_without_yes_no.json\")"
      ],
      "execution_count": null,
      "outputs": [
        {
          "output_type": "stream",
          "text": [
            "Sqad dataset loaded from: drive/MyDrive/data/sqad_processed_without_yes_no.json\n"
          ],
          "name": "stdout"
        }
      ]
    },
    {
      "cell_type": "markdown",
      "metadata": {
        "id": "PgptuBcVtl8Z"
      },
      "source": [
        "Run the evaluation and save the results to the chosen file"
      ]
    },
    {
      "cell_type": "code",
      "metadata": {
        "id": "ze44udf7oHHf",
        "colab": {
          "base_uri": "https://localhost:8080/",
          "height": 100,
          "referenced_widgets": [
            "f324d78ef9684e4185169366f8d43082",
            "6709b296d2c44ae09608e16018ce3189",
            "cbc848e7c56f4e79a99bffd7e0fc45ac",
            "93d8ee3ed43445e395f14b2513f631eb",
            "9d1892c83f5b44619cf3bf909b588af1",
            "3e56dff2a3bb46fd8a58bd5f945aa043",
            "477e25390e9a4dacaee81a76a91d76b3",
            "00e946429ba44630834dadda9c9e35aa"
          ]
        },
        "outputId": "5a159221-6118-424c-9012-74037e32edc0"
      },
      "source": [
        "save_to = \"drive/MyDrive/data/saved_answers/saved_answers_mbert/test_101-200_pavlov+morphodita.txt\"\n",
        "\n",
        "sqad_eval(101, 200, data, save_to, model_type)"
      ],
      "execution_count": null,
      "outputs": [
        {
          "output_type": "display_data",
          "data": {
            "application/vnd.jupyter.widget-view+json": {
              "model_id": "f324d78ef9684e4185169366f8d43082",
              "version_minor": 0,
              "version_major": 2
            },
            "text/plain": [
              "HBox(children=(FloatProgress(value=0.0), HTML(value='')))"
            ]
          },
          "metadata": {
            "tags": []
          }
        },
        {
          "output_type": "stream",
          "text": [
            "\n",
            "done\n",
            "score: 68/100\n"
          ],
          "name": "stdout"
        }
      ]
    },
    {
      "cell_type": "markdown",
      "metadata": {
        "id": "SwPOzAjL8OQU"
      },
      "source": [
        "# Testing NER"
      ]
    },
    {
      "cell_type": "markdown",
      "metadata": {
        "id": "KkPQ1N6ZuUi1"
      },
      "source": [
        "Build model - if you don't have the model stored, use 'download=True'"
      ]
    },
    {
      "cell_type": "code",
      "metadata": {
        "id": "ZYhDNVOL6iaJ"
      },
      "source": [
        "# Download and load model (set download=False to skip download phase)\n",
        "ner = build_model(configs.ner.ner_ontonotes_bert_mult, download=False)"
      ],
      "execution_count": null,
      "outputs": []
    },
    {
      "cell_type": "markdown",
      "metadata": {
        "id": "tGzxwbmuuWH-"
      },
      "source": [
        "Testing"
      ]
    },
    {
      "cell_type": "code",
      "metadata": {
        "colab": {
          "base_uri": "https://localhost:8080/"
        },
        "id": "A3z3GDQIZzjC",
        "outputId": "e0d8a5a5-9d41-4376-ba1f-454aa5eefc85"
      },
      "source": [
        "named_entities = get_pavlov_named_entities(\"kdo byl Albert einstein?\")\n",
        "print(named_entities)"
      ],
      "execution_count": null,
      "outputs": [
        {
          "output_type": "stream",
          "text": [
            "['Albert einstein']\n"
          ],
          "name": "stdout"
        }
      ]
    },
    {
      "cell_type": "code",
      "metadata": {
        "id": "IuD49hBNZww8"
      },
      "source": [
        "def get_pavlov_named_entities(question):\n",
        "    \"\"\"\n",
        "    Extracts named entities from the question.\n",
        "\n",
        "    \"\"\"\n",
        "    ner_tags = ner([question])\n",
        "\n",
        "    named_entities = \"\"\n",
        "    for idx, tag in enumerate(ner_tags[1][0]):\n",
        "      if tag != 'O':\n",
        "        named_entities += ner_tags[0][0][idx] + \" \"\n",
        "\n",
        "    NE = []\n",
        "    if len(named_entities.strip()) != 0:\n",
        "      NE.append(named_entities.strip())\n",
        "\n",
        "    return NE"
      ],
      "execution_count": null,
      "outputs": []
    },
    {
      "cell_type": "markdown",
      "metadata": {
        "id": "6DrA_FQY1Cah"
      },
      "source": [
        "# Testing MorphoDiTa"
      ]
    },
    {
      "cell_type": "code",
      "metadata": {
        "colab": {
          "base_uri": "https://localhost:8080/"
        },
        "id": "yKLeL2Sb6Phw",
        "outputId": "cbe95096-d778-43e2-addd-d4f60661a3a4"
      },
      "source": [
        "from corpy.morphodita import Tagger\n",
        "tagger = Tagger(\"./czech-morfflex-pdt-161115/czech-morfflex-pdt-161115.tagger\")"
      ],
      "execution_count": null,
      "outputs": [
        {
          "output_type": "stream",
          "text": [
            "INFO:corpy.morphodita:Loading tagger.\n"
          ],
          "name": "stderr"
        }
      ]
    },
    {
      "cell_type": "code",
      "metadata": {
        "id": "pIRr8s3X9FUy"
      },
      "source": [
        "sentence = \"Perak (známý také pod arabským názvem Darul Ridzuan) je sultanát a jeden z federálních států Malajsie.Kedah se nachází v západní části Malajsie na pobřeží Malackého průlivu.\""
      ],
      "execution_count": null,
      "outputs": []
    },
    {
      "cell_type": "code",
      "metadata": {
        "colab": {
          "base_uri": "https://localhost:8080/"
        },
        "id": "TkpO-S5-7swg",
        "outputId": "5790433f-9c76-4fa4-8fc4-19c8bdfe3b6b"
      },
      "source": [
        "text = sentence.lower()\n",
        "text = re.split(\"\\W\", text)\n",
        "text = (\" \").join(text)\n",
        "\n",
        "tokens = list(tagger.tag(text, convert='strip_lemma_id'))\n",
        "\n",
        "lemmas = []\n",
        "for token in tokens:\n",
        "  lemmas.append(token.lemma)\n",
        "\n",
        "print(lemmas)"
      ],
      "execution_count": null,
      "outputs": [
        {
          "output_type": "stream",
          "text": [
            "['perak', 'známý', 'také', 'pod', 'arabský', 'název', 'darul', 'ridzuan', 'být', 'sultanát', 'a', 'jeden', 'z', 'federální', 'stát', 'malajsie', 'kedah', 'se', 'nacházet', 'v', 'západní', 'část', 'malajsie', 'na', 'pobřeží', 'malacký', 'průliv']\n"
          ],
          "name": "stdout"
        }
      ]
    },
    {
      "cell_type": "markdown",
      "metadata": {
        "id": "F8KuCxCtNFNo"
      },
      "source": [
        "# Ask a question"
      ]
    },
    {
      "cell_type": "code",
      "metadata": {
        "id": "7KyVD2CDNhcy"
      },
      "source": [
        "# create translator\n",
        "translator = Translator()\n",
        "\n",
        "question = \"Kdy skončila druhá světová válka?\"\n",
        "answer = find_answer(question, reader, retriever, translator, model_type)\n",
        "\n",
        "if len(answer) == 0:\n",
        "  print(answer)\n",
        "else:\n",
        "  print(question)\n",
        "  print()\n",
        "  print(answer[0])\n",
        "  if model_type == 'albert':\n",
        "    print(answer[1])\n",
        "  print()\n",
        "  #print(answer[1])\n",
        "  print(answer[2])\n",
        "  print(answer)"
      ],
      "execution_count": null,
      "outputs": []
    }
  ]
}