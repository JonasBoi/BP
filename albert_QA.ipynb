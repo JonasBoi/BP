{
  "nbformat": 4,
  "nbformat_minor": 0,
  "metadata": {
    "colab": {
      "name": "albert_QA.ipynb",
      "provenance": [],
      "collapsed_sections": [],
      "toc_visible": true
    },
    "kernelspec": {
      "name": "python3",
      "display_name": "Python 3"
    },
    "accelerator": "GPU",
    "widgets": {
      "application/vnd.jupyter.widget-state+json": {
        "8d12351a8366410caf54713ac70d3f25": {
          "model_module": "@jupyter-widgets/controls",
          "model_name": "HBoxModel",
          "state": {
            "_view_name": "HBoxView",
            "_dom_classes": [],
            "_model_name": "HBoxModel",
            "_view_module": "@jupyter-widgets/controls",
            "_model_module_version": "1.5.0",
            "_view_count": null,
            "_view_module_version": "1.5.0",
            "box_style": "",
            "layout": "IPY_MODEL_a8df94b403994eeab74d8f5d28c756a1",
            "_model_module": "@jupyter-widgets/controls",
            "children": [
              "IPY_MODEL_df6f46f4aad64f86b137ee5237338137",
              "IPY_MODEL_59a934b44c074a079f0f0c35def15fa8"
            ]
          }
        },
        "a8df94b403994eeab74d8f5d28c756a1": {
          "model_module": "@jupyter-widgets/base",
          "model_name": "LayoutModel",
          "state": {
            "_view_name": "LayoutView",
            "grid_template_rows": null,
            "right": null,
            "justify_content": null,
            "_view_module": "@jupyter-widgets/base",
            "overflow": null,
            "_model_module_version": "1.2.0",
            "_view_count": null,
            "flex_flow": null,
            "width": null,
            "min_width": null,
            "border": null,
            "align_items": null,
            "bottom": null,
            "_model_module": "@jupyter-widgets/base",
            "top": null,
            "grid_column": null,
            "overflow_y": null,
            "overflow_x": null,
            "grid_auto_flow": null,
            "grid_area": null,
            "grid_template_columns": null,
            "flex": null,
            "_model_name": "LayoutModel",
            "justify_items": null,
            "grid_row": null,
            "max_height": null,
            "align_content": null,
            "visibility": null,
            "align_self": null,
            "height": null,
            "min_height": null,
            "padding": null,
            "grid_auto_rows": null,
            "grid_gap": null,
            "max_width": null,
            "order": null,
            "_view_module_version": "1.2.0",
            "grid_template_areas": null,
            "object_position": null,
            "object_fit": null,
            "grid_auto_columns": null,
            "margin": null,
            "display": null,
            "left": null
          }
        },
        "df6f46f4aad64f86b137ee5237338137": {
          "model_module": "@jupyter-widgets/controls",
          "model_name": "FloatProgressModel",
          "state": {
            "_view_name": "ProgressView",
            "style": "IPY_MODEL_8ffb1648be9940d8b3976e275a73b10a",
            "_dom_classes": [],
            "description": "Downloading: ",
            "_model_name": "FloatProgressModel",
            "bar_style": "success",
            "max": 1806,
            "_view_module": "@jupyter-widgets/controls",
            "_model_module_version": "1.5.0",
            "value": 1806,
            "_view_count": null,
            "_view_module_version": "1.5.0",
            "orientation": "horizontal",
            "min": 0,
            "description_tooltip": null,
            "_model_module": "@jupyter-widgets/controls",
            "layout": "IPY_MODEL_8e288c0795a34d9988745f8d7ce7a41e"
          }
        },
        "59a934b44c074a079f0f0c35def15fa8": {
          "model_module": "@jupyter-widgets/controls",
          "model_name": "HTMLModel",
          "state": {
            "_view_name": "HTMLView",
            "style": "IPY_MODEL_9e67b60e39ec4035885d6dfaef6d09b1",
            "_dom_classes": [],
            "description": "",
            "_model_name": "HTMLModel",
            "placeholder": "​",
            "_view_module": "@jupyter-widgets/controls",
            "_model_module_version": "1.5.0",
            "value": " 5.07k/? [00:00&lt;00:00, 24.2kB/s]",
            "_view_count": null,
            "_view_module_version": "1.5.0",
            "description_tooltip": null,
            "_model_module": "@jupyter-widgets/controls",
            "layout": "IPY_MODEL_f8719796c9d44c9f938772417e1dabb0"
          }
        },
        "8ffb1648be9940d8b3976e275a73b10a": {
          "model_module": "@jupyter-widgets/controls",
          "model_name": "ProgressStyleModel",
          "state": {
            "_view_name": "StyleView",
            "_model_name": "ProgressStyleModel",
            "description_width": "initial",
            "_view_module": "@jupyter-widgets/base",
            "_model_module_version": "1.5.0",
            "_view_count": null,
            "_view_module_version": "1.2.0",
            "bar_color": null,
            "_model_module": "@jupyter-widgets/controls"
          }
        },
        "8e288c0795a34d9988745f8d7ce7a41e": {
          "model_module": "@jupyter-widgets/base",
          "model_name": "LayoutModel",
          "state": {
            "_view_name": "LayoutView",
            "grid_template_rows": null,
            "right": null,
            "justify_content": null,
            "_view_module": "@jupyter-widgets/base",
            "overflow": null,
            "_model_module_version": "1.2.0",
            "_view_count": null,
            "flex_flow": null,
            "width": null,
            "min_width": null,
            "border": null,
            "align_items": null,
            "bottom": null,
            "_model_module": "@jupyter-widgets/base",
            "top": null,
            "grid_column": null,
            "overflow_y": null,
            "overflow_x": null,
            "grid_auto_flow": null,
            "grid_area": null,
            "grid_template_columns": null,
            "flex": null,
            "_model_name": "LayoutModel",
            "justify_items": null,
            "grid_row": null,
            "max_height": null,
            "align_content": null,
            "visibility": null,
            "align_self": null,
            "height": null,
            "min_height": null,
            "padding": null,
            "grid_auto_rows": null,
            "grid_gap": null,
            "max_width": null,
            "order": null,
            "_view_module_version": "1.2.0",
            "grid_template_areas": null,
            "object_position": null,
            "object_fit": null,
            "grid_auto_columns": null,
            "margin": null,
            "display": null,
            "left": null
          }
        },
        "9e67b60e39ec4035885d6dfaef6d09b1": {
          "model_module": "@jupyter-widgets/controls",
          "model_name": "DescriptionStyleModel",
          "state": {
            "_view_name": "StyleView",
            "_model_name": "DescriptionStyleModel",
            "description_width": "",
            "_view_module": "@jupyter-widgets/base",
            "_model_module_version": "1.5.0",
            "_view_count": null,
            "_view_module_version": "1.2.0",
            "_model_module": "@jupyter-widgets/controls"
          }
        },
        "f8719796c9d44c9f938772417e1dabb0": {
          "model_module": "@jupyter-widgets/base",
          "model_name": "LayoutModel",
          "state": {
            "_view_name": "LayoutView",
            "grid_template_rows": null,
            "right": null,
            "justify_content": null,
            "_view_module": "@jupyter-widgets/base",
            "overflow": null,
            "_model_module_version": "1.2.0",
            "_view_count": null,
            "flex_flow": null,
            "width": null,
            "min_width": null,
            "border": null,
            "align_items": null,
            "bottom": null,
            "_model_module": "@jupyter-widgets/base",
            "top": null,
            "grid_column": null,
            "overflow_y": null,
            "overflow_x": null,
            "grid_auto_flow": null,
            "grid_area": null,
            "grid_template_columns": null,
            "flex": null,
            "_model_name": "LayoutModel",
            "justify_items": null,
            "grid_row": null,
            "max_height": null,
            "align_content": null,
            "visibility": null,
            "align_self": null,
            "height": null,
            "min_height": null,
            "padding": null,
            "grid_auto_rows": null,
            "grid_gap": null,
            "max_width": null,
            "order": null,
            "_view_module_version": "1.2.0",
            "grid_template_areas": null,
            "object_position": null,
            "object_fit": null,
            "grid_auto_columns": null,
            "margin": null,
            "display": null,
            "left": null
          }
        },
        "cb3b0b0ecee44611ab38cbd4530e88ba": {
          "model_module": "@jupyter-widgets/controls",
          "model_name": "HBoxModel",
          "state": {
            "_view_name": "HBoxView",
            "_dom_classes": [],
            "_model_name": "HBoxModel",
            "_view_module": "@jupyter-widgets/controls",
            "_model_module_version": "1.5.0",
            "_view_count": null,
            "_view_module_version": "1.5.0",
            "box_style": "",
            "layout": "IPY_MODEL_212a26df176f46c5b8410777ae3855d1",
            "_model_module": "@jupyter-widgets/controls",
            "children": [
              "IPY_MODEL_1ca43132ac494ebda84dfaf5a4b5739c",
              "IPY_MODEL_f0a45657bc264dbc8962f5ebc085407d"
            ]
          }
        },
        "212a26df176f46c5b8410777ae3855d1": {
          "model_module": "@jupyter-widgets/base",
          "model_name": "LayoutModel",
          "state": {
            "_view_name": "LayoutView",
            "grid_template_rows": null,
            "right": null,
            "justify_content": null,
            "_view_module": "@jupyter-widgets/base",
            "overflow": null,
            "_model_module_version": "1.2.0",
            "_view_count": null,
            "flex_flow": null,
            "width": null,
            "min_width": null,
            "border": null,
            "align_items": null,
            "bottom": null,
            "_model_module": "@jupyter-widgets/base",
            "top": null,
            "grid_column": null,
            "overflow_y": null,
            "overflow_x": null,
            "grid_auto_flow": null,
            "grid_area": null,
            "grid_template_columns": null,
            "flex": null,
            "_model_name": "LayoutModel",
            "justify_items": null,
            "grid_row": null,
            "max_height": null,
            "align_content": null,
            "visibility": null,
            "align_self": null,
            "height": null,
            "min_height": null,
            "padding": null,
            "grid_auto_rows": null,
            "grid_gap": null,
            "max_width": null,
            "order": null,
            "_view_module_version": "1.2.0",
            "grid_template_areas": null,
            "object_position": null,
            "object_fit": null,
            "grid_auto_columns": null,
            "margin": null,
            "display": null,
            "left": null
          }
        },
        "1ca43132ac494ebda84dfaf5a4b5739c": {
          "model_module": "@jupyter-widgets/controls",
          "model_name": "FloatProgressModel",
          "state": {
            "_view_name": "ProgressView",
            "style": "IPY_MODEL_48547a6c557d4157b03642e1cf24c403",
            "_dom_classes": [],
            "description": "Downloading: ",
            "_model_name": "FloatProgressModel",
            "bar_style": "success",
            "max": 963,
            "_view_module": "@jupyter-widgets/controls",
            "_model_module_version": "1.5.0",
            "value": 963,
            "_view_count": null,
            "_view_module_version": "1.5.0",
            "orientation": "horizontal",
            "min": 0,
            "description_tooltip": null,
            "_model_module": "@jupyter-widgets/controls",
            "layout": "IPY_MODEL_a89f205cc2e1423599e9688883a0c50e"
          }
        },
        "f0a45657bc264dbc8962f5ebc085407d": {
          "model_module": "@jupyter-widgets/controls",
          "model_name": "HTMLModel",
          "state": {
            "_view_name": "HTMLView",
            "style": "IPY_MODEL_98103b118b9449ca8798b650664b7e1f",
            "_dom_classes": [],
            "description": "",
            "_model_name": "HTMLModel",
            "placeholder": "​",
            "_view_module": "@jupyter-widgets/controls",
            "_model_module_version": "1.5.0",
            "value": " 2.23k/? [00:00&lt;00:00, 41.4kB/s]",
            "_view_count": null,
            "_view_module_version": "1.5.0",
            "description_tooltip": null,
            "_model_module": "@jupyter-widgets/controls",
            "layout": "IPY_MODEL_d32f3e93496040858149034d8bbabfd7"
          }
        },
        "48547a6c557d4157b03642e1cf24c403": {
          "model_module": "@jupyter-widgets/controls",
          "model_name": "ProgressStyleModel",
          "state": {
            "_view_name": "StyleView",
            "_model_name": "ProgressStyleModel",
            "description_width": "initial",
            "_view_module": "@jupyter-widgets/base",
            "_model_module_version": "1.5.0",
            "_view_count": null,
            "_view_module_version": "1.2.0",
            "bar_color": null,
            "_model_module": "@jupyter-widgets/controls"
          }
        },
        "a89f205cc2e1423599e9688883a0c50e": {
          "model_module": "@jupyter-widgets/base",
          "model_name": "LayoutModel",
          "state": {
            "_view_name": "LayoutView",
            "grid_template_rows": null,
            "right": null,
            "justify_content": null,
            "_view_module": "@jupyter-widgets/base",
            "overflow": null,
            "_model_module_version": "1.2.0",
            "_view_count": null,
            "flex_flow": null,
            "width": null,
            "min_width": null,
            "border": null,
            "align_items": null,
            "bottom": null,
            "_model_module": "@jupyter-widgets/base",
            "top": null,
            "grid_column": null,
            "overflow_y": null,
            "overflow_x": null,
            "grid_auto_flow": null,
            "grid_area": null,
            "grid_template_columns": null,
            "flex": null,
            "_model_name": "LayoutModel",
            "justify_items": null,
            "grid_row": null,
            "max_height": null,
            "align_content": null,
            "visibility": null,
            "align_self": null,
            "height": null,
            "min_height": null,
            "padding": null,
            "grid_auto_rows": null,
            "grid_gap": null,
            "max_width": null,
            "order": null,
            "_view_module_version": "1.2.0",
            "grid_template_areas": null,
            "object_position": null,
            "object_fit": null,
            "grid_auto_columns": null,
            "margin": null,
            "display": null,
            "left": null
          }
        },
        "98103b118b9449ca8798b650664b7e1f": {
          "model_module": "@jupyter-widgets/controls",
          "model_name": "DescriptionStyleModel",
          "state": {
            "_view_name": "StyleView",
            "_model_name": "DescriptionStyleModel",
            "description_width": "",
            "_view_module": "@jupyter-widgets/base",
            "_model_module_version": "1.5.0",
            "_view_count": null,
            "_view_module_version": "1.2.0",
            "_model_module": "@jupyter-widgets/controls"
          }
        },
        "d32f3e93496040858149034d8bbabfd7": {
          "model_module": "@jupyter-widgets/base",
          "model_name": "LayoutModel",
          "state": {
            "_view_name": "LayoutView",
            "grid_template_rows": null,
            "right": null,
            "justify_content": null,
            "_view_module": "@jupyter-widgets/base",
            "overflow": null,
            "_model_module_version": "1.2.0",
            "_view_count": null,
            "flex_flow": null,
            "width": null,
            "min_width": null,
            "border": null,
            "align_items": null,
            "bottom": null,
            "_model_module": "@jupyter-widgets/base",
            "top": null,
            "grid_column": null,
            "overflow_y": null,
            "overflow_x": null,
            "grid_auto_flow": null,
            "grid_area": null,
            "grid_template_columns": null,
            "flex": null,
            "_model_name": "LayoutModel",
            "justify_items": null,
            "grid_row": null,
            "max_height": null,
            "align_content": null,
            "visibility": null,
            "align_self": null,
            "height": null,
            "min_height": null,
            "padding": null,
            "grid_auto_rows": null,
            "grid_gap": null,
            "max_width": null,
            "order": null,
            "_view_module_version": "1.2.0",
            "grid_template_areas": null,
            "object_position": null,
            "object_fit": null,
            "grid_auto_columns": null,
            "margin": null,
            "display": null,
            "left": null
          }
        },
        "8cf9349847b54f07b14bc20b9ed3db86": {
          "model_module": "@jupyter-widgets/controls",
          "model_name": "HBoxModel",
          "state": {
            "_view_name": "HBoxView",
            "_dom_classes": [],
            "_model_name": "HBoxModel",
            "_view_module": "@jupyter-widgets/controls",
            "_model_module_version": "1.5.0",
            "_view_count": null,
            "_view_module_version": "1.5.0",
            "box_style": "",
            "layout": "IPY_MODEL_aa75d74e8aac43d4b176cbe8a5fb612d",
            "_model_module": "@jupyter-widgets/controls",
            "children": [
              "IPY_MODEL_be81c15779ad4430824856079976be8c",
              "IPY_MODEL_1246f5316666467bb2baf5a05da4b662"
            ]
          }
        },
        "aa75d74e8aac43d4b176cbe8a5fb612d": {
          "model_module": "@jupyter-widgets/base",
          "model_name": "LayoutModel",
          "state": {
            "_view_name": "LayoutView",
            "grid_template_rows": null,
            "right": null,
            "justify_content": null,
            "_view_module": "@jupyter-widgets/base",
            "overflow": null,
            "_model_module_version": "1.2.0",
            "_view_count": null,
            "flex_flow": null,
            "width": null,
            "min_width": null,
            "border": null,
            "align_items": null,
            "bottom": null,
            "_model_module": "@jupyter-widgets/base",
            "top": null,
            "grid_column": null,
            "overflow_y": null,
            "overflow_x": null,
            "grid_auto_flow": null,
            "grid_area": null,
            "grid_template_columns": null,
            "flex": null,
            "_model_name": "LayoutModel",
            "justify_items": null,
            "grid_row": null,
            "max_height": null,
            "align_content": null,
            "visibility": null,
            "align_self": null,
            "height": null,
            "min_height": null,
            "padding": null,
            "grid_auto_rows": null,
            "grid_gap": null,
            "max_width": null,
            "order": null,
            "_view_module_version": "1.2.0",
            "grid_template_areas": null,
            "object_position": null,
            "object_fit": null,
            "grid_auto_columns": null,
            "margin": null,
            "display": null,
            "left": null
          }
        },
        "be81c15779ad4430824856079976be8c": {
          "model_module": "@jupyter-widgets/controls",
          "model_name": "FloatProgressModel",
          "state": {
            "_view_name": "ProgressView",
            "style": "IPY_MODEL_661788d2d90647c9a5c7f4959cb89994",
            "_dom_classes": [],
            "description": "Downloading: ",
            "_model_name": "FloatProgressModel",
            "bar_style": "success",
            "max": 9551051,
            "_view_module": "@jupyter-widgets/controls",
            "_model_module_version": "1.5.0",
            "value": 9551051,
            "_view_count": null,
            "_view_module_version": "1.5.0",
            "orientation": "horizontal",
            "min": 0,
            "description_tooltip": null,
            "_model_module": "@jupyter-widgets/controls",
            "layout": "IPY_MODEL_2ee82d2c3c3a48caaf91ac88c53a2b63"
          }
        },
        "1246f5316666467bb2baf5a05da4b662": {
          "model_module": "@jupyter-widgets/controls",
          "model_name": "HTMLModel",
          "state": {
            "_view_name": "HTMLView",
            "style": "IPY_MODEL_172df9de819e42b4abab61a8442d2d8d",
            "_dom_classes": [],
            "description": "",
            "_model_name": "HTMLModel",
            "placeholder": "​",
            "_view_module": "@jupyter-widgets/controls",
            "_model_module_version": "1.5.0",
            "value": " 42.1M/? [00:00&lt;00:00, 46.8MB/s]",
            "_view_count": null,
            "_view_module_version": "1.5.0",
            "description_tooltip": null,
            "_model_module": "@jupyter-widgets/controls",
            "layout": "IPY_MODEL_9044b85b3c984cdf9ee57d6be425d5c6"
          }
        },
        "661788d2d90647c9a5c7f4959cb89994": {
          "model_module": "@jupyter-widgets/controls",
          "model_name": "ProgressStyleModel",
          "state": {
            "_view_name": "StyleView",
            "_model_name": "ProgressStyleModel",
            "description_width": "initial",
            "_view_module": "@jupyter-widgets/base",
            "_model_module_version": "1.5.0",
            "_view_count": null,
            "_view_module_version": "1.2.0",
            "bar_color": null,
            "_model_module": "@jupyter-widgets/controls"
          }
        },
        "2ee82d2c3c3a48caaf91ac88c53a2b63": {
          "model_module": "@jupyter-widgets/base",
          "model_name": "LayoutModel",
          "state": {
            "_view_name": "LayoutView",
            "grid_template_rows": null,
            "right": null,
            "justify_content": null,
            "_view_module": "@jupyter-widgets/base",
            "overflow": null,
            "_model_module_version": "1.2.0",
            "_view_count": null,
            "flex_flow": null,
            "width": null,
            "min_width": null,
            "border": null,
            "align_items": null,
            "bottom": null,
            "_model_module": "@jupyter-widgets/base",
            "top": null,
            "grid_column": null,
            "overflow_y": null,
            "overflow_x": null,
            "grid_auto_flow": null,
            "grid_area": null,
            "grid_template_columns": null,
            "flex": null,
            "_model_name": "LayoutModel",
            "justify_items": null,
            "grid_row": null,
            "max_height": null,
            "align_content": null,
            "visibility": null,
            "align_self": null,
            "height": null,
            "min_height": null,
            "padding": null,
            "grid_auto_rows": null,
            "grid_gap": null,
            "max_width": null,
            "order": null,
            "_view_module_version": "1.2.0",
            "grid_template_areas": null,
            "object_position": null,
            "object_fit": null,
            "grid_auto_columns": null,
            "margin": null,
            "display": null,
            "left": null
          }
        },
        "172df9de819e42b4abab61a8442d2d8d": {
          "model_module": "@jupyter-widgets/controls",
          "model_name": "DescriptionStyleModel",
          "state": {
            "_view_name": "StyleView",
            "_model_name": "DescriptionStyleModel",
            "description_width": "",
            "_view_module": "@jupyter-widgets/base",
            "_model_module_version": "1.5.0",
            "_view_count": null,
            "_view_module_version": "1.2.0",
            "_model_module": "@jupyter-widgets/controls"
          }
        },
        "9044b85b3c984cdf9ee57d6be425d5c6": {
          "model_module": "@jupyter-widgets/base",
          "model_name": "LayoutModel",
          "state": {
            "_view_name": "LayoutView",
            "grid_template_rows": null,
            "right": null,
            "justify_content": null,
            "_view_module": "@jupyter-widgets/base",
            "overflow": null,
            "_model_module_version": "1.2.0",
            "_view_count": null,
            "flex_flow": null,
            "width": null,
            "min_width": null,
            "border": null,
            "align_items": null,
            "bottom": null,
            "_model_module": "@jupyter-widgets/base",
            "top": null,
            "grid_column": null,
            "overflow_y": null,
            "overflow_x": null,
            "grid_auto_flow": null,
            "grid_area": null,
            "grid_template_columns": null,
            "flex": null,
            "_model_name": "LayoutModel",
            "justify_items": null,
            "grid_row": null,
            "max_height": null,
            "align_content": null,
            "visibility": null,
            "align_self": null,
            "height": null,
            "min_height": null,
            "padding": null,
            "grid_auto_rows": null,
            "grid_gap": null,
            "max_width": null,
            "order": null,
            "_view_module_version": "1.2.0",
            "grid_template_areas": null,
            "object_position": null,
            "object_fit": null,
            "grid_auto_columns": null,
            "margin": null,
            "display": null,
            "left": null
          }
        },
        "b9ac175a5bc542aa994209a67e4537cc": {
          "model_module": "@jupyter-widgets/controls",
          "model_name": "HBoxModel",
          "state": {
            "_view_name": "HBoxView",
            "_dom_classes": [],
            "_model_name": "HBoxModel",
            "_view_module": "@jupyter-widgets/controls",
            "_model_module_version": "1.5.0",
            "_view_count": null,
            "_view_module_version": "1.5.0",
            "box_style": "",
            "layout": "IPY_MODEL_79b582ceb59a4015a03f4ed1b76df98a",
            "_model_module": "@jupyter-widgets/controls",
            "children": [
              "IPY_MODEL_a3607d10203749dc8bcb5d2e3ca866f9",
              "IPY_MODEL_1a4d01ba7d4640b4a6e6b7a1b12886f3"
            ]
          }
        },
        "79b582ceb59a4015a03f4ed1b76df98a": {
          "model_module": "@jupyter-widgets/base",
          "model_name": "LayoutModel",
          "state": {
            "_view_name": "LayoutView",
            "grid_template_rows": null,
            "right": null,
            "justify_content": null,
            "_view_module": "@jupyter-widgets/base",
            "overflow": null,
            "_model_module_version": "1.2.0",
            "_view_count": null,
            "flex_flow": null,
            "width": null,
            "min_width": null,
            "border": null,
            "align_items": null,
            "bottom": null,
            "_model_module": "@jupyter-widgets/base",
            "top": null,
            "grid_column": null,
            "overflow_y": null,
            "overflow_x": null,
            "grid_auto_flow": null,
            "grid_area": null,
            "grid_template_columns": null,
            "flex": null,
            "_model_name": "LayoutModel",
            "justify_items": null,
            "grid_row": null,
            "max_height": null,
            "align_content": null,
            "visibility": null,
            "align_self": null,
            "height": null,
            "min_height": null,
            "padding": null,
            "grid_auto_rows": null,
            "grid_gap": null,
            "max_width": null,
            "order": null,
            "_view_module_version": "1.2.0",
            "grid_template_areas": null,
            "object_position": null,
            "object_fit": null,
            "grid_auto_columns": null,
            "margin": null,
            "display": null,
            "left": null
          }
        },
        "a3607d10203749dc8bcb5d2e3ca866f9": {
          "model_module": "@jupyter-widgets/controls",
          "model_name": "FloatProgressModel",
          "state": {
            "_view_name": "ProgressView",
            "style": "IPY_MODEL_6cb08f12e8a74437b603abe7cbd03868",
            "_dom_classes": [],
            "description": "Downloading: ",
            "_model_name": "FloatProgressModel",
            "bar_style": "success",
            "max": 800683,
            "_view_module": "@jupyter-widgets/controls",
            "_model_module_version": "1.5.0",
            "value": 800683,
            "_view_count": null,
            "_view_module_version": "1.5.0",
            "orientation": "horizontal",
            "min": 0,
            "description_tooltip": null,
            "_model_module": "@jupyter-widgets/controls",
            "layout": "IPY_MODEL_1f4ca3a9eaa242a6b8d761be6a1979aa"
          }
        },
        "1a4d01ba7d4640b4a6e6b7a1b12886f3": {
          "model_module": "@jupyter-widgets/controls",
          "model_name": "HTMLModel",
          "state": {
            "_view_name": "HTMLView",
            "style": "IPY_MODEL_85daae9386bd4646b2af11ffcbcec14b",
            "_dom_classes": [],
            "description": "",
            "_model_name": "HTMLModel",
            "placeholder": "​",
            "_view_module": "@jupyter-widgets/controls",
            "_model_module_version": "1.5.0",
            "value": " 4.37M/? [00:00&lt;00:00, 13.7MB/s]",
            "_view_count": null,
            "_view_module_version": "1.5.0",
            "description_tooltip": null,
            "_model_module": "@jupyter-widgets/controls",
            "layout": "IPY_MODEL_995c03f5570b4de28b81819ec6a2a66e"
          }
        },
        "6cb08f12e8a74437b603abe7cbd03868": {
          "model_module": "@jupyter-widgets/controls",
          "model_name": "ProgressStyleModel",
          "state": {
            "_view_name": "StyleView",
            "_model_name": "ProgressStyleModel",
            "description_width": "initial",
            "_view_module": "@jupyter-widgets/base",
            "_model_module_version": "1.5.0",
            "_view_count": null,
            "_view_module_version": "1.2.0",
            "bar_color": null,
            "_model_module": "@jupyter-widgets/controls"
          }
        },
        "1f4ca3a9eaa242a6b8d761be6a1979aa": {
          "model_module": "@jupyter-widgets/base",
          "model_name": "LayoutModel",
          "state": {
            "_view_name": "LayoutView",
            "grid_template_rows": null,
            "right": null,
            "justify_content": null,
            "_view_module": "@jupyter-widgets/base",
            "overflow": null,
            "_model_module_version": "1.2.0",
            "_view_count": null,
            "flex_flow": null,
            "width": null,
            "min_width": null,
            "border": null,
            "align_items": null,
            "bottom": null,
            "_model_module": "@jupyter-widgets/base",
            "top": null,
            "grid_column": null,
            "overflow_y": null,
            "overflow_x": null,
            "grid_auto_flow": null,
            "grid_area": null,
            "grid_template_columns": null,
            "flex": null,
            "_model_name": "LayoutModel",
            "justify_items": null,
            "grid_row": null,
            "max_height": null,
            "align_content": null,
            "visibility": null,
            "align_self": null,
            "height": null,
            "min_height": null,
            "padding": null,
            "grid_auto_rows": null,
            "grid_gap": null,
            "max_width": null,
            "order": null,
            "_view_module_version": "1.2.0",
            "grid_template_areas": null,
            "object_position": null,
            "object_fit": null,
            "grid_auto_columns": null,
            "margin": null,
            "display": null,
            "left": null
          }
        },
        "85daae9386bd4646b2af11ffcbcec14b": {
          "model_module": "@jupyter-widgets/controls",
          "model_name": "DescriptionStyleModel",
          "state": {
            "_view_name": "StyleView",
            "_model_name": "DescriptionStyleModel",
            "description_width": "",
            "_view_module": "@jupyter-widgets/base",
            "_model_module_version": "1.5.0",
            "_view_count": null,
            "_view_module_version": "1.2.0",
            "_model_module": "@jupyter-widgets/controls"
          }
        },
        "995c03f5570b4de28b81819ec6a2a66e": {
          "model_module": "@jupyter-widgets/base",
          "model_name": "LayoutModel",
          "state": {
            "_view_name": "LayoutView",
            "grid_template_rows": null,
            "right": null,
            "justify_content": null,
            "_view_module": "@jupyter-widgets/base",
            "overflow": null,
            "_model_module_version": "1.2.0",
            "_view_count": null,
            "flex_flow": null,
            "width": null,
            "min_width": null,
            "border": null,
            "align_items": null,
            "bottom": null,
            "_model_module": "@jupyter-widgets/base",
            "top": null,
            "grid_column": null,
            "overflow_y": null,
            "overflow_x": null,
            "grid_auto_flow": null,
            "grid_area": null,
            "grid_template_columns": null,
            "flex": null,
            "_model_name": "LayoutModel",
            "justify_items": null,
            "grid_row": null,
            "max_height": null,
            "align_content": null,
            "visibility": null,
            "align_self": null,
            "height": null,
            "min_height": null,
            "padding": null,
            "grid_auto_rows": null,
            "grid_gap": null,
            "max_width": null,
            "order": null,
            "_view_module_version": "1.2.0",
            "grid_template_areas": null,
            "object_position": null,
            "object_fit": null,
            "grid_auto_columns": null,
            "margin": null,
            "display": null,
            "left": null
          }
        },
        "c8a14d2396e2474cafc2936b7823950c": {
          "model_module": "@jupyter-widgets/controls",
          "model_name": "HBoxModel",
          "state": {
            "_view_name": "HBoxView",
            "_dom_classes": [],
            "_model_name": "HBoxModel",
            "_view_module": "@jupyter-widgets/controls",
            "_model_module_version": "1.5.0",
            "_view_count": null,
            "_view_module_version": "1.5.0",
            "box_style": "",
            "layout": "IPY_MODEL_af4f7068e2d14750b24a8e69d99fc6b0",
            "_model_module": "@jupyter-widgets/controls",
            "children": [
              "IPY_MODEL_136e5b7ce90e431fb2d217120301a873",
              "IPY_MODEL_1435868d96234d288d236fd2619ede85"
            ]
          }
        },
        "af4f7068e2d14750b24a8e69d99fc6b0": {
          "model_module": "@jupyter-widgets/base",
          "model_name": "LayoutModel",
          "state": {
            "_view_name": "LayoutView",
            "grid_template_rows": null,
            "right": null,
            "justify_content": null,
            "_view_module": "@jupyter-widgets/base",
            "overflow": null,
            "_model_module_version": "1.2.0",
            "_view_count": null,
            "flex_flow": null,
            "width": null,
            "min_width": null,
            "border": null,
            "align_items": null,
            "bottom": null,
            "_model_module": "@jupyter-widgets/base",
            "top": null,
            "grid_column": null,
            "overflow_y": null,
            "overflow_x": null,
            "grid_auto_flow": null,
            "grid_area": null,
            "grid_template_columns": null,
            "flex": null,
            "_model_name": "LayoutModel",
            "justify_items": null,
            "grid_row": null,
            "max_height": null,
            "align_content": null,
            "visibility": null,
            "align_self": null,
            "height": null,
            "min_height": null,
            "padding": null,
            "grid_auto_rows": null,
            "grid_gap": null,
            "max_width": null,
            "order": null,
            "_view_module_version": "1.2.0",
            "grid_template_areas": null,
            "object_position": null,
            "object_fit": null,
            "grid_auto_columns": null,
            "margin": null,
            "display": null,
            "left": null
          }
        },
        "136e5b7ce90e431fb2d217120301a873": {
          "model_module": "@jupyter-widgets/controls",
          "model_name": "FloatProgressModel",
          "state": {
            "_view_name": "ProgressView",
            "style": "IPY_MODEL_9103a7414f744be4a778a00a08b7e89a",
            "_dom_classes": [],
            "description": "",
            "_model_name": "FloatProgressModel",
            "bar_style": "info",
            "max": 1,
            "_view_module": "@jupyter-widgets/controls",
            "_model_module_version": "1.5.0",
            "value": 1,
            "_view_count": null,
            "_view_module_version": "1.5.0",
            "orientation": "horizontal",
            "min": 0,
            "description_tooltip": null,
            "_model_module": "@jupyter-widgets/controls",
            "layout": "IPY_MODEL_86ef0415bd8f4eebbe2b055049e5f19a"
          }
        },
        "1435868d96234d288d236fd2619ede85": {
          "model_module": "@jupyter-widgets/controls",
          "model_name": "HTMLModel",
          "state": {
            "_view_name": "HTMLView",
            "style": "IPY_MODEL_e435c7962ec34b7395baa9d7596cbe58",
            "_dom_classes": [],
            "description": "",
            "_model_name": "HTMLModel",
            "placeholder": "​",
            "_view_module": "@jupyter-widgets/controls",
            "_model_module_version": "1.5.0",
            "value": " 130319/0 [00:07&lt;00:00, 16196.58 examples/s]",
            "_view_count": null,
            "_view_module_version": "1.5.0",
            "description_tooltip": null,
            "_model_module": "@jupyter-widgets/controls",
            "layout": "IPY_MODEL_7dfd2dc7393b4279b615f66544711152"
          }
        },
        "9103a7414f744be4a778a00a08b7e89a": {
          "model_module": "@jupyter-widgets/controls",
          "model_name": "ProgressStyleModel",
          "state": {
            "_view_name": "StyleView",
            "_model_name": "ProgressStyleModel",
            "description_width": "initial",
            "_view_module": "@jupyter-widgets/base",
            "_model_module_version": "1.5.0",
            "_view_count": null,
            "_view_module_version": "1.2.0",
            "bar_color": null,
            "_model_module": "@jupyter-widgets/controls"
          }
        },
        "86ef0415bd8f4eebbe2b055049e5f19a": {
          "model_module": "@jupyter-widgets/base",
          "model_name": "LayoutModel",
          "state": {
            "_view_name": "LayoutView",
            "grid_template_rows": null,
            "right": null,
            "justify_content": null,
            "_view_module": "@jupyter-widgets/base",
            "overflow": null,
            "_model_module_version": "1.2.0",
            "_view_count": null,
            "flex_flow": null,
            "width": null,
            "min_width": null,
            "border": null,
            "align_items": null,
            "bottom": null,
            "_model_module": "@jupyter-widgets/base",
            "top": null,
            "grid_column": null,
            "overflow_y": null,
            "overflow_x": null,
            "grid_auto_flow": null,
            "grid_area": null,
            "grid_template_columns": null,
            "flex": null,
            "_model_name": "LayoutModel",
            "justify_items": null,
            "grid_row": null,
            "max_height": null,
            "align_content": null,
            "visibility": null,
            "align_self": null,
            "height": null,
            "min_height": null,
            "padding": null,
            "grid_auto_rows": null,
            "grid_gap": null,
            "max_width": null,
            "order": null,
            "_view_module_version": "1.2.0",
            "grid_template_areas": null,
            "object_position": null,
            "object_fit": null,
            "grid_auto_columns": null,
            "margin": null,
            "display": null,
            "left": null
          }
        },
        "e435c7962ec34b7395baa9d7596cbe58": {
          "model_module": "@jupyter-widgets/controls",
          "model_name": "DescriptionStyleModel",
          "state": {
            "_view_name": "StyleView",
            "_model_name": "DescriptionStyleModel",
            "description_width": "",
            "_view_module": "@jupyter-widgets/base",
            "_model_module_version": "1.5.0",
            "_view_count": null,
            "_view_module_version": "1.2.0",
            "_model_module": "@jupyter-widgets/controls"
          }
        },
        "7dfd2dc7393b4279b615f66544711152": {
          "model_module": "@jupyter-widgets/base",
          "model_name": "LayoutModel",
          "state": {
            "_view_name": "LayoutView",
            "grid_template_rows": null,
            "right": null,
            "justify_content": null,
            "_view_module": "@jupyter-widgets/base",
            "overflow": null,
            "_model_module_version": "1.2.0",
            "_view_count": null,
            "flex_flow": null,
            "width": null,
            "min_width": null,
            "border": null,
            "align_items": null,
            "bottom": null,
            "_model_module": "@jupyter-widgets/base",
            "top": null,
            "grid_column": null,
            "overflow_y": null,
            "overflow_x": null,
            "grid_auto_flow": null,
            "grid_area": null,
            "grid_template_columns": null,
            "flex": null,
            "_model_name": "LayoutModel",
            "justify_items": null,
            "grid_row": null,
            "max_height": null,
            "align_content": null,
            "visibility": null,
            "align_self": null,
            "height": null,
            "min_height": null,
            "padding": null,
            "grid_auto_rows": null,
            "grid_gap": null,
            "max_width": null,
            "order": null,
            "_view_module_version": "1.2.0",
            "grid_template_areas": null,
            "object_position": null,
            "object_fit": null,
            "grid_auto_columns": null,
            "margin": null,
            "display": null,
            "left": null
          }
        },
        "388b1ea0d9d940f9b02ccecf69eed001": {
          "model_module": "@jupyter-widgets/controls",
          "model_name": "HBoxModel",
          "state": {
            "_view_name": "HBoxView",
            "_dom_classes": [],
            "_model_name": "HBoxModel",
            "_view_module": "@jupyter-widgets/controls",
            "_model_module_version": "1.5.0",
            "_view_count": null,
            "_view_module_version": "1.5.0",
            "box_style": "",
            "layout": "IPY_MODEL_4846ac5673f64bfdbaa831a7153b1c3b",
            "_model_module": "@jupyter-widgets/controls",
            "children": [
              "IPY_MODEL_2594af87c0514c92a87235ab6f135bf0",
              "IPY_MODEL_b1aa6207e0b8488792fed776da9dbdbf"
            ]
          }
        },
        "4846ac5673f64bfdbaa831a7153b1c3b": {
          "model_module": "@jupyter-widgets/base",
          "model_name": "LayoutModel",
          "state": {
            "_view_name": "LayoutView",
            "grid_template_rows": null,
            "right": null,
            "justify_content": null,
            "_view_module": "@jupyter-widgets/base",
            "overflow": null,
            "_model_module_version": "1.2.0",
            "_view_count": null,
            "flex_flow": null,
            "width": null,
            "min_width": null,
            "border": null,
            "align_items": null,
            "bottom": null,
            "_model_module": "@jupyter-widgets/base",
            "top": null,
            "grid_column": null,
            "overflow_y": null,
            "overflow_x": null,
            "grid_auto_flow": null,
            "grid_area": null,
            "grid_template_columns": null,
            "flex": null,
            "_model_name": "LayoutModel",
            "justify_items": null,
            "grid_row": null,
            "max_height": null,
            "align_content": null,
            "visibility": null,
            "align_self": null,
            "height": null,
            "min_height": null,
            "padding": null,
            "grid_auto_rows": null,
            "grid_gap": null,
            "max_width": null,
            "order": null,
            "_view_module_version": "1.2.0",
            "grid_template_areas": null,
            "object_position": null,
            "object_fit": null,
            "grid_auto_columns": null,
            "margin": null,
            "display": null,
            "left": null
          }
        },
        "2594af87c0514c92a87235ab6f135bf0": {
          "model_module": "@jupyter-widgets/controls",
          "model_name": "FloatProgressModel",
          "state": {
            "_view_name": "ProgressView",
            "style": "IPY_MODEL_46809ef648224749b868013d2a08c2c0",
            "_dom_classes": [],
            "description": "",
            "_model_name": "FloatProgressModel",
            "bar_style": "info",
            "max": 1,
            "_view_module": "@jupyter-widgets/controls",
            "_model_module_version": "1.5.0",
            "value": 1,
            "_view_count": null,
            "_view_module_version": "1.5.0",
            "orientation": "horizontal",
            "min": 0,
            "description_tooltip": null,
            "_model_module": "@jupyter-widgets/controls",
            "layout": "IPY_MODEL_193adf08d9084f21a108e1e4106e89e9"
          }
        },
        "b1aa6207e0b8488792fed776da9dbdbf": {
          "model_module": "@jupyter-widgets/controls",
          "model_name": "HTMLModel",
          "state": {
            "_view_name": "HTMLView",
            "style": "IPY_MODEL_435eb6a5a1524d60ab8881de28476082",
            "_dom_classes": [],
            "description": "",
            "_model_name": "HTMLModel",
            "placeholder": "​",
            "_view_module": "@jupyter-widgets/controls",
            "_model_module_version": "1.5.0",
            "value": " 11873/0 [00:00&lt;00:00, 8539.28 examples/s]",
            "_view_count": null,
            "_view_module_version": "1.5.0",
            "description_tooltip": null,
            "_model_module": "@jupyter-widgets/controls",
            "layout": "IPY_MODEL_c2462baab76141eebcbda66a5859b2ff"
          }
        },
        "46809ef648224749b868013d2a08c2c0": {
          "model_module": "@jupyter-widgets/controls",
          "model_name": "ProgressStyleModel",
          "state": {
            "_view_name": "StyleView",
            "_model_name": "ProgressStyleModel",
            "description_width": "initial",
            "_view_module": "@jupyter-widgets/base",
            "_model_module_version": "1.5.0",
            "_view_count": null,
            "_view_module_version": "1.2.0",
            "bar_color": null,
            "_model_module": "@jupyter-widgets/controls"
          }
        },
        "193adf08d9084f21a108e1e4106e89e9": {
          "model_module": "@jupyter-widgets/base",
          "model_name": "LayoutModel",
          "state": {
            "_view_name": "LayoutView",
            "grid_template_rows": null,
            "right": null,
            "justify_content": null,
            "_view_module": "@jupyter-widgets/base",
            "overflow": null,
            "_model_module_version": "1.2.0",
            "_view_count": null,
            "flex_flow": null,
            "width": null,
            "min_width": null,
            "border": null,
            "align_items": null,
            "bottom": null,
            "_model_module": "@jupyter-widgets/base",
            "top": null,
            "grid_column": null,
            "overflow_y": null,
            "overflow_x": null,
            "grid_auto_flow": null,
            "grid_area": null,
            "grid_template_columns": null,
            "flex": null,
            "_model_name": "LayoutModel",
            "justify_items": null,
            "grid_row": null,
            "max_height": null,
            "align_content": null,
            "visibility": null,
            "align_self": null,
            "height": null,
            "min_height": null,
            "padding": null,
            "grid_auto_rows": null,
            "grid_gap": null,
            "max_width": null,
            "order": null,
            "_view_module_version": "1.2.0",
            "grid_template_areas": null,
            "object_position": null,
            "object_fit": null,
            "grid_auto_columns": null,
            "margin": null,
            "display": null,
            "left": null
          }
        },
        "435eb6a5a1524d60ab8881de28476082": {
          "model_module": "@jupyter-widgets/controls",
          "model_name": "DescriptionStyleModel",
          "state": {
            "_view_name": "StyleView",
            "_model_name": "DescriptionStyleModel",
            "description_width": "",
            "_view_module": "@jupyter-widgets/base",
            "_model_module_version": "1.5.0",
            "_view_count": null,
            "_view_module_version": "1.2.0",
            "_model_module": "@jupyter-widgets/controls"
          }
        },
        "c2462baab76141eebcbda66a5859b2ff": {
          "model_module": "@jupyter-widgets/base",
          "model_name": "LayoutModel",
          "state": {
            "_view_name": "LayoutView",
            "grid_template_rows": null,
            "right": null,
            "justify_content": null,
            "_view_module": "@jupyter-widgets/base",
            "overflow": null,
            "_model_module_version": "1.2.0",
            "_view_count": null,
            "flex_flow": null,
            "width": null,
            "min_width": null,
            "border": null,
            "align_items": null,
            "bottom": null,
            "_model_module": "@jupyter-widgets/base",
            "top": null,
            "grid_column": null,
            "overflow_y": null,
            "overflow_x": null,
            "grid_auto_flow": null,
            "grid_area": null,
            "grid_template_columns": null,
            "flex": null,
            "_model_name": "LayoutModel",
            "justify_items": null,
            "grid_row": null,
            "max_height": null,
            "align_content": null,
            "visibility": null,
            "align_self": null,
            "height": null,
            "min_height": null,
            "padding": null,
            "grid_auto_rows": null,
            "grid_gap": null,
            "max_width": null,
            "order": null,
            "_view_module_version": "1.2.0",
            "grid_template_areas": null,
            "object_position": null,
            "object_fit": null,
            "grid_auto_columns": null,
            "margin": null,
            "display": null,
            "left": null
          }
        },
        "e037e4c63c5643d5b1768078ac3d9cd6": {
          "model_module": "@jupyter-widgets/controls",
          "model_name": "HBoxModel",
          "state": {
            "_view_name": "HBoxView",
            "_dom_classes": [],
            "_model_name": "HBoxModel",
            "_view_module": "@jupyter-widgets/controls",
            "_model_module_version": "1.5.0",
            "_view_count": null,
            "_view_module_version": "1.5.0",
            "box_style": "",
            "layout": "IPY_MODEL_87accae36b2245bd93380be5670d6179",
            "_model_module": "@jupyter-widgets/controls",
            "children": [
              "IPY_MODEL_ab43550e93304f9fa077611508ca5b88",
              "IPY_MODEL_e3d854e10ef34e50b63f5654ed0ddf51"
            ]
          }
        },
        "87accae36b2245bd93380be5670d6179": {
          "model_module": "@jupyter-widgets/base",
          "model_name": "LayoutModel",
          "state": {
            "_view_name": "LayoutView",
            "grid_template_rows": null,
            "right": null,
            "justify_content": null,
            "_view_module": "@jupyter-widgets/base",
            "overflow": null,
            "_model_module_version": "1.2.0",
            "_view_count": null,
            "flex_flow": null,
            "width": null,
            "min_width": null,
            "border": null,
            "align_items": null,
            "bottom": null,
            "_model_module": "@jupyter-widgets/base",
            "top": null,
            "grid_column": null,
            "overflow_y": null,
            "overflow_x": null,
            "grid_auto_flow": null,
            "grid_area": null,
            "grid_template_columns": null,
            "flex": null,
            "_model_name": "LayoutModel",
            "justify_items": null,
            "grid_row": null,
            "max_height": null,
            "align_content": null,
            "visibility": null,
            "align_self": null,
            "height": null,
            "min_height": null,
            "padding": null,
            "grid_auto_rows": null,
            "grid_gap": null,
            "max_width": null,
            "order": null,
            "_view_module_version": "1.2.0",
            "grid_template_areas": null,
            "object_position": null,
            "object_fit": null,
            "grid_auto_columns": null,
            "margin": null,
            "display": null,
            "left": null
          }
        },
        "ab43550e93304f9fa077611508ca5b88": {
          "model_module": "@jupyter-widgets/controls",
          "model_name": "FloatProgressModel",
          "state": {
            "_view_name": "ProgressView",
            "style": "IPY_MODEL_651740bffc8a48afb863d47b26845303",
            "_dom_classes": [],
            "description": "100%",
            "_model_name": "FloatProgressModel",
            "bar_style": "success",
            "max": 131,
            "_view_module": "@jupyter-widgets/controls",
            "_model_module_version": "1.5.0",
            "value": 131,
            "_view_count": null,
            "_view_module_version": "1.5.0",
            "orientation": "horizontal",
            "min": 0,
            "description_tooltip": null,
            "_model_module": "@jupyter-widgets/controls",
            "layout": "IPY_MODEL_c219153d7a9f4bd5b71e31736dfcc6a8"
          }
        },
        "e3d854e10ef34e50b63f5654ed0ddf51": {
          "model_module": "@jupyter-widgets/controls",
          "model_name": "HTMLModel",
          "state": {
            "_view_name": "HTMLView",
            "style": "IPY_MODEL_20a62811cec348eaaa70af2ab3ebd5f4",
            "_dom_classes": [],
            "description": "",
            "_model_name": "HTMLModel",
            "placeholder": "​",
            "_view_module": "@jupyter-widgets/controls",
            "_model_module_version": "1.5.0",
            "value": " 131/131 [01:25&lt;00:00,  1.54ba/s]",
            "_view_count": null,
            "_view_module_version": "1.5.0",
            "description_tooltip": null,
            "_model_module": "@jupyter-widgets/controls",
            "layout": "IPY_MODEL_4f262126a5134fbbacd1882a9eef4741"
          }
        },
        "651740bffc8a48afb863d47b26845303": {
          "model_module": "@jupyter-widgets/controls",
          "model_name": "ProgressStyleModel",
          "state": {
            "_view_name": "StyleView",
            "_model_name": "ProgressStyleModel",
            "description_width": "initial",
            "_view_module": "@jupyter-widgets/base",
            "_model_module_version": "1.5.0",
            "_view_count": null,
            "_view_module_version": "1.2.0",
            "bar_color": null,
            "_model_module": "@jupyter-widgets/controls"
          }
        },
        "c219153d7a9f4bd5b71e31736dfcc6a8": {
          "model_module": "@jupyter-widgets/base",
          "model_name": "LayoutModel",
          "state": {
            "_view_name": "LayoutView",
            "grid_template_rows": null,
            "right": null,
            "justify_content": null,
            "_view_module": "@jupyter-widgets/base",
            "overflow": null,
            "_model_module_version": "1.2.0",
            "_view_count": null,
            "flex_flow": null,
            "width": null,
            "min_width": null,
            "border": null,
            "align_items": null,
            "bottom": null,
            "_model_module": "@jupyter-widgets/base",
            "top": null,
            "grid_column": null,
            "overflow_y": null,
            "overflow_x": null,
            "grid_auto_flow": null,
            "grid_area": null,
            "grid_template_columns": null,
            "flex": null,
            "_model_name": "LayoutModel",
            "justify_items": null,
            "grid_row": null,
            "max_height": null,
            "align_content": null,
            "visibility": null,
            "align_self": null,
            "height": null,
            "min_height": null,
            "padding": null,
            "grid_auto_rows": null,
            "grid_gap": null,
            "max_width": null,
            "order": null,
            "_view_module_version": "1.2.0",
            "grid_template_areas": null,
            "object_position": null,
            "object_fit": null,
            "grid_auto_columns": null,
            "margin": null,
            "display": null,
            "left": null
          }
        },
        "20a62811cec348eaaa70af2ab3ebd5f4": {
          "model_module": "@jupyter-widgets/controls",
          "model_name": "DescriptionStyleModel",
          "state": {
            "_view_name": "StyleView",
            "_model_name": "DescriptionStyleModel",
            "description_width": "",
            "_view_module": "@jupyter-widgets/base",
            "_model_module_version": "1.5.0",
            "_view_count": null,
            "_view_module_version": "1.2.0",
            "_model_module": "@jupyter-widgets/controls"
          }
        },
        "4f262126a5134fbbacd1882a9eef4741": {
          "model_module": "@jupyter-widgets/base",
          "model_name": "LayoutModel",
          "state": {
            "_view_name": "LayoutView",
            "grid_template_rows": null,
            "right": null,
            "justify_content": null,
            "_view_module": "@jupyter-widgets/base",
            "overflow": null,
            "_model_module_version": "1.2.0",
            "_view_count": null,
            "flex_flow": null,
            "width": null,
            "min_width": null,
            "border": null,
            "align_items": null,
            "bottom": null,
            "_model_module": "@jupyter-widgets/base",
            "top": null,
            "grid_column": null,
            "overflow_y": null,
            "overflow_x": null,
            "grid_auto_flow": null,
            "grid_area": null,
            "grid_template_columns": null,
            "flex": null,
            "_model_name": "LayoutModel",
            "justify_items": null,
            "grid_row": null,
            "max_height": null,
            "align_content": null,
            "visibility": null,
            "align_self": null,
            "height": null,
            "min_height": null,
            "padding": null,
            "grid_auto_rows": null,
            "grid_gap": null,
            "max_width": null,
            "order": null,
            "_view_module_version": "1.2.0",
            "grid_template_areas": null,
            "object_position": null,
            "object_fit": null,
            "grid_auto_columns": null,
            "margin": null,
            "display": null,
            "left": null
          }
        },
        "398cf7c5114e41c1927a50cd5de7a91b": {
          "model_module": "@jupyter-widgets/controls",
          "model_name": "HBoxModel",
          "state": {
            "_view_name": "HBoxView",
            "_dom_classes": [],
            "_model_name": "HBoxModel",
            "_view_module": "@jupyter-widgets/controls",
            "_model_module_version": "1.5.0",
            "_view_count": null,
            "_view_module_version": "1.5.0",
            "box_style": "",
            "layout": "IPY_MODEL_2ac2877c265e41ecb56eecd36b2ca147",
            "_model_module": "@jupyter-widgets/controls",
            "children": [
              "IPY_MODEL_39c7e3d76bf7489580f49341f666751d",
              "IPY_MODEL_e6e8a6d1fad74b6a8f4350e464a46d12"
            ]
          }
        },
        "2ac2877c265e41ecb56eecd36b2ca147": {
          "model_module": "@jupyter-widgets/base",
          "model_name": "LayoutModel",
          "state": {
            "_view_name": "LayoutView",
            "grid_template_rows": null,
            "right": null,
            "justify_content": null,
            "_view_module": "@jupyter-widgets/base",
            "overflow": null,
            "_model_module_version": "1.2.0",
            "_view_count": null,
            "flex_flow": null,
            "width": null,
            "min_width": null,
            "border": null,
            "align_items": null,
            "bottom": null,
            "_model_module": "@jupyter-widgets/base",
            "top": null,
            "grid_column": null,
            "overflow_y": null,
            "overflow_x": null,
            "grid_auto_flow": null,
            "grid_area": null,
            "grid_template_columns": null,
            "flex": null,
            "_model_name": "LayoutModel",
            "justify_items": null,
            "grid_row": null,
            "max_height": null,
            "align_content": null,
            "visibility": null,
            "align_self": null,
            "height": null,
            "min_height": null,
            "padding": null,
            "grid_auto_rows": null,
            "grid_gap": null,
            "max_width": null,
            "order": null,
            "_view_module_version": "1.2.0",
            "grid_template_areas": null,
            "object_position": null,
            "object_fit": null,
            "grid_auto_columns": null,
            "margin": null,
            "display": null,
            "left": null
          }
        },
        "39c7e3d76bf7489580f49341f666751d": {
          "model_module": "@jupyter-widgets/controls",
          "model_name": "FloatProgressModel",
          "state": {
            "_view_name": "ProgressView",
            "style": "IPY_MODEL_8d5586078ef1483582c15e4c7d6ec736",
            "_dom_classes": [],
            "description": "100%",
            "_model_name": "FloatProgressModel",
            "bar_style": "success",
            "max": 12,
            "_view_module": "@jupyter-widgets/controls",
            "_model_module_version": "1.5.0",
            "value": 12,
            "_view_count": null,
            "_view_module_version": "1.5.0",
            "orientation": "horizontal",
            "min": 0,
            "description_tooltip": null,
            "_model_module": "@jupyter-widgets/controls",
            "layout": "IPY_MODEL_92b60edb3d894393b06056e9785f0230"
          }
        },
        "e6e8a6d1fad74b6a8f4350e464a46d12": {
          "model_module": "@jupyter-widgets/controls",
          "model_name": "HTMLModel",
          "state": {
            "_view_name": "HTMLView",
            "style": "IPY_MODEL_fd78bb9b983d4151a1b99c47c4f4e3d3",
            "_dom_classes": [],
            "description": "",
            "_model_name": "HTMLModel",
            "placeholder": "​",
            "_view_module": "@jupyter-widgets/controls",
            "_model_module_version": "1.5.0",
            "value": " 12/12 [00:27&lt;00:00,  2.29s/ba]",
            "_view_count": null,
            "_view_module_version": "1.5.0",
            "description_tooltip": null,
            "_model_module": "@jupyter-widgets/controls",
            "layout": "IPY_MODEL_bf1a2a08958d4f468e17423b9bbb225c"
          }
        },
        "8d5586078ef1483582c15e4c7d6ec736": {
          "model_module": "@jupyter-widgets/controls",
          "model_name": "ProgressStyleModel",
          "state": {
            "_view_name": "StyleView",
            "_model_name": "ProgressStyleModel",
            "description_width": "initial",
            "_view_module": "@jupyter-widgets/base",
            "_model_module_version": "1.5.0",
            "_view_count": null,
            "_view_module_version": "1.2.0",
            "bar_color": null,
            "_model_module": "@jupyter-widgets/controls"
          }
        },
        "92b60edb3d894393b06056e9785f0230": {
          "model_module": "@jupyter-widgets/base",
          "model_name": "LayoutModel",
          "state": {
            "_view_name": "LayoutView",
            "grid_template_rows": null,
            "right": null,
            "justify_content": null,
            "_view_module": "@jupyter-widgets/base",
            "overflow": null,
            "_model_module_version": "1.2.0",
            "_view_count": null,
            "flex_flow": null,
            "width": null,
            "min_width": null,
            "border": null,
            "align_items": null,
            "bottom": null,
            "_model_module": "@jupyter-widgets/base",
            "top": null,
            "grid_column": null,
            "overflow_y": null,
            "overflow_x": null,
            "grid_auto_flow": null,
            "grid_area": null,
            "grid_template_columns": null,
            "flex": null,
            "_model_name": "LayoutModel",
            "justify_items": null,
            "grid_row": null,
            "max_height": null,
            "align_content": null,
            "visibility": null,
            "align_self": null,
            "height": null,
            "min_height": null,
            "padding": null,
            "grid_auto_rows": null,
            "grid_gap": null,
            "max_width": null,
            "order": null,
            "_view_module_version": "1.2.0",
            "grid_template_areas": null,
            "object_position": null,
            "object_fit": null,
            "grid_auto_columns": null,
            "margin": null,
            "display": null,
            "left": null
          }
        },
        "fd78bb9b983d4151a1b99c47c4f4e3d3": {
          "model_module": "@jupyter-widgets/controls",
          "model_name": "DescriptionStyleModel",
          "state": {
            "_view_name": "StyleView",
            "_model_name": "DescriptionStyleModel",
            "description_width": "",
            "_view_module": "@jupyter-widgets/base",
            "_model_module_version": "1.5.0",
            "_view_count": null,
            "_view_module_version": "1.2.0",
            "_model_module": "@jupyter-widgets/controls"
          }
        },
        "bf1a2a08958d4f468e17423b9bbb225c": {
          "model_module": "@jupyter-widgets/base",
          "model_name": "LayoutModel",
          "state": {
            "_view_name": "LayoutView",
            "grid_template_rows": null,
            "right": null,
            "justify_content": null,
            "_view_module": "@jupyter-widgets/base",
            "overflow": null,
            "_model_module_version": "1.2.0",
            "_view_count": null,
            "flex_flow": null,
            "width": null,
            "min_width": null,
            "border": null,
            "align_items": null,
            "bottom": null,
            "_model_module": "@jupyter-widgets/base",
            "top": null,
            "grid_column": null,
            "overflow_y": null,
            "overflow_x": null,
            "grid_auto_flow": null,
            "grid_area": null,
            "grid_template_columns": null,
            "flex": null,
            "_model_name": "LayoutModel",
            "justify_items": null,
            "grid_row": null,
            "max_height": null,
            "align_content": null,
            "visibility": null,
            "align_self": null,
            "height": null,
            "min_height": null,
            "padding": null,
            "grid_auto_rows": null,
            "grid_gap": null,
            "max_width": null,
            "order": null,
            "_view_module_version": "1.2.0",
            "grid_template_areas": null,
            "object_position": null,
            "object_fit": null,
            "grid_auto_columns": null,
            "margin": null,
            "display": null,
            "left": null
          }
        },
        "7d32293ffdba40d8956fa871d73ed287": {
          "model_module": "@jupyter-widgets/controls",
          "model_name": "HBoxModel",
          "state": {
            "_view_name": "HBoxView",
            "_dom_classes": [],
            "_model_name": "HBoxModel",
            "_view_module": "@jupyter-widgets/controls",
            "_model_module_version": "1.5.0",
            "_view_count": null,
            "_view_module_version": "1.5.0",
            "box_style": "",
            "layout": "IPY_MODEL_90763a6b922540f098e640e6f11bd5f2",
            "_model_module": "@jupyter-widgets/controls",
            "children": [
              "IPY_MODEL_19c4ce107ebd42e0958611e85eee158f",
              "IPY_MODEL_a7e7f757c3e34248b5005aaf0e9c0185"
            ]
          }
        },
        "90763a6b922540f098e640e6f11bd5f2": {
          "model_module": "@jupyter-widgets/base",
          "model_name": "LayoutModel",
          "state": {
            "_view_name": "LayoutView",
            "grid_template_rows": null,
            "right": null,
            "justify_content": null,
            "_view_module": "@jupyter-widgets/base",
            "overflow": null,
            "_model_module_version": "1.2.0",
            "_view_count": null,
            "flex_flow": null,
            "width": null,
            "min_width": null,
            "border": null,
            "align_items": null,
            "bottom": null,
            "_model_module": "@jupyter-widgets/base",
            "top": null,
            "grid_column": null,
            "overflow_y": null,
            "overflow_x": null,
            "grid_auto_flow": null,
            "grid_area": null,
            "grid_template_columns": null,
            "flex": null,
            "_model_name": "LayoutModel",
            "justify_items": null,
            "grid_row": null,
            "max_height": null,
            "align_content": null,
            "visibility": null,
            "align_self": null,
            "height": null,
            "min_height": null,
            "padding": null,
            "grid_auto_rows": null,
            "grid_gap": null,
            "max_width": null,
            "order": null,
            "_view_module_version": "1.2.0",
            "grid_template_areas": null,
            "object_position": null,
            "object_fit": null,
            "grid_auto_columns": null,
            "margin": null,
            "display": null,
            "left": null
          }
        },
        "19c4ce107ebd42e0958611e85eee158f": {
          "model_module": "@jupyter-widgets/controls",
          "model_name": "FloatProgressModel",
          "state": {
            "_view_name": "ProgressView",
            "style": "IPY_MODEL_4a554dde21cd4c3ca8974f1113fae8fc",
            "_dom_classes": [],
            "description": "100%",
            "_model_name": "FloatProgressModel",
            "bar_style": "success",
            "max": 12,
            "_view_module": "@jupyter-widgets/controls",
            "_model_module_version": "1.5.0",
            "value": 12,
            "_view_count": null,
            "_view_module_version": "1.5.0",
            "orientation": "horizontal",
            "min": 0,
            "description_tooltip": null,
            "_model_module": "@jupyter-widgets/controls",
            "layout": "IPY_MODEL_72ea1fc1647f45c185517ce96263b45c"
          }
        },
        "a7e7f757c3e34248b5005aaf0e9c0185": {
          "model_module": "@jupyter-widgets/controls",
          "model_name": "HTMLModel",
          "state": {
            "_view_name": "HTMLView",
            "style": "IPY_MODEL_93805d0c98014c789bfab535e9474782",
            "_dom_classes": [],
            "description": "",
            "_model_name": "HTMLModel",
            "placeholder": "​",
            "_view_module": "@jupyter-widgets/controls",
            "_model_module_version": "1.5.0",
            "value": " 12/12 [08:54&lt;00:00, 44.52s/ba]",
            "_view_count": null,
            "_view_module_version": "1.5.0",
            "description_tooltip": null,
            "_model_module": "@jupyter-widgets/controls",
            "layout": "IPY_MODEL_86c705ed59504c39a137e32d165a34cb"
          }
        },
        "4a554dde21cd4c3ca8974f1113fae8fc": {
          "model_module": "@jupyter-widgets/controls",
          "model_name": "ProgressStyleModel",
          "state": {
            "_view_name": "StyleView",
            "_model_name": "ProgressStyleModel",
            "description_width": "initial",
            "_view_module": "@jupyter-widgets/base",
            "_model_module_version": "1.5.0",
            "_view_count": null,
            "_view_module_version": "1.2.0",
            "bar_color": null,
            "_model_module": "@jupyter-widgets/controls"
          }
        },
        "72ea1fc1647f45c185517ce96263b45c": {
          "model_module": "@jupyter-widgets/base",
          "model_name": "LayoutModel",
          "state": {
            "_view_name": "LayoutView",
            "grid_template_rows": null,
            "right": null,
            "justify_content": null,
            "_view_module": "@jupyter-widgets/base",
            "overflow": null,
            "_model_module_version": "1.2.0",
            "_view_count": null,
            "flex_flow": null,
            "width": null,
            "min_width": null,
            "border": null,
            "align_items": null,
            "bottom": null,
            "_model_module": "@jupyter-widgets/base",
            "top": null,
            "grid_column": null,
            "overflow_y": null,
            "overflow_x": null,
            "grid_auto_flow": null,
            "grid_area": null,
            "grid_template_columns": null,
            "flex": null,
            "_model_name": "LayoutModel",
            "justify_items": null,
            "grid_row": null,
            "max_height": null,
            "align_content": null,
            "visibility": null,
            "align_self": null,
            "height": null,
            "min_height": null,
            "padding": null,
            "grid_auto_rows": null,
            "grid_gap": null,
            "max_width": null,
            "order": null,
            "_view_module_version": "1.2.0",
            "grid_template_areas": null,
            "object_position": null,
            "object_fit": null,
            "grid_auto_columns": null,
            "margin": null,
            "display": null,
            "left": null
          }
        },
        "93805d0c98014c789bfab535e9474782": {
          "model_module": "@jupyter-widgets/controls",
          "model_name": "DescriptionStyleModel",
          "state": {
            "_view_name": "StyleView",
            "_model_name": "DescriptionStyleModel",
            "description_width": "",
            "_view_module": "@jupyter-widgets/base",
            "_model_module_version": "1.5.0",
            "_view_count": null,
            "_view_module_version": "1.2.0",
            "_model_module": "@jupyter-widgets/controls"
          }
        },
        "86c705ed59504c39a137e32d165a34cb": {
          "model_module": "@jupyter-widgets/base",
          "model_name": "LayoutModel",
          "state": {
            "_view_name": "LayoutView",
            "grid_template_rows": null,
            "right": null,
            "justify_content": null,
            "_view_module": "@jupyter-widgets/base",
            "overflow": null,
            "_model_module_version": "1.2.0",
            "_view_count": null,
            "flex_flow": null,
            "width": null,
            "min_width": null,
            "border": null,
            "align_items": null,
            "bottom": null,
            "_model_module": "@jupyter-widgets/base",
            "top": null,
            "grid_column": null,
            "overflow_y": null,
            "overflow_x": null,
            "grid_auto_flow": null,
            "grid_area": null,
            "grid_template_columns": null,
            "flex": null,
            "_model_name": "LayoutModel",
            "justify_items": null,
            "grid_row": null,
            "max_height": null,
            "align_content": null,
            "visibility": null,
            "align_self": null,
            "height": null,
            "min_height": null,
            "padding": null,
            "grid_auto_rows": null,
            "grid_gap": null,
            "max_width": null,
            "order": null,
            "_view_module_version": "1.2.0",
            "grid_template_areas": null,
            "object_position": null,
            "object_fit": null,
            "grid_auto_columns": null,
            "margin": null,
            "display": null,
            "left": null
          }
        },
        "63496a94e522449daac33bd52f2abfa8": {
          "model_module": "@jupyter-widgets/controls",
          "model_name": "HBoxModel",
          "state": {
            "_view_name": "HBoxView",
            "_dom_classes": [],
            "_model_name": "HBoxModel",
            "_view_module": "@jupyter-widgets/controls",
            "_model_module_version": "1.5.0",
            "_view_count": null,
            "_view_module_version": "1.5.0",
            "box_style": "",
            "layout": "IPY_MODEL_589fa797cd934ea78e1a5ec412cc4844",
            "_model_module": "@jupyter-widgets/controls",
            "children": [
              "IPY_MODEL_c29a32f1b5534ff8a4884629dc971a69",
              "IPY_MODEL_955b8fde51e7425a8a720c4ee25151b0"
            ]
          }
        },
        "589fa797cd934ea78e1a5ec412cc4844": {
          "model_module": "@jupyter-widgets/base",
          "model_name": "LayoutModel",
          "state": {
            "_view_name": "LayoutView",
            "grid_template_rows": null,
            "right": null,
            "justify_content": null,
            "_view_module": "@jupyter-widgets/base",
            "overflow": null,
            "_model_module_version": "1.2.0",
            "_view_count": null,
            "flex_flow": null,
            "width": null,
            "min_width": null,
            "border": null,
            "align_items": null,
            "bottom": null,
            "_model_module": "@jupyter-widgets/base",
            "top": null,
            "grid_column": null,
            "overflow_y": null,
            "overflow_x": null,
            "grid_auto_flow": null,
            "grid_area": null,
            "grid_template_columns": null,
            "flex": null,
            "_model_name": "LayoutModel",
            "justify_items": null,
            "grid_row": null,
            "max_height": null,
            "align_content": null,
            "visibility": null,
            "align_self": null,
            "height": null,
            "min_height": null,
            "padding": null,
            "grid_auto_rows": null,
            "grid_gap": null,
            "max_width": null,
            "order": null,
            "_view_module_version": "1.2.0",
            "grid_template_areas": null,
            "object_position": null,
            "object_fit": null,
            "grid_auto_columns": null,
            "margin": null,
            "display": null,
            "left": null
          }
        },
        "c29a32f1b5534ff8a4884629dc971a69": {
          "model_module": "@jupyter-widgets/controls",
          "model_name": "FloatProgressModel",
          "state": {
            "_view_name": "ProgressView",
            "style": "IPY_MODEL_b9bea30ed8c54381b3d3059cb8aa47c7",
            "_dom_classes": [],
            "description": "100%",
            "_model_name": "FloatProgressModel",
            "bar_style": "success",
            "max": 11873,
            "_view_module": "@jupyter-widgets/controls",
            "_model_module_version": "1.5.0",
            "value": 11873,
            "_view_count": null,
            "_view_module_version": "1.5.0",
            "orientation": "horizontal",
            "min": 0,
            "description_tooltip": null,
            "_model_module": "@jupyter-widgets/controls",
            "layout": "IPY_MODEL_5646eba8b94a44a3b465524a89fd8afc"
          }
        },
        "955b8fde51e7425a8a720c4ee25151b0": {
          "model_module": "@jupyter-widgets/controls",
          "model_name": "HTMLModel",
          "state": {
            "_view_name": "HTMLView",
            "style": "IPY_MODEL_baf459bcf0c842279af456dde4b0c668",
            "_dom_classes": [],
            "description": "",
            "_model_name": "HTMLModel",
            "placeholder": "​",
            "_view_module": "@jupyter-widgets/controls",
            "_model_module_version": "1.5.0",
            "value": " 11873/11873 [00:25&lt;00:00, 461.16it/s]",
            "_view_count": null,
            "_view_module_version": "1.5.0",
            "description_tooltip": null,
            "_model_module": "@jupyter-widgets/controls",
            "layout": "IPY_MODEL_ff3524fce9684f4e86898e7caa8a45f1"
          }
        },
        "b9bea30ed8c54381b3d3059cb8aa47c7": {
          "model_module": "@jupyter-widgets/controls",
          "model_name": "ProgressStyleModel",
          "state": {
            "_view_name": "StyleView",
            "_model_name": "ProgressStyleModel",
            "description_width": "initial",
            "_view_module": "@jupyter-widgets/base",
            "_model_module_version": "1.5.0",
            "_view_count": null,
            "_view_module_version": "1.2.0",
            "bar_color": null,
            "_model_module": "@jupyter-widgets/controls"
          }
        },
        "5646eba8b94a44a3b465524a89fd8afc": {
          "model_module": "@jupyter-widgets/base",
          "model_name": "LayoutModel",
          "state": {
            "_view_name": "LayoutView",
            "grid_template_rows": null,
            "right": null,
            "justify_content": null,
            "_view_module": "@jupyter-widgets/base",
            "overflow": null,
            "_model_module_version": "1.2.0",
            "_view_count": null,
            "flex_flow": null,
            "width": null,
            "min_width": null,
            "border": null,
            "align_items": null,
            "bottom": null,
            "_model_module": "@jupyter-widgets/base",
            "top": null,
            "grid_column": null,
            "overflow_y": null,
            "overflow_x": null,
            "grid_auto_flow": null,
            "grid_area": null,
            "grid_template_columns": null,
            "flex": null,
            "_model_name": "LayoutModel",
            "justify_items": null,
            "grid_row": null,
            "max_height": null,
            "align_content": null,
            "visibility": null,
            "align_self": null,
            "height": null,
            "min_height": null,
            "padding": null,
            "grid_auto_rows": null,
            "grid_gap": null,
            "max_width": null,
            "order": null,
            "_view_module_version": "1.2.0",
            "grid_template_areas": null,
            "object_position": null,
            "object_fit": null,
            "grid_auto_columns": null,
            "margin": null,
            "display": null,
            "left": null
          }
        },
        "baf459bcf0c842279af456dde4b0c668": {
          "model_module": "@jupyter-widgets/controls",
          "model_name": "DescriptionStyleModel",
          "state": {
            "_view_name": "StyleView",
            "_model_name": "DescriptionStyleModel",
            "description_width": "",
            "_view_module": "@jupyter-widgets/base",
            "_model_module_version": "1.5.0",
            "_view_count": null,
            "_view_module_version": "1.2.0",
            "_model_module": "@jupyter-widgets/controls"
          }
        },
        "ff3524fce9684f4e86898e7caa8a45f1": {
          "model_module": "@jupyter-widgets/base",
          "model_name": "LayoutModel",
          "state": {
            "_view_name": "LayoutView",
            "grid_template_rows": null,
            "right": null,
            "justify_content": null,
            "_view_module": "@jupyter-widgets/base",
            "overflow": null,
            "_model_module_version": "1.2.0",
            "_view_count": null,
            "flex_flow": null,
            "width": null,
            "min_width": null,
            "border": null,
            "align_items": null,
            "bottom": null,
            "_model_module": "@jupyter-widgets/base",
            "top": null,
            "grid_column": null,
            "overflow_y": null,
            "overflow_x": null,
            "grid_auto_flow": null,
            "grid_area": null,
            "grid_template_columns": null,
            "flex": null,
            "_model_name": "LayoutModel",
            "justify_items": null,
            "grid_row": null,
            "max_height": null,
            "align_content": null,
            "visibility": null,
            "align_self": null,
            "height": null,
            "min_height": null,
            "padding": null,
            "grid_auto_rows": null,
            "grid_gap": null,
            "max_width": null,
            "order": null,
            "_view_module_version": "1.2.0",
            "grid_template_areas": null,
            "object_position": null,
            "object_fit": null,
            "grid_auto_columns": null,
            "margin": null,
            "display": null,
            "left": null
          }
        }
      }
    }
  },
  "cells": [
    {
      "cell_type": "markdown",
      "metadata": {
        "id": "ptvBUgFZkKmm"
      },
      "source": [
        "# Requirments\r\n",
        "\r\n"
      ]
    },
    {
      "cell_type": "code",
      "metadata": {
        "id": "KUgwJtaFLYTc"
      },
      "source": [
        "\"\"\"\r\n",
        "# get majka database\r\n",
        "!curl --remote-name-all https://nlp.fi.muni.cz/ma{/majka.w-lt}\r\n",
        "!mv majka.w-lt drive/MyDrive/data/\r\n",
        "# download czech squad\r\n",
        "!curl --remote-name-all https://lindat.cz/repository/xmlui/bitstream/handle/11234/1-3069{/sqad_v3.tar.xz}\r\n",
        "!mv sqad_v3.tar.xz drive/MyDrive/data/\r\n",
        "!tar -xf drive/MyDrive/data/sqad_v3.tar.xz\r\n",
        "\"\"\""
      ],
      "execution_count": null,
      "outputs": []
    },
    {
      "cell_type": "code",
      "metadata": {
        "id": "RKgj8CeSViAh"
      },
      "source": [
        "!pip install sentencepiece\r\n",
        "!pip install datasets transformers\r\n",
        "!pip install googletrans==4.0.0-rc1\r\n",
        "!pip install wikipedia\r\n",
        "!pip install rank_bm25\r\n",
        "!pip install majka"
      ],
      "execution_count": null,
      "outputs": []
    },
    {
      "cell_type": "code",
      "metadata": {
        "id": "bRQGzm8pJ4C6"
      },
      "source": [
        "import torch\r\n",
        "import string\r\n",
        "import os\r\n",
        "import sys\r\n",
        "import time\r\n",
        "import shutil\r\n",
        "import json\r\n",
        "import numpy as np\r\n",
        "import collections\r\n",
        "import datetime\r\n",
        "from tqdm.auto import tqdm\r\n",
        "\r\n",
        "from datasets import load_dataset, load_metric\r\n",
        "from typing import List, Tuple, Dict\r\n",
        "from collections import defaultdict\r\n",
        "from transformers import AlbertTokenizerFast, AlbertForQuestionAnswering, TrainingArguments, Trainer, default_data_collator\r\n",
        "\r\n",
        "from rank_bm25 import BM25Okapi\r\n",
        "import re\r\n",
        "import majka\r\n",
        "import wikipedia\r\n",
        "from googletrans import Translator\r\n",
        "\r\n",
        "from google.colab import drive"
      ],
      "execution_count": 2,
      "outputs": []
    },
    {
      "cell_type": "code",
      "metadata": {
        "id": "3oFuZPSCKZiv",
        "colab": {
          "base_uri": "https://localhost:8080/"
        },
        "outputId": "c64a63e7-9e3d-4236-b599-1ef1482b1312"
      },
      "source": [
        "# Remove pre-cached sample data in colab's directory\r\n",
        "if os.path.isdir(\"sample_data\"):\r\n",
        "  shutil.rmtree(\"sample_data\")\r\n",
        "drive.mount('/content/drive')"
      ],
      "execution_count": 3,
      "outputs": [
        {
          "output_type": "stream",
          "text": [
            "Mounted at /content/drive\n"
          ],
          "name": "stdout"
        }
      ]
    },
    {
      "cell_type": "code",
      "metadata": {
        "id": "ERU6X6WWohlz"
      },
      "source": [
        "def get_timestamp():\n",
        "    return datetime.datetime.now().strftime('%Y-%m-%d_%H:%M')"
      ],
      "execution_count": 4,
      "outputs": []
    },
    {
      "cell_type": "markdown",
      "metadata": {
        "id": "BcgjqBzMoitL"
      },
      "source": [
        "Print gpu"
      ]
    },
    {
      "cell_type": "code",
      "metadata": {
        "id": "WWWMtqQ-rf5z",
        "colab": {
          "base_uri": "https://localhost:8080/"
        },
        "outputId": "277d119b-1a45-4ac5-d41e-754ead3b3cf6"
      },
      "source": [
        "print(\"Current working directory: \" + os.getcwd())\n",
        "print(f\"python version: {sys.version}\")\n",
        "print(f\"torch version: {torch.__version__}\")\n",
        "device = torch.device(\"cuda:0\" if torch.cuda.is_available() else \"cpu\")\n",
        "if device.type == 'cuda':\n",
        "    print(torch.cuda.get_device_name(0))\n",
        "    !nvidia-smi"
      ],
      "execution_count": 144,
      "outputs": [
        {
          "output_type": "stream",
          "text": [
            "Current working directory: /content\n",
            "python version: 3.7.10 (default, Feb 20 2021, 21:17:23) \n",
            "[GCC 7.5.0]\n",
            "torch version: 1.7.1+cu101\n",
            "Tesla T4\n",
            "Mon Mar  1 21:12:56 2021       \n",
            "+-----------------------------------------------------------------------------+\n",
            "| NVIDIA-SMI 460.39       Driver Version: 460.32.03    CUDA Version: 11.2     |\n",
            "|-------------------------------+----------------------+----------------------+\n",
            "| GPU  Name        Persistence-M| Bus-Id        Disp.A | Volatile Uncorr. ECC |\n",
            "| Fan  Temp  Perf  Pwr:Usage/Cap|         Memory-Usage | GPU-Util  Compute M. |\n",
            "|                               |                      |               MIG M. |\n",
            "|===============================+======================+======================|\n",
            "|   0  Tesla T4            Off  | 00000000:00:04.0 Off |                    0 |\n",
            "| N/A   71C    P0    31W /  70W |   2860MiB / 15109MiB |      0%      Default |\n",
            "|                               |                      |                  N/A |\n",
            "+-------------------------------+----------------------+----------------------+\n",
            "                                                                               \n",
            "+-----------------------------------------------------------------------------+\n",
            "| Processes:                                                                  |\n",
            "|  GPU   GI   CI        PID   Type   Process name                  GPU Memory |\n",
            "|        ID   ID                                                   Usage      |\n",
            "|=============================================================================|\n",
            "+-----------------------------------------------------------------------------+\n"
          ],
          "name": "stdout"
        }
      ]
    },
    {
      "cell_type": "code",
      "metadata": {
        "id": "6vES2bhXy4Z7"
      },
      "source": [
        "# This flag is the difference between SQUAD v1 or 2 (if you're using another dataset, it indicates if impossible\r\n",
        "# answers are allowed or not).\r\n",
        "squad_v2 = True\r\n",
        "if squad_v2:\r\n",
        "  model_checkpoint = \"./drive/MyDrive/albert_models/albert_squad2_finetuned\"\r\n",
        "else:\r\n",
        "  model_checkpoint = \"./drive/MyDrive/albert_models/albert_finetuned\"\r\n",
        "batch_size = 16"
      ],
      "execution_count": 112,
      "outputs": []
    },
    {
      "cell_type": "markdown",
      "metadata": {
        "id": "TshLGyuzEUpf"
      },
      "source": [
        "# Data preprocessing"
      ]
    },
    {
      "cell_type": "code",
      "metadata": {
        "id": "eT-5_Hse4MJA"
      },
      "source": [
        "def prepare_train_features(examples):\r\n",
        "    # Tokenize our examples with truncation and padding, but keep the overflows using a stride. This results\r\n",
        "    # in one example possible giving several features when a context is long, each of those features having a\r\n",
        "    # context that overlaps a bit the context of the previous feature.\r\n",
        "    tokenized_examples = tokenizer(\r\n",
        "        examples[\"question\"],\r\n",
        "        examples[\"context\"],\r\n",
        "        truncation=\"only_second\",\r\n",
        "        max_length=max_length,\r\n",
        "        stride=doc_stride,\r\n",
        "        return_overflowing_tokens=True,\r\n",
        "        return_offsets_mapping=True,\r\n",
        "        padding=\"max_length\",\r\n",
        "    )\r\n",
        "\r\n",
        "    # Since one example might give us several features if it has a long context, we need a map from a feature to\r\n",
        "    # its corresponding example. This key gives us just that.\r\n",
        "    sample_mapping = tokenized_examples.pop(\"overflow_to_sample_mapping\")\r\n",
        "    # The offset mappings will give us a map from token to character position in the original context. This will\r\n",
        "    # help us compute the start_positions and end_positions.\r\n",
        "    offset_mapping = tokenized_examples.pop(\"offset_mapping\")\r\n",
        "\r\n",
        "    # Let's label those examples!\r\n",
        "    tokenized_examples[\"start_positions\"] = []\r\n",
        "    tokenized_examples[\"end_positions\"] = []\r\n",
        "\r\n",
        "    for i, offsets in enumerate(offset_mapping):\r\n",
        "        # We will label impossible answers with the index of the CLS token.\r\n",
        "        input_ids = tokenized_examples[\"input_ids\"][i]\r\n",
        "        cls_index = input_ids.index(tokenizer.cls_token_id)\r\n",
        "\r\n",
        "        # Grab the sequence corresponding to that example (to know what is the context and what is the question).\r\n",
        "        sequence_ids = tokenized_examples.sequence_ids(i)\r\n",
        "\r\n",
        "        # One example can give several spans, this is the index of the example containing this span of text.\r\n",
        "        sample_index = sample_mapping[i]\r\n",
        "        answers = examples[\"answers\"][sample_index]\r\n",
        "        # If no answers are given, set the cls_index as answer.\r\n",
        "        if len(answers[\"answer_start\"]) == 0:\r\n",
        "            tokenized_examples[\"start_positions\"].append(cls_index)\r\n",
        "            tokenized_examples[\"end_positions\"].append(cls_index)\r\n",
        "        else:\r\n",
        "            # Start/end character index of the answer in the text.\r\n",
        "            start_char = answers[\"answer_start\"][0]\r\n",
        "            end_char = start_char + len(answers[\"text\"][0])\r\n",
        "\r\n",
        "            # Start token index of the current span in the text.\r\n",
        "            token_start_index = 0\r\n",
        "            while sequence_ids[token_start_index] != 1:\r\n",
        "                token_start_index += 1\r\n",
        "\r\n",
        "            # End token index of the current span in the text.\r\n",
        "            token_end_index = len(input_ids) - 1\r\n",
        "            while sequence_ids[token_end_index] != 1:\r\n",
        "                token_end_index -= 1\r\n",
        "\r\n",
        "            # Detect if the answer is out of the span (in which case this feature is labeled with the CLS index).\r\n",
        "            if not (offsets[token_start_index][0] <= start_char and offsets[token_end_index][1] >= end_char):\r\n",
        "                tokenized_examples[\"start_positions\"].append(cls_index)\r\n",
        "                tokenized_examples[\"end_positions\"].append(cls_index)\r\n",
        "            else:\r\n",
        "                # Otherwise move the token_start_index and token_end_index to the two ends of the answer.\r\n",
        "                # Note: we could go after the last offset if the answer is the last word (edge case).\r\n",
        "                while token_start_index < len(offsets) and offsets[token_start_index][0] <= start_char:\r\n",
        "                    token_start_index += 1\r\n",
        "                tokenized_examples[\"start_positions\"].append(token_start_index - 1)\r\n",
        "                while offsets[token_end_index][1] >= end_char:\r\n",
        "                    token_end_index -= 1\r\n",
        "                tokenized_examples[\"end_positions\"].append(token_end_index + 1)\r\n",
        "\r\n",
        "    return tokenized_examples"
      ],
      "execution_count": 9,
      "outputs": []
    },
    {
      "cell_type": "code",
      "metadata": {
        "id": "OKlUfZ_nBzkL",
        "colab": {
          "base_uri": "https://localhost:8080/",
          "height": 267,
          "referenced_widgets": [
            "8d12351a8366410caf54713ac70d3f25",
            "a8df94b403994eeab74d8f5d28c756a1",
            "df6f46f4aad64f86b137ee5237338137",
            "59a934b44c074a079f0f0c35def15fa8",
            "8ffb1648be9940d8b3976e275a73b10a",
            "8e288c0795a34d9988745f8d7ce7a41e",
            "9e67b60e39ec4035885d6dfaef6d09b1",
            "f8719796c9d44c9f938772417e1dabb0",
            "cb3b0b0ecee44611ab38cbd4530e88ba",
            "212a26df176f46c5b8410777ae3855d1",
            "1ca43132ac494ebda84dfaf5a4b5739c",
            "f0a45657bc264dbc8962f5ebc085407d",
            "48547a6c557d4157b03642e1cf24c403",
            "a89f205cc2e1423599e9688883a0c50e",
            "98103b118b9449ca8798b650664b7e1f",
            "d32f3e93496040858149034d8bbabfd7",
            "8cf9349847b54f07b14bc20b9ed3db86",
            "aa75d74e8aac43d4b176cbe8a5fb612d",
            "be81c15779ad4430824856079976be8c",
            "1246f5316666467bb2baf5a05da4b662",
            "661788d2d90647c9a5c7f4959cb89994",
            "2ee82d2c3c3a48caaf91ac88c53a2b63",
            "172df9de819e42b4abab61a8442d2d8d",
            "9044b85b3c984cdf9ee57d6be425d5c6",
            "b9ac175a5bc542aa994209a67e4537cc",
            "79b582ceb59a4015a03f4ed1b76df98a",
            "a3607d10203749dc8bcb5d2e3ca866f9",
            "1a4d01ba7d4640b4a6e6b7a1b12886f3",
            "6cb08f12e8a74437b603abe7cbd03868",
            "1f4ca3a9eaa242a6b8d761be6a1979aa",
            "85daae9386bd4646b2af11ffcbcec14b",
            "995c03f5570b4de28b81819ec6a2a66e",
            "c8a14d2396e2474cafc2936b7823950c",
            "af4f7068e2d14750b24a8e69d99fc6b0",
            "136e5b7ce90e431fb2d217120301a873",
            "1435868d96234d288d236fd2619ede85",
            "9103a7414f744be4a778a00a08b7e89a",
            "86ef0415bd8f4eebbe2b055049e5f19a",
            "e435c7962ec34b7395baa9d7596cbe58",
            "7dfd2dc7393b4279b615f66544711152",
            "388b1ea0d9d940f9b02ccecf69eed001",
            "4846ac5673f64bfdbaa831a7153b1c3b",
            "2594af87c0514c92a87235ab6f135bf0",
            "b1aa6207e0b8488792fed776da9dbdbf",
            "46809ef648224749b868013d2a08c2c0",
            "193adf08d9084f21a108e1e4106e89e9",
            "435eb6a5a1524d60ab8881de28476082",
            "c2462baab76141eebcbda66a5859b2ff"
          ]
        },
        "outputId": "51a6d61a-c735-45e3-91cf-96ef611be38e"
      },
      "source": [
        "tokenizer = AlbertTokenizerFast.from_pretrained(model_checkpoint)\r\n",
        "datasets = load_dataset(\"squad_v2\" if squad_v2 else \"squad\")"
      ],
      "execution_count": 33,
      "outputs": [
        {
          "output_type": "display_data",
          "data": {
            "application/vnd.jupyter.widget-view+json": {
              "model_id": "8d12351a8366410caf54713ac70d3f25",
              "version_minor": 0,
              "version_major": 2
            },
            "text/plain": [
              "HBox(children=(FloatProgress(value=0.0, description='Downloading', max=1806.0, style=ProgressStyle(description…"
            ]
          },
          "metadata": {
            "tags": []
          }
        },
        {
          "output_type": "stream",
          "text": [
            "\n"
          ],
          "name": "stdout"
        },
        {
          "output_type": "display_data",
          "data": {
            "application/vnd.jupyter.widget-view+json": {
              "model_id": "cb3b0b0ecee44611ab38cbd4530e88ba",
              "version_minor": 0,
              "version_major": 2
            },
            "text/plain": [
              "HBox(children=(FloatProgress(value=0.0, description='Downloading', max=963.0, style=ProgressStyle(description_…"
            ]
          },
          "metadata": {
            "tags": []
          }
        },
        {
          "output_type": "stream",
          "text": [
            "\n",
            "Downloading and preparing dataset squad_v2/squad_v2 (download: 44.34 MiB, generated: 122.57 MiB, post-processed: Unknown size, total: 166.91 MiB) to /root/.cache/huggingface/datasets/squad_v2/squad_v2/2.0.0/9cac55034b086140f0649ecb5c604d09d7da2f2f5b73a90caa2e2bcc1f5cac09...\n"
          ],
          "name": "stdout"
        },
        {
          "output_type": "display_data",
          "data": {
            "application/vnd.jupyter.widget-view+json": {
              "model_id": "8cf9349847b54f07b14bc20b9ed3db86",
              "version_minor": 0,
              "version_major": 2
            },
            "text/plain": [
              "HBox(children=(FloatProgress(value=0.0, description='Downloading', max=9551051.0, style=ProgressStyle(descript…"
            ]
          },
          "metadata": {
            "tags": []
          }
        },
        {
          "output_type": "stream",
          "text": [
            "\n"
          ],
          "name": "stdout"
        },
        {
          "output_type": "display_data",
          "data": {
            "application/vnd.jupyter.widget-view+json": {
              "model_id": "b9ac175a5bc542aa994209a67e4537cc",
              "version_minor": 0,
              "version_major": 2
            },
            "text/plain": [
              "HBox(children=(FloatProgress(value=0.0, description='Downloading', max=800683.0, style=ProgressStyle(descripti…"
            ]
          },
          "metadata": {
            "tags": []
          }
        },
        {
          "output_type": "stream",
          "text": [
            "\n"
          ],
          "name": "stdout"
        },
        {
          "output_type": "display_data",
          "data": {
            "application/vnd.jupyter.widget-view+json": {
              "model_id": "c8a14d2396e2474cafc2936b7823950c",
              "version_minor": 0,
              "version_major": 2
            },
            "text/plain": [
              "HBox(children=(FloatProgress(value=1.0, bar_style='info', max=1.0), HTML(value='')))"
            ]
          },
          "metadata": {
            "tags": []
          }
        },
        {
          "output_type": "stream",
          "text": [
            "\r"
          ],
          "name": "stdout"
        },
        {
          "output_type": "display_data",
          "data": {
            "application/vnd.jupyter.widget-view+json": {
              "model_id": "388b1ea0d9d940f9b02ccecf69eed001",
              "version_minor": 0,
              "version_major": 2
            },
            "text/plain": [
              "HBox(children=(FloatProgress(value=1.0, bar_style='info', max=1.0), HTML(value='')))"
            ]
          },
          "metadata": {
            "tags": []
          }
        },
        {
          "output_type": "stream",
          "text": [
            "\rDataset squad_v2 downloaded and prepared to /root/.cache/huggingface/datasets/squad_v2/squad_v2/2.0.0/9cac55034b086140f0649ecb5c604d09d7da2f2f5b73a90caa2e2bcc1f5cac09. Subsequent calls will reuse this data.\n"
          ],
          "name": "stdout"
        }
      ]
    },
    {
      "cell_type": "code",
      "metadata": {
        "id": "pd4irRm65p06",
        "colab": {
          "base_uri": "https://localhost:8080/",
          "height": 115,
          "referenced_widgets": [
            "e037e4c63c5643d5b1768078ac3d9cd6",
            "87accae36b2245bd93380be5670d6179",
            "ab43550e93304f9fa077611508ca5b88",
            "e3d854e10ef34e50b63f5654ed0ddf51",
            "651740bffc8a48afb863d47b26845303",
            "c219153d7a9f4bd5b71e31736dfcc6a8",
            "20a62811cec348eaaa70af2ab3ebd5f4",
            "4f262126a5134fbbacd1882a9eef4741",
            "398cf7c5114e41c1927a50cd5de7a91b",
            "2ac2877c265e41ecb56eecd36b2ca147",
            "39c7e3d76bf7489580f49341f666751d",
            "e6e8a6d1fad74b6a8f4350e464a46d12",
            "8d5586078ef1483582c15e4c7d6ec736",
            "92b60edb3d894393b06056e9785f0230",
            "fd78bb9b983d4151a1b99c47c4f4e3d3",
            "bf1a2a08958d4f468e17423b9bbb225c"
          ]
        },
        "outputId": "ddf7ca86-b653-4470-a109-692748f8c0af"
      },
      "source": [
        "max_length=384\r\n",
        "doc_stride=128\r\n",
        "tokenized_datasets = datasets.map(prepare_train_features,\r\n",
        "                                  batched=True, \r\n",
        "                                  remove_columns=datasets[\"train\"].column_names)"
      ],
      "execution_count": 34,
      "outputs": [
        {
          "output_type": "display_data",
          "data": {
            "application/vnd.jupyter.widget-view+json": {
              "model_id": "e037e4c63c5643d5b1768078ac3d9cd6",
              "version_minor": 0,
              "version_major": 2
            },
            "text/plain": [
              "HBox(children=(FloatProgress(value=0.0, max=131.0), HTML(value='')))"
            ]
          },
          "metadata": {
            "tags": []
          }
        },
        {
          "output_type": "stream",
          "text": [
            "\n"
          ],
          "name": "stdout"
        },
        {
          "output_type": "display_data",
          "data": {
            "application/vnd.jupyter.widget-view+json": {
              "model_id": "398cf7c5114e41c1927a50cd5de7a91b",
              "version_minor": 0,
              "version_major": 2
            },
            "text/plain": [
              "HBox(children=(FloatProgress(value=0.0, max=12.0), HTML(value='')))"
            ]
          },
          "metadata": {
            "tags": []
          }
        },
        {
          "output_type": "stream",
          "text": [
            "\n"
          ],
          "name": "stdout"
        }
      ]
    },
    {
      "cell_type": "markdown",
      "metadata": {
        "id": "5N3VXCshEY3g"
      },
      "source": [
        "# Model fine-tuning"
      ]
    },
    {
      "cell_type": "code",
      "metadata": {
        "id": "cxulpn9Q770q"
      },
      "source": [
        "model = AlbertForQuestionAnswering.from_pretrained(model_checkpoint)"
      ],
      "execution_count": 37,
      "outputs": []
    },
    {
      "cell_type": "markdown",
      "metadata": {
        "id": "lzVL6NbxZREF"
      },
      "source": [
        "Create trainer"
      ]
    },
    {
      "cell_type": "code",
      "metadata": {
        "id": "oZ03rHLM8MZ6"
      },
      "source": [
        "args = TrainingArguments(\r\n",
        "    f\"./drive/MyDrive/data/checkpoints\",\r\n",
        "    evaluation_strategy = \"epoch\",\r\n",
        "    learning_rate=2e-5,\r\n",
        "    per_device_train_batch_size=batch_size,\r\n",
        "    per_device_eval_batch_size=batch_size,\r\n",
        "    num_train_epochs=3,\r\n",
        "    weight_decay=0.01,\r\n",
        ")\r\n",
        "\r\n",
        "data_collator = default_data_collator\r\n",
        "\r\n",
        "trainer = Trainer(\r\n",
        "    model,\r\n",
        "    args,\r\n",
        "    train_dataset=tokenized_datasets[\"train\"],\r\n",
        "    eval_dataset=tokenized_datasets[\"validation\"],\r\n",
        "    data_collator=data_collator,\r\n",
        "    tokenizer=tokenizer,\r\n",
        ")"
      ],
      "execution_count": 38,
      "outputs": []
    },
    {
      "cell_type": "markdown",
      "metadata": {
        "id": "esdYGARYZz73"
      },
      "source": [
        "Train and save"
      ]
    },
    {
      "cell_type": "code",
      "metadata": {
        "id": "KBZMu-OB82D2"
      },
      "source": [
        "trainer.train()"
      ],
      "execution_count": null,
      "outputs": []
    },
    {
      "cell_type": "code",
      "metadata": {
        "id": "fps_UYycBQSF"
      },
      "source": [
        "trainer.save_model(\"./drive/MyDrive/data/albert_finetuned\")"
      ],
      "execution_count": null,
      "outputs": []
    },
    {
      "cell_type": "markdown",
      "metadata": {
        "id": "BYPwBfguEgAb"
      },
      "source": [
        "# Model evaluation"
      ]
    },
    {
      "cell_type": "code",
      "metadata": {
        "id": "biBzgvjUS54U"
      },
      "source": [
        "def prepare_validation_features(examples):\r\n",
        "    # Tokenize our examples with truncation and maybe padding, but keep the overflows using a stride. This results\r\n",
        "    # in one example possible giving several features when a context is long, each of those features having a\r\n",
        "    # context that overlaps a bit the context of the previous feature.\r\n",
        "    tokenized_examples = tokenizer(\r\n",
        "        examples[\"question\"],\r\n",
        "        examples[\"context\"],\r\n",
        "        truncation=\"only_second\",\r\n",
        "        max_length=max_length,\r\n",
        "        stride=doc_stride,\r\n",
        "        return_overflowing_tokens=True,\r\n",
        "        return_offsets_mapping=True,\r\n",
        "        padding=\"max_length\",\r\n",
        "    )\r\n",
        "\r\n",
        "    # Since one example might give us several features if it has a long context, we need a map from a feature to\r\n",
        "    # its corresponding example. This key gives us just that.\r\n",
        "    sample_mapping = tokenized_examples.pop(\"overflow_to_sample_mapping\")\r\n",
        "\r\n",
        "    # We keep the example_id that gave us this feature and we will store the offset mappings.\r\n",
        "    tokenized_examples[\"example_id\"] = []\r\n",
        "\r\n",
        "    for i in range(len(tokenized_examples[\"input_ids\"])):\r\n",
        "        # Grab the sequence corresponding to that example (to know what is the context and what is the question).\r\n",
        "        sequence_ids = tokenized_examples.sequence_ids(i)\r\n",
        "        context_index = 1\r\n",
        "        # One example can give several spans, this is the index of the example containing this span of text.\r\n",
        "        sample_index = sample_mapping[i]\r\n",
        "        tokenized_examples[\"example_id\"].append(examples[\"id\"][sample_index])\r\n",
        "\r\n",
        "        # Set to None the offset_mapping that are not part of the context so it's easy to determine if a token\r\n",
        "        # position is part of the context or not.\r\n",
        "        tokenized_examples[\"offset_mapping\"][i] = [\r\n",
        "            (o if sequence_ids[k] == context_index else None)\r\n",
        "            for k, o in enumerate(tokenized_examples[\"offset_mapping\"][i])\r\n",
        "        ]\r\n",
        "\r\n",
        "    return tokenized_examples"
      ],
      "execution_count": 16,
      "outputs": []
    },
    {
      "cell_type": "code",
      "metadata": {
        "id": "jmK8WQLEWyRN"
      },
      "source": [
        "def postprocess_qa_predictions(examples, features, raw_predictions, n_best_size = 20, max_answer_length = 30):\r\n",
        "    all_start_logits, all_end_logits = raw_predictions\r\n",
        "    # Build a map example to its corresponding features.\r\n",
        "    example_id_to_index = {k: i for i, k in enumerate(examples[\"id\"])}\r\n",
        "    features_per_example = collections.defaultdict(list)\r\n",
        "    for i, feature in enumerate(features):\r\n",
        "        features_per_example[example_id_to_index[feature[\"example_id\"]]].append(i)\r\n",
        "\r\n",
        "    # The dictionaries we have to fill.\r\n",
        "    predictions = collections.OrderedDict()\r\n",
        "\r\n",
        "    # Logging.\r\n",
        "    print(f\"Post-processing {len(examples)} example predictions split into {len(features)} features.\")\r\n",
        "\r\n",
        "    # Let's loop over all the examples!\r\n",
        "    for example_index, example in enumerate(tqdm(examples)):\r\n",
        "        # Those are the indices of the features associated to the current example.\r\n",
        "        feature_indices = features_per_example[example_index]\r\n",
        "\r\n",
        "        min_null_score = None # Only used if squad_v2 is True.\r\n",
        "        valid_answers = []\r\n",
        "        \r\n",
        "        context = example[\"context\"]\r\n",
        "        # Looping through all the features associated to the current example.\r\n",
        "        for feature_index in feature_indices:\r\n",
        "            # We grab the predictions of the model for this feature.\r\n",
        "            start_logits = all_start_logits[feature_index]\r\n",
        "            end_logits = all_end_logits[feature_index]\r\n",
        "            # This is what will allow us to map some the positions in our logits to span of texts in the original\r\n",
        "            # context.\r\n",
        "            offset_mapping = features[feature_index][\"offset_mapping\"]\r\n",
        "\r\n",
        "            # Update minimum null prediction.\r\n",
        "            cls_index = features[feature_index][\"input_ids\"].index(tokenizer.cls_token_id)\r\n",
        "            feature_null_score = start_logits[cls_index] + end_logits[cls_index]\r\n",
        "            if min_null_score is None or min_null_score < feature_null_score:\r\n",
        "                min_null_score = feature_null_score\r\n",
        "\r\n",
        "            # Go through all possibilities for the `n_best_size` greater start and end logits.\r\n",
        "            start_indexes = np.argsort(start_logits)[-1 : -n_best_size - 1 : -1].tolist()\r\n",
        "            end_indexes = np.argsort(end_logits)[-1 : -n_best_size - 1 : -1].tolist()\r\n",
        "            for start_index in start_indexes:\r\n",
        "                for end_index in end_indexes:\r\n",
        "                    # Don't consider out-of-scope answers, either because the indices are out of bounds or correspond\r\n",
        "                    # to part of the input_ids that are not in the context.\r\n",
        "                    if (\r\n",
        "                        start_index >= len(offset_mapping)\r\n",
        "                        or end_index >= len(offset_mapping)\r\n",
        "                        or offset_mapping[start_index] is None\r\n",
        "                        or offset_mapping[end_index] is None\r\n",
        "                    ):\r\n",
        "                        continue\r\n",
        "                    # Don't consider answers with a length that is either < 0 or > max_answer_length.\r\n",
        "                    if end_index < start_index or end_index - start_index + 1 > max_answer_length:\r\n",
        "                        continue\r\n",
        "\r\n",
        "                    start_char = offset_mapping[start_index][0]\r\n",
        "                    end_char = offset_mapping[end_index][1]\r\n",
        "                    valid_answers.append(\r\n",
        "                        {\r\n",
        "                            \"score\": start_logits[start_index] + end_logits[end_index],\r\n",
        "                            \"text\": context[start_char: end_char]\r\n",
        "                        }\r\n",
        "                    )\r\n",
        "        \r\n",
        "        if len(valid_answers) > 0:\r\n",
        "            best_answer = sorted(valid_answers, key=lambda x: x[\"score\"], reverse=True)[0]\r\n",
        "        else:\r\n",
        "            # In the very rare edge case we have not a single non-null prediction, we create a fake prediction to avoid\r\n",
        "            # failure.\r\n",
        "            best_answer = {\"text\": \"\", \"score\": 0.0}\r\n",
        "        \r\n",
        "        # Let's pick our final answer: the best one or the null answer (only for squad_v2)\r\n",
        "        if not squad_v2:\r\n",
        "            predictions[example[\"id\"]] = best_answer[\"text\"]\r\n",
        "        else:\r\n",
        "            answer = best_answer[\"text\"] if best_answer[\"score\"] > min_null_score else \"\"\r\n",
        "            predictions[example[\"id\"]] = answer\r\n",
        "\r\n",
        "    return predictions"
      ],
      "execution_count": 27,
      "outputs": []
    },
    {
      "cell_type": "markdown",
      "metadata": {
        "id": "GCkrrwoTYWCN"
      },
      "source": [
        "Final evaluation"
      ]
    },
    {
      "cell_type": "code",
      "metadata": {
        "colab": {
          "base_uri": "https://localhost:8080/",
          "height": 86,
          "referenced_widgets": [
            "7d32293ffdba40d8956fa871d73ed287",
            "90763a6b922540f098e640e6f11bd5f2",
            "19c4ce107ebd42e0958611e85eee158f",
            "a7e7f757c3e34248b5005aaf0e9c0185",
            "4a554dde21cd4c3ca8974f1113fae8fc",
            "72ea1fc1647f45c185517ce96263b45c",
            "93805d0c98014c789bfab535e9474782",
            "86c705ed59504c39a137e32d165a34cb"
          ]
        },
        "id": "lse-A4J-U7-g",
        "outputId": "59ecc1e9-969f-455e-a982-24cba4d29457"
      },
      "source": [
        "# get ground truth features\r\n",
        "validation_features = datasets[\"validation\"].map(prepare_validation_features,\r\n",
        "                                                 batched=True,\r\n",
        "                                                 remove_columns=datasets[\"validation\"].column_names)\r\n",
        "\r\n",
        "# get raw predictions\r\n",
        "raw_predictions = trainer.predict(validation_features)\r\n",
        "\r\n",
        "validation_features.set_format(type=validation_features.format[\"type\"], \r\n",
        "                               columns=list(validation_features.features.keys()))"
      ],
      "execution_count": 39,
      "outputs": [
        {
          "output_type": "display_data",
          "data": {
            "application/vnd.jupyter.widget-view+json": {
              "model_id": "7d32293ffdba40d8956fa871d73ed287",
              "version_minor": 0,
              "version_major": 2
            },
            "text/plain": [
              "HBox(children=(FloatProgress(value=0.0, max=12.0), HTML(value='')))"
            ]
          },
          "metadata": {
            "tags": []
          }
        },
        {
          "output_type": "stream",
          "text": [
            "\n"
          ],
          "name": "stdout"
        },
        {
          "output_type": "display_data",
          "data": {
            "text/html": [
              "\n",
              "    <div>\n",
              "        <style>\n",
              "            /* Turns off some styling */\n",
              "            progress {\n",
              "                /* gets rid of default border in Firefox and Opera. */\n",
              "                border: none;\n",
              "                /* Needs to be in here for Safari polyfill so background images work as expected. */\n",
              "                background-size: auto;\n",
              "            }\n",
              "        </style>\n",
              "      \n",
              "      <progress value='761' max='761' style='width:300px; height:20px; vertical-align: middle;'></progress>\n",
              "      [761/761 05:37]\n",
              "    </div>\n",
              "    "
            ],
            "text/plain": [
              "<IPython.core.display.HTML object>"
            ]
          },
          "metadata": {
            "tags": []
          }
        }
      ]
    },
    {
      "cell_type": "code",
      "metadata": {
        "colab": {
          "base_uri": "https://localhost:8080/",
          "height": 304,
          "referenced_widgets": [
            "63496a94e522449daac33bd52f2abfa8",
            "589fa797cd934ea78e1a5ec412cc4844",
            "c29a32f1b5534ff8a4884629dc971a69",
            "955b8fde51e7425a8a720c4ee25151b0",
            "b9bea30ed8c54381b3d3059cb8aa47c7",
            "5646eba8b94a44a3b465524a89fd8afc",
            "baf459bcf0c842279af456dde4b0c668",
            "ff3524fce9684f4e86898e7caa8a45f1"
          ]
        },
        "id": "hrYmOc4UYBcB",
        "outputId": "fe553b0a-1d09-483a-826d-846a185554bd"
      },
      "source": [
        "# hyperparameters\r\n",
        "max_answer_length = 30\r\n",
        "n_best_size = 20\r\n",
        "\r\n",
        "# map examples to features\r\n",
        "examples = datasets[\"validation\"]\r\n",
        "features = validation_features\r\n",
        "\r\n",
        "example_id_to_index = {k: i for i, k in enumerate(examples[\"id\"])}\r\n",
        "features_per_example = collections.defaultdict(list)\r\n",
        "for i, feature in enumerate(features):\r\n",
        "    features_per_example[example_id_to_index[feature[\"example_id\"]]].append(i)\r\n",
        "\r\n",
        "# get final predictions\r\n",
        "final_predictions = postprocess_qa_predictions(datasets[\"validation\"], validation_features, raw_predictions.predictions)\r\n",
        "# get metric used\r\n",
        "metric = load_metric(\"squad_v2\" if squad_v2 else \"squad\")\r\n",
        "\r\n",
        "#evaluate\r\n",
        "if squad_v2:\r\n",
        "    formatted_predictions = [{\"id\": k, \"prediction_text\": v, \"no_answer_probability\": 0.0} for k, v in final_predictions.items()]\r\n",
        "else:\r\n",
        "    formatted_predictions = [{\"id\": k, \"prediction_text\": v} for k, v in final_predictions.items()]\r\n",
        "references = [{\"id\": ex[\"id\"], \"answers\": ex[\"answers\"]} for ex in datasets[\"validation\"]]\r\n",
        "metric.compute(predictions=formatted_predictions, references=references)"
      ],
      "execution_count": 41,
      "outputs": [
        {
          "output_type": "stream",
          "text": [
            "Post-processing 11873 example predictions split into 12171 features.\n"
          ],
          "name": "stdout"
        },
        {
          "output_type": "display_data",
          "data": {
            "application/vnd.jupyter.widget-view+json": {
              "model_id": "63496a94e522449daac33bd52f2abfa8",
              "version_minor": 0,
              "version_major": 2
            },
            "text/plain": [
              "HBox(children=(FloatProgress(value=0.0, max=11873.0), HTML(value='')))"
            ]
          },
          "metadata": {
            "tags": []
          }
        },
        {
          "output_type": "stream",
          "text": [
            "\n"
          ],
          "name": "stdout"
        },
        {
          "output_type": "execute_result",
          "data": {
            "text/plain": [
              "{'HasAns_exact': 74.2914979757085,\n",
              " 'HasAns_f1': 80.7472515516722,\n",
              " 'HasAns_total': 5928,\n",
              " 'NoAns_exact': 82.35492010092514,\n",
              " 'NoAns_f1': 82.35492010092514,\n",
              " 'NoAns_total': 5945,\n",
              " 'best_exact': 78.3289817232376,\n",
              " 'best_exact_thresh': 0.0,\n",
              " 'best_f1': 81.55223677236683,\n",
              " 'best_f1_thresh': 0.0,\n",
              " 'exact': 78.3289817232376,\n",
              " 'f1': 81.55223677236697,\n",
              " 'total': 11873}"
            ]
          },
          "metadata": {
            "tags": []
          },
          "execution_count": 41
        }
      ]
    },
    {
      "cell_type": "markdown",
      "metadata": {
        "id": "bPGazghDdOXn"
      },
      "source": [
        "# Decode"
      ]
    },
    {
      "cell_type": "code",
      "metadata": {
        "id": "FZgfE6VfdQBF"
      },
      "source": [
        "def decode(output, context, offset_mapping):\r\n",
        "  start_logits = output.start_logits[0].cpu().detach().numpy()\r\n",
        "  end_logits = output.end_logits[0].cpu().detach().numpy()\r\n",
        "  offset_mapping = offset_mapping[0]\r\n",
        "\r\n",
        "  # Gather the indices the best start/end logits:\r\n",
        "  start_indexes = np.argsort(start_logits)[-1 : -n_best_size - 1 : -1].tolist()\r\n",
        "  end_indexes = np.argsort(end_logits)[-1 : -n_best_size - 1 : -1].tolist()\r\n",
        "  valid_answers = []\r\n",
        "  for start_index in start_indexes:\r\n",
        "      for end_index in end_indexes:\r\n",
        "          # Don't consider out-of-scope answers, either because the indices are out of bounds or correspond\r\n",
        "          # to part of the input_ids that are not in the context.\r\n",
        "          if (\r\n",
        "              start_index >= len(offset_mapping)\r\n",
        "              or end_index >= len(offset_mapping)\r\n",
        "              or offset_mapping[start_index] is None\r\n",
        "              or offset_mapping[end_index] is None\r\n",
        "          ):\r\n",
        "              continue\r\n",
        "          # Don't consider answers with a length that is either < 0 or > max_answer_length.\r\n",
        "          if end_index < start_index or end_index - start_index + 1 > max_answer_length:\r\n",
        "              continue\r\n",
        "          if start_index <= end_index: # We need to refine that test to check the answer is inside the context\r\n",
        "              start_char = offset_mapping[start_index][0]\r\n",
        "              end_char = offset_mapping[end_index][1]\r\n",
        "              valid_answers.append(\r\n",
        "                  {\r\n",
        "                      \"score\": start_logits[start_index] + end_logits[end_index],\r\n",
        "                      \"text\": context[start_char: end_char].strip()\r\n",
        "                  }\r\n",
        "              )\r\n",
        "\r\n",
        "  valid_answers = sorted(valid_answers, key=lambda x: x[\"score\"], reverse=True)[:n_best_size]\r\n",
        "  return valid_answers"
      ],
      "execution_count": 171,
      "outputs": []
    },
    {
      "cell_type": "markdown",
      "metadata": {
        "id": "6dmVBkIRlCT-"
      },
      "source": [
        "Get answers"
      ]
    },
    {
      "cell_type": "code",
      "metadata": {
        "id": "Wl5IA55IlEGx"
      },
      "source": [
        "def get_answers(question, context):\r\n",
        "  inputs = tokenizer(question, context, \r\n",
        "                     return_tensors='pt',\r\n",
        "                     truncation=\"only_second\",\r\n",
        "                     max_length=max_length,\r\n",
        "                     stride=doc_stride,\r\n",
        "                     return_offsets_mapping=True,\r\n",
        "                     padding=\"max_length\")\r\n",
        "  inputs.to(device)\r\n",
        "\r\n",
        "  outputs = model(inputs['input_ids'], \r\n",
        "                  token_type_ids=inputs['token_type_ids'],\r\n",
        "                  attention_mask=inputs['attention_mask'])\r\n",
        "  \r\n",
        "  valid_answers = decode(outputs, context, inputs['offset_mapping'])\r\n",
        "  return valid_answers # [0]['text']"
      ],
      "execution_count": 174,
      "outputs": []
    },
    {
      "cell_type": "markdown",
      "metadata": {
        "id": "31IV1omUfXNP"
      },
      "source": [
        "# Loading model\r\n"
      ]
    },
    {
      "cell_type": "markdown",
      "metadata": {
        "id": "6d3vTvLMn4ua"
      },
      "source": [
        "Choose trained version"
      ]
    },
    {
      "cell_type": "code",
      "metadata": {
        "id": "l9-UEUNjnGsm"
      },
      "source": [
        "squad_v2 = False\r\n",
        "if squad_v2:\r\n",
        "  model_checkpoint = \"./drive/MyDrive/albert_models/albert_squad2_finetuned\"\r\n",
        "else:\r\n",
        "  model_checkpoint = \"./drive/MyDrive/albert_models/albert_finetuned\""
      ],
      "execution_count": 136,
      "outputs": []
    },
    {
      "cell_type": "markdown",
      "metadata": {
        "id": "y8fIHfAgn7Oh"
      },
      "source": [
        "Load model and tokenizer"
      ]
    },
    {
      "cell_type": "code",
      "metadata": {
        "id": "-A1KQGXAkbdZ"
      },
      "source": [
        "tokenizer = AlbertTokenizerFast.from_pretrained(model_checkpoint)\n",
        "model = AlbertForQuestionAnswering.from_pretrained(model_checkpoint).to(device)"
      ],
      "execution_count": 146,
      "outputs": []
    },
    {
      "cell_type": "code",
      "metadata": {
        "id": "SWjuG8EAyz4u",
        "colab": {
          "base_uri": "https://localhost:8080/"
        },
        "outputId": "4862872e-66c4-4fe3-9e84-c2216b6fc584"
      },
      "source": [
        "def count_parameters(model):\r\n",
        "    return sum(p.numel() for p in model.parameters() if p.requires_grad)\r\n",
        "print(f\"Model has {count_parameters(model)} parameters\")"
      ],
      "execution_count": 128,
      "outputs": [
        {
          "output_type": "stream",
          "text": [
            "Model has 11094530 parameters\n"
          ],
          "name": "stdout"
        }
      ]
    },
    {
      "cell_type": "markdown",
      "metadata": {
        "id": "j5o2FeAvkztE"
      },
      "source": [
        "Asking questions"
      ]
    },
    {
      "cell_type": "code",
      "metadata": {
        "colab": {
          "base_uri": "https://localhost:8080/"
        },
        "id": "Ahc8-8Rdd0m5",
        "outputId": "93403c92-73aa-4886-dc3a-a023fdb0b3a9"
      },
      "source": [
        "# give question and context\r\n",
        "question = \"For how much was Chicago television station sold?\"\r\n",
        "context = \"In 1952, when the release of the FCC's Sixth Report and Order announced the end of its freeze\" \\\r\n",
        "          \" on new station license applications, among the issues the Commission was slated to address was\" \\\r\n",
        "          \" whether to approve the UPT-ABC merger. One FCC Commissioner saw the possibility of ABC, funded\" \\\r\n",
        "          \" by UPT, becoming a viable and competitive third television network. On February 9, 1953, the FCC\" \\\r\n",
        "          \" approved UPT's purchase of ABC in exchange for $25 million in shares. The merged company, renamed\" \\\r\n",
        "          \" American Broadcasting-Paramount Theatres, Inc. and headquartered in the Paramount Building at 1501 \" \\\r\n",
        "          \"Broadway in Manhattan, owned six AM and several FM radio stations, five television stations and 644 \" \\\r\n",
        "          \"cinemas in 300 U.S. cities. To comply with FCC ownership restrictions in effect at the time that\" \\\r\n",
        "          \" barred common ownership of two television stations in the same market, UPT sold its Chicago \" \\\r\n",
        "          \"television station, WBKB-TV, to CBS (which subsequently changed the station's call letters to WBBM-TV) \" \\\r\n",
        "          \"for $6 million, while it kept ABC's existing Chicago station, WENR-TV. The merged company acquired the WBKB \" \\\r\n",
        "          \"call letters for channel 7, which would eventually become WLS-TV. Goldenson began to sell some of the older \" \\\r\n",
        "          \"theaters to help finance the new television network.\"\r\n",
        "\r\n",
        "answers = get_answers(question, context)\r\n",
        "print(answers[0])\r\n",
        "print(answers[0]['text'])"
      ],
      "execution_count": 179,
      "outputs": [
        {
          "output_type": "stream",
          "text": [
            "{'score': 23.636002, 'text': '$6 million'}\n",
            "$6 million\n"
          ],
          "name": "stdout"
        }
      ]
    },
    {
      "cell_type": "markdown",
      "metadata": {
        "id": "whlGzus9Z4Tx"
      },
      "source": [
        "# Retriever\r\n"
      ]
    },
    {
      "cell_type": "code",
      "metadata": {
        "id": "8v9Zm6xex7VX"
      },
      "source": [
        "translator = Translator()\r\n",
        "wikipedia.set_lang(\"cs\") "
      ],
      "execution_count": null,
      "outputs": []
    },
    {
      "cell_type": "code",
      "metadata": {
        "id": "UrJsP4y_p7P-"
      },
      "source": [
        "def extract_que_ans(dirnum, filename, lemmatized=False):\r\n",
        "  # get question and answer from czech squad \r\n",
        "  f = open(f\"drive/MyDrive/data/cz_sqad/data/{dirnum}/{filename}\", \"r\")\r\n",
        "  q = f.read().split(\"\\n\")\r\n",
        "  question = \"\"\r\n",
        "\r\n",
        "  #lemmatized parsed\r\n",
        "  if lemmatized:\r\n",
        "    answer = \"\"\r\n",
        "    for line in q:\r\n",
        "      if len(line.split()) < 2:\r\n",
        "        continue\r\n",
        "      line = line.split(\"\\t\")[1]\r\n",
        "      if line in {\"<s>\", \"<g/>\", \"</s>\"}:\r\n",
        "        answer = answer[:-1]\r\n",
        "        continue\r\n",
        "      if line != \"?\":\r\n",
        "        answer += line + \" \"\r\n",
        "      else:\r\n",
        "        answer += \" ? \"\r\n",
        "\r\n",
        "    f.close()\r\n",
        "    return answer\r\n",
        "\r\n",
        "  # normal parse\r\n",
        "  for line in q:\r\n",
        "    line = line.split(\"\\t\")[0]\r\n",
        "    if line in {\"<s>\", \"<g/>\", \"</s>\"}:\r\n",
        "      question = question[:-1]\r\n",
        "      continue\r\n",
        "    \r\n",
        "    if line != \"?\":\r\n",
        "      question += line + \" \"\r\n",
        "    else:\r\n",
        "      question += \" ? \"\r\n",
        "\r\n",
        "  f.close()\r\n",
        "  return question"
      ],
      "execution_count": null,
      "outputs": []
    },
    {
      "cell_type": "code",
      "metadata": {
        "id": "tPfhmPY-xO85"
      },
      "source": [
        "# save the most common czech words\r\n",
        "common = \"být a se v na ten on že s z který mít do já o k i jeho ale svůj jako za moci rok pro tak po tento co když všechen už jak aby od nebo říci jeden jen můj jenž člověk ty stát u muset velký chtít také až než ještě při jít pak před dva však ani vědět nový hodně podle další celý jiný mezi dát tady den tam kde doba každý místo dobrý takový strana protože nic začít něco vidět říkat ne sám bez či dostat nějaký proto\"\r\n",
        "common = common.split()\r\n",
        "punctuation = \". , ? ! ... \\\" ( ) ; - /\"\r\n",
        "punctuation = punctuation.split()\r\n",
        "\r\n",
        "# decides if query token is common\r\n",
        "def iscommon(x):\r\n",
        "  if x in common or x in punctuation:\r\n",
        "    return True\r\n",
        "  else:\r\n",
        "    return False\r\n",
        "\r\n",
        "# remove the most common czech words from the query tokens (low information value)\r\n",
        "def delete_common(tokens):\r\n",
        "  tokens = [x for x in tokens if not iscommon(x)]\r\n",
        "      \r\n",
        "  return tokens"
      ],
      "execution_count": null,
      "outputs": []
    },
    {
      "cell_type": "code",
      "metadata": {
        "id": "_oNdBO3PCOjI"
      },
      "source": [
        "def search_again(tokens):\r\n",
        "\r\n",
        "  searched_term = (' ').join(tokens)\r\n",
        "  print(searched_term)\r\n",
        "  doc_list = wikipedia.search(searched_term)\r\n",
        "\r\n",
        "  if len(tokens) == 0:\r\n",
        "    return []\r\n",
        "\r\n",
        "  if len(doc_list) == 0:\r\n",
        "    del tokens[0]\r\n",
        "    return search_again(tokens)\r\n",
        "\r\n",
        "  return doc_list"
      ],
      "execution_count": null,
      "outputs": []
    },
    {
      "cell_type": "code",
      "metadata": {
        "id": "MXpTErpEr1hN"
      },
      "source": [
        "morph = majka.Majka('drive/MyDrive/data/majka.w-lt')\r\n",
        "morph.flags |= majka.ADD_DIACRITICS  # find word forms with diacritics\r\n",
        "morph.flags |= majka.DISALLOW_LOWERCASE  # do not enable to find lowercase variants\r\n",
        "morph.flags |= majka.IGNORE_CASE  # ignore the word case whatsoever\r\n",
        "morph.flags = 0  # unset all flags\r\n",
        "\r\n",
        "morph.tags = False  # return just the lemma, do not process the tags\r\n",
        "morph.first_only = True  # return only the first entry\r\n",
        "morph.negative = \"ne\"\r\n",
        "\r\n",
        "# returns lemma of each token in a list of lemmatized tokens\r\n",
        "def lemmatize(text):\r\n",
        "\r\n",
        "  tok_text = text.lower()\r\n",
        "  tok_text = re.split(\"\\W\", text)\r\n",
        "\r\n",
        "  # lemmatize each token\r\n",
        "  lemmatized_tokens = []\r\n",
        "  for token in tok_text:\r\n",
        "    if token == '':\r\n",
        "      continue\r\n",
        "    lemma = morph.find(token)\r\n",
        "    if len(lemma) == 0:\r\n",
        "      lemmatized_tokens.append(token)\r\n",
        "    else:\r\n",
        "      lemmatized_tokens.append(lemma[0]['lemma'])\r\n",
        "\r\n",
        "  return lemmatized_tokens\r\n"
      ],
      "execution_count": null,
      "outputs": []
    },
    {
      "cell_type": "code",
      "metadata": {
        "id": "YjYaStGxV7tw"
      },
      "source": [
        "def retrieve(question):  \r\n",
        "\r\n",
        "  #search for documents\r\n",
        "  doc_list = wikipedia.search(question)\r\n",
        "\r\n",
        "  # simplify the search if its too bad\r\n",
        "  if len(doc_list) == 0:\r\n",
        "    # extract important for wiki\r\n",
        "    tokens = lemmatize(question)\r\n",
        "    tokens = delete_common(tokens)\r\n",
        "    doc_list = search_again(tokens)\r\n",
        "    \r\n",
        "  if len(doc_list) == 0:\r\n",
        "      return \"\"\r\n",
        "\r\n",
        "  # split docs into paragraphs\r\n",
        "  pars = []\r\n",
        "  max_docs = 3\r\n",
        "  num_docs = 0\r\n",
        "\r\n",
        "  for doc in doc_list:\r\n",
        "    # get whole page content\r\n",
        "    try:\r\n",
        "      doc = wikipedia.page(doc)\r\n",
        "    except wikipedia.DisambiguationError as e:\r\n",
        "      s = e.options[0]\r\n",
        "      doc = wikipedia.page(s)\r\n",
        "    result = re.split('== .*. ==|\\n\\n', doc.content)\r\n",
        "\r\n",
        "    # save stripped paragraphs\r\n",
        "    for par in result:\r\n",
        "      par = par.strip()\r\n",
        "      par = par.strip('=')\r\n",
        "      par = par.strip('\\n')\r\n",
        "      par = par.strip('\\r\\n')\r\n",
        "\r\n",
        "      if par == '' or par == '\\n':\r\n",
        "        continue\r\n",
        "      pars.append(par)\r\n",
        "\r\n",
        "    num_docs += 1\r\n",
        "    if num_docs >= max_docs:\r\n",
        "      break\r\n",
        "\r\n",
        "  # tokenize for bm25\r\n",
        "  tok_text = []\r\n",
        "  for par in pars:\r\n",
        "    tok_par = par.lower()\r\n",
        "    tok_par = re.split(\"\\W\", tok_par)\r\n",
        "    for tok in tok_par:\r\n",
        "      if tok == \"\":\r\n",
        "        tok_par.remove(\"\")\r\n",
        "    tok_text.append(tok_par)\r\n",
        "\r\n",
        "  # build index\r\n",
        "  bm25 = BM25Okapi(tok_text)\r\n",
        "\r\n",
        "  # tokenize the query\r\n",
        "  tokenized_query = question.lower()\r\n",
        "  tokenized_query = re.split(\"\\W\", tokenized_query)\r\n",
        "\r\n",
        "  # get results\r\n",
        "  results = bm25.get_top_n(tokenized_query, pars, n=3)\r\n",
        "\r\n",
        "  return results\r\n"
      ],
      "execution_count": null,
      "outputs": []
    },
    {
      "cell_type": "code",
      "metadata": {
        "id": "4saxh9bfoqYe"
      },
      "source": [
        "# create very simple batch object\r\n",
        "class simple_batch():\r\n",
        "  def __init__(self,q,d,raw_d,d_pos):\r\n",
        "    map_to_gpu_tensor = lambda x: torch.Tensor(x).long().to(torch.device(\"cuda\")).unsqueeze(0)\r\n",
        "    self.question=map_to_gpu_tensor(q)\r\n",
        "    self.document=map_to_gpu_tensor(d)\r\n",
        "    self.raw_document_context = [raw_d]\r\n",
        "    self.document_token_positions = [d_pos]"
      ],
      "execution_count": null,
      "outputs": []
    },
    {
      "cell_type": "markdown",
      "metadata": {
        "id": "5vx4Wp01k0Gl"
      },
      "source": [
        "# Testing with sqad"
      ]
    },
    {
      "cell_type": "code",
      "metadata": {
        "id": "Tn5_5_YKeC0w"
      },
      "source": [
        "# write results to\n",
        "f = open(\"drive/MyDrive/data/saved_answers/test.txt\", \"w\")\n",
        "\n",
        "# write first question-answer pairs in sqad\n",
        "from_q = 1\n",
        "to_q = 1\n",
        "for i in range(from_q, to_q+1):\n",
        "\n",
        "  # get question number\n",
        "  name = \"\"\n",
        "  for _ in range(len(str(i)), 6):\n",
        "    name += \"0\"\n",
        "  name += str(i)\n",
        "\n",
        "  # extract from dataset\n",
        "  question = extract_que_ans(name, \"01question.vert\")\n",
        "  correct_answer = extract_que_ans(name, \"09answer_extraction.vert\")\n",
        "  lemmatized_answer = extract_que_ans(name, \"09answer_extraction.vert\", lemmatized=True)\n",
        "\n",
        "  # wiki search\n",
        "  documents = retrieve(question)\n",
        "  # for saving the best results\n",
        "  bestAnswers = []\n",
        "  bestProbs = []\n",
        "  bestDocs = []\n",
        "  bestLogProbs = []\n",
        "\n",
        "  question_cs = question # save czech question\n",
        "\n",
        "  # iterate over retrieved paragraphs\n",
        "  for document in documents:\n",
        "\n",
        "    # strip whitespaces\n",
        "    document = document.strip()\n",
        "\n",
        "    # chceck if any document has been found for the question\n",
        "    if document == \"\":\n",
        "      f.write(\"question: \" + question + \"\\n\" +\n",
        "              \"answer: odpověď nenalezena\" + \"\\n\" + \n",
        "              \"correct answer: \" + correct_answer + \"\\n\\n\")\n",
        "      continue;\n",
        "    try:\n",
        "      document_cs = document\n",
        "      document = translator.translate(document, dest='en').text\n",
        "    except TypeError:\n",
        "      continue\n",
        "\n",
        "    # remove some trash\n",
        "    # TODO this not cool (in retriever)\n",
        "    if (document_cs.strip().startswith(\"Obrázky, zvuky či videa k tématu\")):\n",
        "      continue\n",
        "\n",
        "\n",
        "    bestDocs.append(document_cs)\n",
        "    # translate\n",
        "    question = translator.translate(question, dest='en').text\n",
        "\n",
        "    # make sure the current vocab is model's vocab\n",
        "    vocab = model.embedder.vocab\n",
        "\n",
        "    # tokenization\n",
        "    document_tokens, tokenized_document_list = tokenize(document)\n",
        "    tokenized_question_list = tokenize(question)[1]\n",
        "\n",
        "    # keep positions of each token in document, we will need this later, when decoding model outputs\n",
        "    document_token_positions = [[token.idx, token.idx + len(token.text)] for token in document_tokens]\n",
        "\n",
        "    # lowercasing and numericalization\n",
        "    numericalized_document = [vocab.stoi[s.lower()] for s in tokenized_document_list]\n",
        "    numericalized_question = [vocab.stoi[s.lower()] for s in tokenized_question_list]\n",
        "\n",
        "    batch = simple_batch(numericalized_question,numericalized_document,document,document_token_positions)\n",
        "\n",
        "    # get predictions with arg_maxes\n",
        "    logprobs_S, logprobs_E, argmax_Q = model.forward(batch, return_max=True)\n",
        "\n",
        "    # decode from log probabilities to predictions\n",
        "    best_span_prob, candidate, logprobs = decode(logprobs_S, logprobs_E)\n",
        "    confidence =  best_span_prob.item()\n",
        "    log_conf = logprobs.item()\n",
        "\n",
        "    #get answer\n",
        "    answers = get_spans(batch, candidate)\n",
        "    answer = answers[0]\n",
        "\n",
        "    # save probs and answer\n",
        "    bestAnswers.append(answer)\n",
        "    bestProbs.append(confidence)\n",
        "    bestLogProbs.append(log_conf)\n",
        "\n",
        "  # check if any answer was found\n",
        "  if len(bestProbs) == 0:\n",
        "    f.write(\"question: \" + question_cs + \"\\n\" +\n",
        "              \"answer: odpověď nenalezena\" + \"\\n\" + \n",
        "              \"correct answer: \" + correct_answer + \"\\n\\n\")\n",
        "    continue\n",
        "\n",
        "  print(bestAnswers)\n",
        "  print(bestProbs)\n",
        "  print(bestLogProbs)\n",
        "  # get the best doc\n",
        "  # get best answer from retriever according to reader\n",
        "  # get the best confidence\n",
        "  document = bestDocs[np.argmax(bestLogProbs, axis=0)]\n",
        "  answer = bestAnswers[np.argmax(bestLogProbs, axis=0)]\n",
        "  confidence = bestProbs[np.argmax(bestLogProbs, axis=0)]\n",
        "\n",
        "  # translate the final answer\n",
        "  answer =  translator.translate(answer, dest='cs').text\n",
        "\n",
        "  # write the result to file\n",
        "  f.write(\"otázka č.\" + name + \": \" + question_cs + \"\\n\" +\n",
        "          \"::odpověď: \" + answer + \"\\n\" + \n",
        "          \"::správná odpověď podle sqad : \" + correct_answer + \"\\n\" +\n",
        "          # \"::sqad lemmatized : \" + lemmatized_answer + \"\\n\" +\n",
        "          \"----------------------------------------------------------------\\n\"+\n",
        "          \"získaný dokument: \" + document + \n",
        "          \"\\n----------------------------------------------------------------\\n\"+\n",
        "          \"----------------------------------------------------------------\"+\n",
        "          \"\\n\\n\")\n",
        "  \n",
        "  # controlprint\n",
        "  print(\"wrote: \" + name)\n",
        "\n",
        "  # print(f\"The answer is: \\\"{answer}\\\".\")\n",
        "  # print(f\"The model is confident with {confidence:.2f} probability.\")\n",
        "f.close()"
      ],
      "execution_count": null,
      "outputs": []
    }
  ]
}